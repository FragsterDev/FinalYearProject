{
  "nbformat": 4,
  "nbformat_minor": 0,
  "metadata": {
    "colab": {
      "provenance": [],
      "toc_visible": true
    },
    "kernelspec": {
      "name": "python3",
      "display_name": "Python 3"
    },
    "language_info": {
      "name": "python"
    }
  },
  "cells": [
    {
      "cell_type": "code",
      "source": [
        "# 1. Install system dependencies (GDAL for rasterio)\n",
        "!apt-get update && apt-get install -y \\\n",
        "    libgdal-dev \\\n",
        "    python3-gdal\n",
        "\n",
        "# 2. Install Python packages\n",
        "!pip install --upgrade \\\n",
        "    numpy \\\n",
        "    h5py \\\n",
        "    matplotlib \\\n",
        "    scikit-image \\\n",
        "    rasterio \\\n",
        "    tensorflow==2.12.0 \\\n",
        "    geopandas \\\n",
        "    folium \\\n",
        "    sklearn\n",
        "\n",
        "# 3. Special installation for GDAL-compatible rasterio\n",
        "!pip install --no-binary rasterio rasterio\n",
        "\n",
        "# 4. Verify installations\n",
        "import subprocess\n",
        "required_packages = [\n",
        "    ('numpy', '1.21.6'),\n",
        "    ('h5py', '3.7.0'),\n",
        "    ('rasterio', '1.3.6'),\n",
        "    ('tensorflow', '2.12.0')\n",
        "]\n",
        "\n",
        "print(\"\\nInstallation verification:\")\n",
        "for pkg, version in required_packages:\n",
        "    try:\n",
        "        installed = subprocess.getoutput(f\"pip show {pkg} | grep Version\")\n",
        "        print(f\"✓ {pkg}: {installed}\")\n",
        "    except:\n",
        "        print(f\"✗ {pkg} not installed correctly\")"
      ],
      "metadata": {
        "colab": {
          "base_uri": "https://localhost:8080/"
        },
        "id": "EOJ8mPEiadtJ",
        "outputId": "59af4376-111a-4a8a-8725-b20b36560566"
      },
      "execution_count": null,
      "outputs": [
        {
          "output_type": "stream",
          "name": "stdout",
          "text": [
            "\r0% [Working]\r            \rHit:1 https://developer.download.nvidia.com/compute/cuda/repos/ubuntu2204/x86_64  InRelease\n",
            "Get:2 https://cloud.r-project.org/bin/linux/ubuntu jammy-cran40/ InRelease [3,632 B]\n",
            "Get:3 http://security.ubuntu.com/ubuntu jammy-security InRelease [129 kB]\n",
            "Hit:4 http://archive.ubuntu.com/ubuntu jammy InRelease\n",
            "Get:5 https://r2u.stat.illinois.edu/ubuntu jammy InRelease [6,555 B]\n",
            "Get:6 http://archive.ubuntu.com/ubuntu jammy-updates InRelease [128 kB]\n",
            "Hit:7 https://ppa.launchpadcontent.net/deadsnakes/ppa/ubuntu jammy InRelease\n",
            "Hit:8 https://ppa.launchpadcontent.net/graphics-drivers/ppa/ubuntu jammy InRelease\n",
            "Get:9 https://r2u.stat.illinois.edu/ubuntu jammy/main all Packages [8,931 kB]\n",
            "Hit:10 https://ppa.launchpadcontent.net/ubuntugis/ppa/ubuntu jammy InRelease\n",
            "Get:11 http://security.ubuntu.com/ubuntu jammy-security/main amd64 Packages [2,901 kB]\n",
            "Get:12 http://archive.ubuntu.com/ubuntu jammy-backports InRelease [127 kB]\n",
            "Get:13 http://archive.ubuntu.com/ubuntu jammy-updates/universe amd64 Packages [1,546 kB]\n",
            "Get:14 http://security.ubuntu.com/ubuntu jammy-security/universe amd64 Packages [1,245 kB]\n",
            "Get:15 http://archive.ubuntu.com/ubuntu jammy-updates/main amd64 Packages [3,211 kB]\n",
            "Get:16 https://r2u.stat.illinois.edu/ubuntu jammy/main amd64 Packages [2,723 kB]\n",
            "Fetched 21.0 MB in 5s (4,428 kB/s)\n",
            "Reading package lists... Done\n",
            "W: Skipping acquire of configured file 'main/source/Sources' as repository 'https://r2u.stat.illinois.edu/ubuntu jammy InRelease' does not seem to provide it (sources.list entry misspelt?)\n",
            "Reading package lists... Done\n",
            "Building dependency tree... Done\n",
            "Reading state information... Done\n",
            "libgdal-dev is already the newest version (3.6.4+dfsg-1~jammy0).\n",
            "Suggested packages:\n",
            "  gdal-bin python-numpy-doc python3-pytest\n",
            "The following NEW packages will be installed:\n",
            "  python3-gdal python3-numpy\n",
            "0 upgraded, 2 newly installed, 0 to remove and 35 not upgraded.\n",
            "Need to get 4,494 kB of archives.\n",
            "After this operation, 23.9 MB of additional disk space will be used.\n",
            "Get:1 http://archive.ubuntu.com/ubuntu jammy-updates/main amd64 python3-numpy amd64 1:1.21.5-1ubuntu22.04.1 [3,467 kB]\n",
            "Get:2 https://ppa.launchpadcontent.net/ubuntugis/ppa/ubuntu jammy/main amd64 python3-gdal amd64 3.6.4+dfsg-1~jammy0 [1,027 kB]\n",
            "Fetched 4,494 kB in 2s (1,967 kB/s)\n",
            "Selecting previously unselected package python3-numpy.\n",
            "(Reading database ... 126102 files and directories currently installed.)\n",
            "Preparing to unpack .../python3-numpy_1%3a1.21.5-1ubuntu22.04.1_amd64.deb ...\n",
            "Unpacking python3-numpy (1:1.21.5-1ubuntu22.04.1) ...\n",
            "Selecting previously unselected package python3-gdal.\n",
            "Preparing to unpack .../python3-gdal_3.6.4+dfsg-1~jammy0_amd64.deb ...\n",
            "Unpacking python3-gdal (3.6.4+dfsg-1~jammy0) ...\n",
            "Setting up python3-numpy (1:1.21.5-1ubuntu22.04.1) ...\n",
            "Setting up python3-gdal (3.6.4+dfsg-1~jammy0) ...\n",
            "Requirement already satisfied: numpy in /usr/local/lib/python3.11/dist-packages (2.0.2)\n",
            "Collecting numpy\n",
            "  Downloading numpy-2.2.5-cp311-cp311-manylinux_2_17_x86_64.manylinux2014_x86_64.whl.metadata (62 kB)\n",
            "\u001b[2K     \u001b[90m━━━━━━━━━━━━━━━━━━━━━━━━━━━━━━━━━━━━━━━━\u001b[0m \u001b[32m62.0/62.0 kB\u001b[0m \u001b[31m1.5 MB/s\u001b[0m eta \u001b[36m0:00:00\u001b[0m\n",
            "\u001b[?25hRequirement already satisfied: h5py in /usr/local/lib/python3.11/dist-packages (3.13.0)\n",
            "Requirement already satisfied: matplotlib in /usr/local/lib/python3.11/dist-packages (3.10.0)\n",
            "Collecting matplotlib\n",
            "  Downloading matplotlib-3.10.3-cp311-cp311-manylinux_2_17_x86_64.manylinux2014_x86_64.whl.metadata (11 kB)\n",
            "Requirement already satisfied: scikit-image in /usr/local/lib/python3.11/dist-packages (0.25.2)\n",
            "Collecting rasterio\n",
            "  Downloading rasterio-1.4.3-cp311-cp311-manylinux_2_17_x86_64.manylinux2014_x86_64.whl.metadata (9.1 kB)\n",
            "Collecting tensorflow==2.12.0\n",
            "  Downloading tensorflow-2.12.0-cp311-cp311-manylinux_2_17_x86_64.manylinux2014_x86_64.whl.metadata (3.4 kB)\n",
            "Requirement already satisfied: geopandas in /usr/local/lib/python3.11/dist-packages (1.0.1)\n",
            "Requirement already satisfied: folium in /usr/local/lib/python3.11/dist-packages (0.19.5)\n",
            "Collecting sklearn\n",
            "  Downloading sklearn-0.0.post12.tar.gz (2.6 kB)\n",
            "  \u001b[1;31merror\u001b[0m: \u001b[1msubprocess-exited-with-error\u001b[0m\n",
            "  \n",
            "  \u001b[31m×\u001b[0m \u001b[32mpython setup.py egg_info\u001b[0m did not run successfully.\n",
            "  \u001b[31m│\u001b[0m exit code: \u001b[1;36m1\u001b[0m\n",
            "  \u001b[31m╰─>\u001b[0m See above for output.\n",
            "  \n",
            "  \u001b[1;35mnote\u001b[0m: This error originates from a subprocess, and is likely not a problem with pip.\n",
            "  Preparing metadata (setup.py) ... \u001b[?25l\u001b[?25herror\n",
            "\u001b[1;31merror\u001b[0m: \u001b[1mmetadata-generation-failed\u001b[0m\n",
            "\n",
            "\u001b[31m×\u001b[0m Encountered error while generating package metadata.\n",
            "\u001b[31m╰─>\u001b[0m See above for output.\n",
            "\n",
            "\u001b[1;35mnote\u001b[0m: This is an issue with the package mentioned above, not pip.\n",
            "\u001b[1;36mhint\u001b[0m: See above for details.\n",
            "Collecting rasterio\n",
            "  Downloading rasterio-1.4.3.tar.gz (442 kB)\n",
            "\u001b[2K     \u001b[90m━━━━━━━━━━━━━━━━━━━━━━━━━━━━━━━━━━━━━━━\u001b[0m \u001b[32m443.0/443.0 kB\u001b[0m \u001b[31m7.0 MB/s\u001b[0m eta \u001b[36m0:00:00\u001b[0m\n",
            "\u001b[?25h  Installing build dependencies ... \u001b[?25l\u001b[?25hdone\n",
            "  Getting requirements to build wheel ... \u001b[?25l\u001b[?25hdone\n",
            "  Preparing metadata (pyproject.toml) ... \u001b[?25l\u001b[?25hdone\n",
            "Collecting affine (from rasterio)\n",
            "  Downloading affine-2.4.0-py3-none-any.whl.metadata (4.0 kB)\n",
            "Requirement already satisfied: attrs in /usr/local/lib/python3.11/dist-packages (from rasterio) (25.3.0)\n",
            "Requirement already satisfied: certifi in /usr/local/lib/python3.11/dist-packages (from rasterio) (2025.4.26)\n",
            "Requirement already satisfied: click>=4.0 in /usr/local/lib/python3.11/dist-packages (from rasterio) (8.1.8)\n",
            "Collecting cligj>=0.5 (from rasterio)\n",
            "  Downloading cligj-0.7.2-py3-none-any.whl.metadata (5.0 kB)\n",
            "Requirement already satisfied: numpy>=1.24 in /usr/local/lib/python3.11/dist-packages (from rasterio) (2.0.2)\n",
            "Collecting click-plugins (from rasterio)\n",
            "  Downloading click_plugins-1.1.1-py2.py3-none-any.whl.metadata (6.4 kB)\n",
            "Requirement already satisfied: pyparsing in /usr/local/lib/python3.11/dist-packages (from rasterio) (3.2.3)\n",
            "Downloading cligj-0.7.2-py3-none-any.whl (7.1 kB)\n",
            "Downloading affine-2.4.0-py3-none-any.whl (15 kB)\n",
            "Downloading click_plugins-1.1.1-py2.py3-none-any.whl (7.5 kB)\n",
            "Building wheels for collected packages: rasterio\n",
            "  Building wheel for rasterio (pyproject.toml) ... \u001b[?25l\u001b[?25hdone\n",
            "  Created wheel for rasterio: filename=rasterio-1.4.3-cp311-cp311-linux_x86_64.whl size=8847985 sha256=668dea8c05cceb4249eebb40a07a3eef3627fcde6a9b1818fe010938b3b783e4\n",
            "  Stored in directory: /root/.cache/pip/wheels/5a/ae/f5/3db625b37aa4b3a537bbb0cf9e4a1e5419ee39c36c2cf9bdd2\n",
            "Successfully built rasterio\n",
            "Installing collected packages: cligj, click-plugins, affine, rasterio\n",
            "Successfully installed affine-2.4.0 click-plugins-1.1.1 cligj-0.7.2 rasterio-1.4.3\n",
            "\n",
            "Installation verification:\n",
            "✓ numpy: Version: 2.0.2\n",
            "Version 3.1, 31 March 2009\n",
            "                       Version 3, 29 June 2007\n",
            "  5. Conveying Modified Source Versions.\n",
            "  14. Revised Versions of this License.\n",
            "✓ h5py: Version: 3.13.0\n",
            "✓ rasterio: Version: 1.4.3\n",
            "✓ tensorflow: Version: 2.18.0\n"
          ]
        }
      ]
    },
    {
      "cell_type": "code",
      "source": [
        "# First uninstall existing version\n",
        "!pip uninstall -y tensorflow keras\n",
        "\n",
        "# Install compatible version (match your training environment)\n",
        "!pip install tensorflow==2.12.0\n",
        "\n",
        "# Then restart your runtime\n",
        "from google.colab import runtime\n",
        "runtime.restart()"
      ],
      "metadata": {
        "colab": {
          "base_uri": "https://localhost:8080/",
          "height": 1000
        },
        "id": "PUsjyc-QcKP0",
        "outputId": "b72fdebe-89b3-4025-9bb1-49173c4619ee"
      },
      "execution_count": null,
      "outputs": [
        {
          "output_type": "stream",
          "name": "stdout",
          "text": [
            "Found existing installation: tensorflow 2.18.0\n",
            "Uninstalling tensorflow-2.18.0:\n",
            "  Successfully uninstalled tensorflow-2.18.0\n",
            "Found existing installation: keras 3.8.0\n",
            "Uninstalling keras-3.8.0:\n",
            "  Successfully uninstalled keras-3.8.0\n",
            "Collecting tensorflow==2.12.0\n",
            "  Using cached tensorflow-2.12.0-cp311-cp311-manylinux_2_17_x86_64.manylinux2014_x86_64.whl.metadata (3.4 kB)\n",
            "Requirement already satisfied: absl-py>=1.0.0 in /usr/local/lib/python3.11/dist-packages (from tensorflow==2.12.0) (1.4.0)\n",
            "Requirement already satisfied: astunparse>=1.6.0 in /usr/local/lib/python3.11/dist-packages (from tensorflow==2.12.0) (1.6.3)\n",
            "Requirement already satisfied: flatbuffers>=2.0 in /usr/local/lib/python3.11/dist-packages (from tensorflow==2.12.0) (25.2.10)\n",
            "Collecting gast<=0.4.0,>=0.2.1 (from tensorflow==2.12.0)\n",
            "  Downloading gast-0.4.0-py3-none-any.whl.metadata (1.1 kB)\n",
            "Requirement already satisfied: google-pasta>=0.1.1 in /usr/local/lib/python3.11/dist-packages (from tensorflow==2.12.0) (0.2.0)\n",
            "Requirement already satisfied: grpcio<2.0,>=1.24.3 in /usr/local/lib/python3.11/dist-packages (from tensorflow==2.12.0) (1.71.0)\n",
            "Requirement already satisfied: h5py>=2.9.0 in /usr/local/lib/python3.11/dist-packages (from tensorflow==2.12.0) (3.13.0)\n",
            "Requirement already satisfied: jax>=0.3.15 in /usr/local/lib/python3.11/dist-packages (from tensorflow==2.12.0) (0.5.2)\n",
            "Collecting keras<2.13,>=2.12.0 (from tensorflow==2.12.0)\n",
            "  Downloading keras-2.12.0-py2.py3-none-any.whl.metadata (1.4 kB)\n",
            "Requirement already satisfied: libclang>=13.0.0 in /usr/local/lib/python3.11/dist-packages (from tensorflow==2.12.0) (18.1.1)\n",
            "Collecting numpy<1.24,>=1.22 (from tensorflow==2.12.0)\n",
            "  Downloading numpy-1.23.5-cp311-cp311-manylinux_2_17_x86_64.manylinux2014_x86_64.whl.metadata (2.3 kB)\n",
            "Requirement already satisfied: opt-einsum>=2.3.2 in /usr/local/lib/python3.11/dist-packages (from tensorflow==2.12.0) (3.4.0)\n",
            "Requirement already satisfied: packaging in /usr/local/lib/python3.11/dist-packages (from tensorflow==2.12.0) (24.2)\n",
            "Collecting protobuf!=4.21.0,!=4.21.1,!=4.21.2,!=4.21.3,!=4.21.4,!=4.21.5,<5.0.0dev,>=3.20.3 (from tensorflow==2.12.0)\n",
            "  Downloading protobuf-4.25.7-cp37-abi3-manylinux2014_x86_64.whl.metadata (541 bytes)\n",
            "Requirement already satisfied: setuptools in /usr/local/lib/python3.11/dist-packages (from tensorflow==2.12.0) (75.2.0)\n",
            "Requirement already satisfied: six>=1.12.0 in /usr/local/lib/python3.11/dist-packages (from tensorflow==2.12.0) (1.17.0)\n",
            "Collecting tensorboard<2.13,>=2.12 (from tensorflow==2.12.0)\n",
            "  Downloading tensorboard-2.12.3-py3-none-any.whl.metadata (1.8 kB)\n",
            "Collecting tensorflow-estimator<2.13,>=2.12.0 (from tensorflow==2.12.0)\n",
            "  Downloading tensorflow_estimator-2.12.0-py2.py3-none-any.whl.metadata (1.3 kB)\n",
            "Requirement already satisfied: termcolor>=1.1.0 in /usr/local/lib/python3.11/dist-packages (from tensorflow==2.12.0) (3.1.0)\n",
            "Requirement already satisfied: typing-extensions>=3.6.6 in /usr/local/lib/python3.11/dist-packages (from tensorflow==2.12.0) (4.13.2)\n",
            "Collecting wrapt<1.15,>=1.11.0 (from tensorflow==2.12.0)\n",
            "  Downloading wrapt-1.14.1-cp311-cp311-manylinux_2_5_x86_64.manylinux1_x86_64.manylinux_2_17_x86_64.manylinux2014_x86_64.whl.metadata (6.7 kB)\n",
            "Requirement already satisfied: tensorflow-io-gcs-filesystem>=0.23.1 in /usr/local/lib/python3.11/dist-packages (from tensorflow==2.12.0) (0.37.1)\n",
            "Requirement already satisfied: wheel<1.0,>=0.23.0 in /usr/local/lib/python3.11/dist-packages (from astunparse>=1.6.0->tensorflow==2.12.0) (0.45.1)\n",
            "Requirement already satisfied: jaxlib<=0.5.2,>=0.5.1 in /usr/local/lib/python3.11/dist-packages (from jax>=0.3.15->tensorflow==2.12.0) (0.5.1)\n",
            "Requirement already satisfied: ml_dtypes>=0.4.0 in /usr/local/lib/python3.11/dist-packages (from jax>=0.3.15->tensorflow==2.12.0) (0.4.1)\n",
            "INFO: pip is looking at multiple versions of jax to determine which version is compatible with other requirements. This could take a while.\n",
            "Collecting jax>=0.3.15 (from tensorflow==2.12.0)\n",
            "  Downloading jax-0.6.0-py3-none-any.whl.metadata (22 kB)\n",
            "Collecting jaxlib<=0.6.0,>=0.6.0 (from jax>=0.3.15->tensorflow==2.12.0)\n",
            "  Downloading jaxlib-0.6.0-cp311-cp311-manylinux2014_x86_64.whl.metadata (1.2 kB)\n",
            "Collecting ml_dtypes>=0.5.0 (from jax>=0.3.15->tensorflow==2.12.0)\n",
            "  Downloading ml_dtypes-0.5.1-cp311-cp311-manylinux_2_17_x86_64.manylinux2014_x86_64.whl.metadata (21 kB)\n",
            "Collecting jax>=0.3.15 (from tensorflow==2.12.0)\n",
            "  Downloading jax-0.5.3-py3-none-any.whl.metadata (22 kB)\n",
            "Collecting jaxlib<=0.5.3,>=0.5.3 (from jax>=0.3.15->tensorflow==2.12.0)\n",
            "  Downloading jaxlib-0.5.3-cp311-cp311-manylinux2014_x86_64.whl.metadata (1.2 kB)\n",
            "Collecting jax>=0.3.15 (from tensorflow==2.12.0)\n",
            "  Downloading jax-0.5.1-py3-none-any.whl.metadata (22 kB)\n",
            "  Downloading jax-0.5.0-py3-none-any.whl.metadata (22 kB)\n",
            "Collecting jaxlib<=0.5.0,>=0.5.0 (from jax>=0.3.15->tensorflow==2.12.0)\n",
            "  Downloading jaxlib-0.5.0-cp311-cp311-manylinux2014_x86_64.whl.metadata (978 bytes)\n",
            "Collecting jax>=0.3.15 (from tensorflow==2.12.0)\n",
            "  Downloading jax-0.4.38-py3-none-any.whl.metadata (22 kB)\n",
            "Collecting jaxlib<=0.4.38,>=0.4.38 (from jax>=0.3.15->tensorflow==2.12.0)\n",
            "  Downloading jaxlib-0.4.38-cp311-cp311-manylinux2014_x86_64.whl.metadata (1.0 kB)\n",
            "Collecting jax>=0.3.15 (from tensorflow==2.12.0)\n",
            "  Downloading jax-0.4.37-py3-none-any.whl.metadata (22 kB)\n",
            "Collecting jaxlib<=0.4.37,>=0.4.36 (from jax>=0.3.15->tensorflow==2.12.0)\n",
            "  Downloading jaxlib-0.4.36-cp311-cp311-manylinux2014_x86_64.whl.metadata (1.0 kB)\n",
            "Collecting jax>=0.3.15 (from tensorflow==2.12.0)\n",
            "  Downloading jax-0.4.36-py3-none-any.whl.metadata (22 kB)\n",
            "INFO: pip is still looking at multiple versions of jax to determine which version is compatible with other requirements. This could take a while.\n",
            "  Downloading jax-0.4.35-py3-none-any.whl.metadata (22 kB)\n",
            "Collecting jaxlib<=0.4.35,>=0.4.34 (from jax>=0.3.15->tensorflow==2.12.0)\n",
            "  Downloading jaxlib-0.4.35-cp311-cp311-manylinux2014_x86_64.whl.metadata (983 bytes)\n",
            "Collecting jax>=0.3.15 (from tensorflow==2.12.0)\n",
            "  Downloading jax-0.4.34-py3-none-any.whl.metadata (22 kB)\n",
            "Collecting jaxlib<=0.4.34,>=0.4.34 (from jax>=0.3.15->tensorflow==2.12.0)\n",
            "  Downloading jaxlib-0.4.34-cp311-cp311-manylinux2014_x86_64.whl.metadata (983 bytes)\n",
            "Collecting jax>=0.3.15 (from tensorflow==2.12.0)\n",
            "  Downloading jax-0.4.33-py3-none-any.whl.metadata (22 kB)\n",
            "Collecting jaxlib<=0.4.33,>=0.4.33 (from jax>=0.3.15->tensorflow==2.12.0)\n",
            "  Downloading jaxlib-0.4.33-cp311-cp311-manylinux2014_x86_64.whl.metadata (983 bytes)\n",
            "Collecting jax>=0.3.15 (from tensorflow==2.12.0)\n",
            "  Downloading jax-0.4.31-py3-none-any.whl.metadata (22 kB)\n",
            "Collecting jaxlib<=0.4.31,>=0.4.30 (from jax>=0.3.15->tensorflow==2.12.0)\n",
            "  Downloading jaxlib-0.4.31-cp311-cp311-manylinux2014_x86_64.whl.metadata (983 bytes)\n",
            "Collecting jax>=0.3.15 (from tensorflow==2.12.0)\n",
            "  Downloading jax-0.4.30-py3-none-any.whl.metadata (22 kB)\n",
            "Collecting jaxlib<=0.4.30,>=0.4.27 (from jax>=0.3.15->tensorflow==2.12.0)\n",
            "  Downloading jaxlib-0.4.30-cp311-cp311-manylinux2014_x86_64.whl.metadata (1.0 kB)\n",
            "Requirement already satisfied: scipy>=1.9 in /usr/local/lib/python3.11/dist-packages (from jax>=0.3.15->tensorflow==2.12.0) (1.15.2)\n",
            "Requirement already satisfied: google-auth<3,>=1.6.3 in /usr/local/lib/python3.11/dist-packages (from tensorboard<2.13,>=2.12->tensorflow==2.12.0) (2.38.0)\n",
            "Collecting google-auth-oauthlib<1.1,>=0.5 (from tensorboard<2.13,>=2.12->tensorflow==2.12.0)\n",
            "  Downloading google_auth_oauthlib-1.0.0-py2.py3-none-any.whl.metadata (2.7 kB)\n",
            "Requirement already satisfied: markdown>=2.6.8 in /usr/local/lib/python3.11/dist-packages (from tensorboard<2.13,>=2.12->tensorflow==2.12.0) (3.8)\n",
            "Requirement already satisfied: requests<3,>=2.21.0 in /usr/local/lib/python3.11/dist-packages (from tensorboard<2.13,>=2.12->tensorflow==2.12.0) (2.32.3)\n",
            "Requirement already satisfied: tensorboard-data-server<0.8.0,>=0.7.0 in /usr/local/lib/python3.11/dist-packages (from tensorboard<2.13,>=2.12->tensorflow==2.12.0) (0.7.2)\n",
            "Requirement already satisfied: werkzeug>=1.0.1 in /usr/local/lib/python3.11/dist-packages (from tensorboard<2.13,>=2.12->tensorflow==2.12.0) (3.1.3)\n",
            "Requirement already satisfied: cachetools<6.0,>=2.0.0 in /usr/local/lib/python3.11/dist-packages (from google-auth<3,>=1.6.3->tensorboard<2.13,>=2.12->tensorflow==2.12.0) (5.5.2)\n",
            "Requirement already satisfied: pyasn1-modules>=0.2.1 in /usr/local/lib/python3.11/dist-packages (from google-auth<3,>=1.6.3->tensorboard<2.13,>=2.12->tensorflow==2.12.0) (0.4.2)\n",
            "Requirement already satisfied: rsa<5,>=3.1.4 in /usr/local/lib/python3.11/dist-packages (from google-auth<3,>=1.6.3->tensorboard<2.13,>=2.12->tensorflow==2.12.0) (4.9.1)\n",
            "Requirement already satisfied: requests-oauthlib>=0.7.0 in /usr/local/lib/python3.11/dist-packages (from google-auth-oauthlib<1.1,>=0.5->tensorboard<2.13,>=2.12->tensorflow==2.12.0) (2.0.0)\n",
            "Requirement already satisfied: charset-normalizer<4,>=2 in /usr/local/lib/python3.11/dist-packages (from requests<3,>=2.21.0->tensorboard<2.13,>=2.12->tensorflow==2.12.0) (3.4.1)\n",
            "Requirement already satisfied: idna<4,>=2.5 in /usr/local/lib/python3.11/dist-packages (from requests<3,>=2.21.0->tensorboard<2.13,>=2.12->tensorflow==2.12.0) (3.10)\n",
            "Requirement already satisfied: urllib3<3,>=1.21.1 in /usr/local/lib/python3.11/dist-packages (from requests<3,>=2.21.0->tensorboard<2.13,>=2.12->tensorflow==2.12.0) (2.4.0)\n",
            "Requirement already satisfied: certifi>=2017.4.17 in /usr/local/lib/python3.11/dist-packages (from requests<3,>=2.21.0->tensorboard<2.13,>=2.12->tensorflow==2.12.0) (2025.4.26)\n",
            "Requirement already satisfied: MarkupSafe>=2.1.1 in /usr/local/lib/python3.11/dist-packages (from werkzeug>=1.0.1->tensorboard<2.13,>=2.12->tensorflow==2.12.0) (3.0.2)\n",
            "Requirement already satisfied: pyasn1<0.7.0,>=0.6.1 in /usr/local/lib/python3.11/dist-packages (from pyasn1-modules>=0.2.1->google-auth<3,>=1.6.3->tensorboard<2.13,>=2.12->tensorflow==2.12.0) (0.6.1)\n",
            "Requirement already satisfied: oauthlib>=3.0.0 in /usr/local/lib/python3.11/dist-packages (from requests-oauthlib>=0.7.0->google-auth-oauthlib<1.1,>=0.5->tensorboard<2.13,>=2.12->tensorflow==2.12.0) (3.2.2)\n",
            "Downloading tensorflow-2.12.0-cp311-cp311-manylinux_2_17_x86_64.manylinux2014_x86_64.whl (586.0 MB)\n",
            "\u001b[2K   \u001b[90m━━━━━━━━━━━━━━━━━━━━━━━━━━━━━━━━━━━━━━━━\u001b[0m \u001b[32m586.0/586.0 MB\u001b[0m \u001b[31m3.1 MB/s\u001b[0m eta \u001b[36m0:00:00\u001b[0m\n",
            "\u001b[?25hDownloading gast-0.4.0-py3-none-any.whl (9.8 kB)\n",
            "Downloading jax-0.4.30-py3-none-any.whl (2.0 MB)\n",
            "\u001b[2K   \u001b[90m━━━━━━━━━━━━━━━━━━━━━━━━━━━━━━━━━━━━━━━━\u001b[0m \u001b[32m2.0/2.0 MB\u001b[0m \u001b[31m73.7 MB/s\u001b[0m eta \u001b[36m0:00:00\u001b[0m\n",
            "\u001b[?25hDownloading keras-2.12.0-py2.py3-none-any.whl (1.7 MB)\n",
            "\u001b[2K   \u001b[90m━━━━━━━━━━━━━━━━━━━━━━━━━━━━━━━━━━━━━━━━\u001b[0m \u001b[32m1.7/1.7 MB\u001b[0m \u001b[31m57.4 MB/s\u001b[0m eta \u001b[36m0:00:00\u001b[0m\n",
            "\u001b[?25hDownloading numpy-1.23.5-cp311-cp311-manylinux_2_17_x86_64.manylinux2014_x86_64.whl (17.1 MB)\n",
            "\u001b[2K   \u001b[90m━━━━━━━━━━━━━━━━━━━━━━━━━━━━━━━━━━━━━━━━\u001b[0m \u001b[32m17.1/17.1 MB\u001b[0m \u001b[31m69.5 MB/s\u001b[0m eta \u001b[36m0:00:00\u001b[0m\n",
            "\u001b[?25hDownloading protobuf-4.25.7-cp37-abi3-manylinux2014_x86_64.whl (294 kB)\n",
            "\u001b[2K   \u001b[90m━━━━━━━━━━━━━━━━━━━━━━━━━━━━━━━━━━━━━━━━\u001b[0m \u001b[32m294.6/294.6 kB\u001b[0m \u001b[31m19.1 MB/s\u001b[0m eta \u001b[36m0:00:00\u001b[0m\n",
            "\u001b[?25hDownloading tensorboard-2.12.3-py3-none-any.whl (5.6 MB)\n",
            "\u001b[2K   \u001b[90m━━━━━━━━━━━━━━━━━━━━━━━━━━━━━━━━━━━━━━━━\u001b[0m \u001b[32m5.6/5.6 MB\u001b[0m \u001b[31m31.3 MB/s\u001b[0m eta \u001b[36m0:00:00\u001b[0m\n",
            "\u001b[?25hDownloading tensorflow_estimator-2.12.0-py2.py3-none-any.whl (440 kB)\n",
            "\u001b[2K   \u001b[90m━━━━━━━━━━━━━━━━━━━━━━━━━━━━━━━━━━━━━━━━\u001b[0m \u001b[32m440.7/440.7 kB\u001b[0m \u001b[31m28.2 MB/s\u001b[0m eta \u001b[36m0:00:00\u001b[0m\n",
            "\u001b[?25hDownloading wrapt-1.14.1-cp311-cp311-manylinux_2_5_x86_64.manylinux1_x86_64.manylinux_2_17_x86_64.manylinux2014_x86_64.whl (78 kB)\n",
            "\u001b[2K   \u001b[90m━━━━━━━━━━━━━━━━━━━━━━━━━━━━━━━━━━━━━━━━\u001b[0m \u001b[32m78.4/78.4 kB\u001b[0m \u001b[31m5.6 MB/s\u001b[0m eta \u001b[36m0:00:00\u001b[0m\n",
            "\u001b[?25hDownloading google_auth_oauthlib-1.0.0-py2.py3-none-any.whl (18 kB)\n",
            "Downloading jaxlib-0.4.30-cp311-cp311-manylinux2014_x86_64.whl (79.6 MB)\n",
            "\u001b[2K   \u001b[90m━━━━━━━━━━━━━━━━━━━━━━━━━━━━━━━━━━━━━━━━\u001b[0m \u001b[32m79.6/79.6 MB\u001b[0m \u001b[31m9.5 MB/s\u001b[0m eta \u001b[36m0:00:00\u001b[0m\n",
            "\u001b[?25hInstalling collected packages: wrapt, tensorflow-estimator, protobuf, numpy, keras, gast, jaxlib, google-auth-oauthlib, tensorboard, jax, tensorflow\n",
            "  Attempting uninstall: wrapt\n",
            "    Found existing installation: wrapt 1.17.2\n",
            "    Uninstalling wrapt-1.17.2:\n",
            "      Successfully uninstalled wrapt-1.17.2\n",
            "  Attempting uninstall: protobuf\n",
            "    Found existing installation: protobuf 5.29.4\n",
            "    Uninstalling protobuf-5.29.4:\n",
            "      Successfully uninstalled protobuf-5.29.4\n",
            "  Attempting uninstall: numpy\n",
            "    Found existing installation: numpy 2.0.2\n",
            "    Uninstalling numpy-2.0.2:\n",
            "      Successfully uninstalled numpy-2.0.2\n",
            "  Attempting uninstall: gast\n",
            "    Found existing installation: gast 0.6.0\n",
            "    Uninstalling gast-0.6.0:\n",
            "      Successfully uninstalled gast-0.6.0\n",
            "  Attempting uninstall: jaxlib\n",
            "    Found existing installation: jaxlib 0.5.1\n",
            "    Uninstalling jaxlib-0.5.1:\n",
            "      Successfully uninstalled jaxlib-0.5.1\n",
            "  Attempting uninstall: google-auth-oauthlib\n",
            "    Found existing installation: google-auth-oauthlib 1.2.2\n",
            "    Uninstalling google-auth-oauthlib-1.2.2:\n",
            "      Successfully uninstalled google-auth-oauthlib-1.2.2\n",
            "  Attempting uninstall: tensorboard\n",
            "    Found existing installation: tensorboard 2.18.0\n",
            "    Uninstalling tensorboard-2.18.0:\n",
            "      Successfully uninstalled tensorboard-2.18.0\n",
            "  Attempting uninstall: jax\n",
            "    Found existing installation: jax 0.5.2\n",
            "    Uninstalling jax-0.5.2:\n",
            "      Successfully uninstalled jax-0.5.2\n",
            "\u001b[31mERROR: pip's dependency resolver does not currently take into account all the packages that are installed. This behaviour is the source of the following dependency conflicts.\n",
            "rasterio 1.4.3 requires numpy>=1.24, but you have numpy 1.23.5 which is incompatible.\n",
            "tensorflow-text 2.18.1 requires tensorflow<2.19,>=2.18.0, but you have tensorflow 2.12.0 which is incompatible.\n",
            "blosc2 3.3.2 requires numpy>=1.26, but you have numpy 1.23.5 which is incompatible.\n",
            "imbalanced-learn 0.13.0 requires numpy<3,>=1.24.3, but you have numpy 1.23.5 which is incompatible.\n",
            "thinc 8.3.6 requires numpy<3.0.0,>=2.0.0, but you have numpy 1.23.5 which is incompatible.\n",
            "treescope 0.1.9 requires numpy>=1.25.2, but you have numpy 1.23.5 which is incompatible.\n",
            "tf-keras 2.18.0 requires tensorflow<2.19,>=2.18, but you have tensorflow 2.12.0 which is incompatible.\n",
            "scikit-image 0.25.2 requires numpy>=1.24, but you have numpy 1.23.5 which is incompatible.\n",
            "bigframes 2.1.0 requires numpy>=1.24.0, but you have numpy 1.23.5 which is incompatible.\n",
            "xarray 2025.3.1 requires numpy>=1.24, but you have numpy 1.23.5 which is incompatible.\n",
            "pymc 5.22.0 requires numpy>=1.25.0, but you have numpy 1.23.5 which is incompatible.\n",
            "grpcio-status 1.71.0 requires protobuf<6.0dev,>=5.26.1, but you have protobuf 4.25.7 which is incompatible.\n",
            "flax 0.10.6 requires jax>=0.5.1, but you have jax 0.4.30 which is incompatible.\n",
            "albumentations 2.0.6 requires numpy>=1.24.4, but you have numpy 1.23.5 which is incompatible.\n",
            "albucore 0.0.24 requires numpy>=1.24.4, but you have numpy 1.23.5 which is incompatible.\n",
            "orbax-checkpoint 0.11.13 requires jax>=0.5.0, but you have jax 0.4.30 which is incompatible.\n",
            "ydf 0.11.0 requires protobuf<6.0.0,>=5.29.1, but you have protobuf 4.25.7 which is incompatible.\n",
            "tensorflow-decision-forests 1.11.0 requires tensorflow==2.18.0, but you have tensorflow 2.12.0 which is incompatible.\n",
            "chex 0.1.89 requires numpy>=1.24.1, but you have numpy 1.23.5 which is incompatible.\u001b[0m\u001b[31m\n",
            "\u001b[0mSuccessfully installed gast-0.4.0 google-auth-oauthlib-1.0.0 jax-0.4.30 jaxlib-0.4.30 keras-2.12.0 numpy-1.23.5 protobuf-4.25.7 tensorboard-2.12.3 tensorflow-2.12.0 tensorflow-estimator-2.12.0 wrapt-1.14.1\n"
          ]
        },
        {
          "output_type": "display_data",
          "data": {
            "application/vnd.colab-display-data+json": {
              "pip_warning": {
                "packages": [
                  "gast",
                  "jax",
                  "jaxlib",
                  "keras",
                  "numpy",
                  "tensorflow",
                  "wrapt"
                ]
              },
              "id": "b0dcca581e654435a05e6cfdae5ec8b7"
            }
          },
          "metadata": {}
        },
        {
          "output_type": "error",
          "ename": "AttributeError",
          "evalue": "module 'google.colab.runtime' has no attribute 'restart'",
          "traceback": [
            "\u001b[0;31m---------------------------------------------------------------------------\u001b[0m",
            "\u001b[0;31mAttributeError\u001b[0m                            Traceback (most recent call last)",
            "\u001b[0;32m<ipython-input-4-cab93a2975e7>\u001b[0m in \u001b[0;36m<cell line: 0>\u001b[0;34m()\u001b[0m\n\u001b[1;32m      7\u001b[0m \u001b[0;31m# Then restart your runtime\u001b[0m\u001b[0;34m\u001b[0m\u001b[0;34m\u001b[0m\u001b[0m\n\u001b[1;32m      8\u001b[0m \u001b[0;32mfrom\u001b[0m \u001b[0mgoogle\u001b[0m\u001b[0;34m.\u001b[0m\u001b[0mcolab\u001b[0m \u001b[0;32mimport\u001b[0m \u001b[0mruntime\u001b[0m\u001b[0;34m\u001b[0m\u001b[0;34m\u001b[0m\u001b[0m\n\u001b[0;32m----> 9\u001b[0;31m \u001b[0mruntime\u001b[0m\u001b[0;34m.\u001b[0m\u001b[0mrestart\u001b[0m\u001b[0;34m(\u001b[0m\u001b[0;34m)\u001b[0m\u001b[0;34m\u001b[0m\u001b[0;34m\u001b[0m\u001b[0m\n\u001b[0m",
            "\u001b[0;31mAttributeError\u001b[0m: module 'google.colab.runtime' has no attribute 'restart'"
          ]
        }
      ]
    },
    {
      "cell_type": "code",
      "execution_count": null,
      "metadata": {
        "colab": {
          "base_uri": "https://localhost:8080/",
          "height": 1000
        },
        "id": "OQ12YQT1ZDuT",
        "outputId": "0c8faa4d-df98-41c8-a2ee-e2f5b4d44c7f"
      },
      "outputs": [
        {
          "output_type": "stream",
          "name": "stdout",
          "text": [
            "Drive already mounted at /content/drive; to attempt to forcibly remount, call drive.mount(\"/content/drive\", force_remount=True).\n",
            "Memory usage: 826.38 MB\n",
            "Image dimensions: 12246 x 13372\n",
            "Coordinate bounds: BoundingBox(left=87.89997088803835, bottom=26.99994384255316, right=89.00004778497112, top=28.201171040477785)\n",
            "CRS: EPSG:4326\n",
            "Memory usage: 826.38 MB\n",
            "Loading model...\n",
            "Memory usage: 843.21 MB\n",
            "Model: \"model\"\n",
            "__________________________________________________________________________________________________\n",
            " Layer (type)                   Output Shape         Param #     Connected to                     \n",
            "==================================================================================================\n",
            " input_1 (InputLayer)           [(None, 128, 128, 6  0           []                               \n",
            "                                )]                                                                \n",
            "                                                                                                  \n",
            " conv2d (Conv2D)                (None, 128, 128, 16  880         ['input_1[0][0]']                \n",
            "                                )                                                                 \n",
            "                                                                                                  \n",
            " dropout (Dropout)              (None, 128, 128, 16  0           ['conv2d[0][0]']                 \n",
            "                                )                                                                 \n",
            "                                                                                                  \n",
            " conv2d_1 (Conv2D)              (None, 128, 128, 16  2320        ['dropout[0][0]']                \n",
            "                                )                                                                 \n",
            "                                                                                                  \n",
            " max_pooling2d (MaxPooling2D)   (None, 64, 64, 16)   0           ['conv2d_1[0][0]']               \n",
            "                                                                                                  \n",
            " conv2d_2 (Conv2D)              (None, 64, 64, 32)   4640        ['max_pooling2d[0][0]']          \n",
            "                                                                                                  \n",
            " dropout_1 (Dropout)            (None, 64, 64, 32)   0           ['conv2d_2[0][0]']               \n",
            "                                                                                                  \n",
            " conv2d_3 (Conv2D)              (None, 64, 64, 32)   9248        ['dropout_1[0][0]']              \n",
            "                                                                                                  \n",
            " max_pooling2d_1 (MaxPooling2D)  (None, 32, 32, 32)  0           ['conv2d_3[0][0]']               \n",
            "                                                                                                  \n",
            " conv2d_4 (Conv2D)              (None, 32, 32, 64)   18496       ['max_pooling2d_1[0][0]']        \n",
            "                                                                                                  \n",
            " dropout_2 (Dropout)            (None, 32, 32, 64)   0           ['conv2d_4[0][0]']               \n",
            "                                                                                                  \n",
            " conv2d_5 (Conv2D)              (None, 32, 32, 64)   36928       ['dropout_2[0][0]']              \n",
            "                                                                                                  \n",
            " max_pooling2d_2 (MaxPooling2D)  (None, 16, 16, 64)  0           ['conv2d_5[0][0]']               \n",
            "                                                                                                  \n",
            " conv2d_6 (Conv2D)              (None, 16, 16, 128)  73856       ['max_pooling2d_2[0][0]']        \n",
            "                                                                                                  \n",
            " dropout_3 (Dropout)            (None, 16, 16, 128)  0           ['conv2d_6[0][0]']               \n",
            "                                                                                                  \n",
            " conv2d_7 (Conv2D)              (None, 16, 16, 128)  147584      ['dropout_3[0][0]']              \n",
            "                                                                                                  \n",
            " max_pooling2d_3 (MaxPooling2D)  (None, 8, 8, 128)   0           ['conv2d_7[0][0]']               \n",
            "                                                                                                  \n",
            " conv2d_8 (Conv2D)              (None, 8, 8, 256)    295168      ['max_pooling2d_3[0][0]']        \n",
            "                                                                                                  \n",
            " dropout_4 (Dropout)            (None, 8, 8, 256)    0           ['conv2d_8[0][0]']               \n",
            "                                                                                                  \n",
            " conv2d_9 (Conv2D)              (None, 8, 8, 256)    590080      ['dropout_4[0][0]']              \n",
            "                                                                                                  \n",
            " conv2d_transpose (Conv2DTransp  (None, 16, 16, 128)  131200     ['conv2d_9[0][0]']               \n",
            " ose)                                                                                             \n",
            "                                                                                                  \n",
            " concatenate (Concatenate)      (None, 16, 16, 256)  0           ['conv2d_transpose[0][0]',       \n",
            "                                                                  'conv2d_7[0][0]']               \n",
            "                                                                                                  \n",
            " conv2d_10 (Conv2D)             (None, 16, 16, 128)  295040      ['concatenate[0][0]']            \n",
            "                                                                                                  \n",
            " dropout_5 (Dropout)            (None, 16, 16, 128)  0           ['conv2d_10[0][0]']              \n",
            "                                                                                                  \n",
            " conv2d_11 (Conv2D)             (None, 16, 16, 128)  147584      ['dropout_5[0][0]']              \n",
            "                                                                                                  \n",
            " conv2d_transpose_1 (Conv2DTran  (None, 32, 32, 64)  32832       ['conv2d_11[0][0]']              \n",
            " spose)                                                                                           \n",
            "                                                                                                  \n",
            " concatenate_1 (Concatenate)    (None, 32, 32, 128)  0           ['conv2d_transpose_1[0][0]',     \n",
            "                                                                  'conv2d_5[0][0]']               \n",
            "                                                                                                  \n",
            " conv2d_12 (Conv2D)             (None, 32, 32, 64)   73792       ['concatenate_1[0][0]']          \n",
            "                                                                                                  \n",
            " dropout_6 (Dropout)            (None, 32, 32, 64)   0           ['conv2d_12[0][0]']              \n",
            "                                                                                                  \n",
            " conv2d_13 (Conv2D)             (None, 32, 32, 64)   36928       ['dropout_6[0][0]']              \n",
            "                                                                                                  \n",
            " conv2d_transpose_2 (Conv2DTran  (None, 64, 64, 32)  8224        ['conv2d_13[0][0]']              \n",
            " spose)                                                                                           \n",
            "                                                                                                  \n",
            " concatenate_2 (Concatenate)    (None, 64, 64, 64)   0           ['conv2d_transpose_2[0][0]',     \n",
            "                                                                  'conv2d_3[0][0]']               \n",
            "                                                                                                  \n",
            " conv2d_14 (Conv2D)             (None, 64, 64, 32)   18464       ['concatenate_2[0][0]']          \n",
            "                                                                                                  \n",
            " dropout_7 (Dropout)            (None, 64, 64, 32)   0           ['conv2d_14[0][0]']              \n",
            "                                                                                                  \n",
            " conv2d_15 (Conv2D)             (None, 64, 64, 32)   9248        ['dropout_7[0][0]']              \n",
            "                                                                                                  \n",
            " conv2d_transpose_3 (Conv2DTran  (None, 128, 128, 16  2064       ['conv2d_15[0][0]']              \n",
            " spose)                         )                                                                 \n",
            "                                                                                                  \n",
            " concatenate_3 (Concatenate)    (None, 128, 128, 32  0           ['conv2d_transpose_3[0][0]',     \n",
            "                                )                                 'conv2d_1[0][0]']               \n",
            "                                                                                                  \n",
            " conv2d_16 (Conv2D)             (None, 128, 128, 16  4624        ['concatenate_3[0][0]']          \n",
            "                                )                                                                 \n",
            "                                                                                                  \n",
            " dropout_8 (Dropout)            (None, 128, 128, 16  0           ['conv2d_16[0][0]']              \n",
            "                                )                                                                 \n",
            "                                                                                                  \n",
            " conv2d_17 (Conv2D)             (None, 128, 128, 16  2320        ['dropout_8[0][0]']              \n",
            "                                )                                                                 \n",
            "                                                                                                  \n",
            " conv2d_18 (Conv2D)             (None, 128, 128, 1)  17          ['conv2d_17[0][0]']              \n",
            "                                                                                                  \n",
            "==================================================================================================\n",
            "Total params: 1,941,537\n",
            "Trainable params: 1,941,537\n",
            "Non-trainable params: 0\n",
            "__________________________________________________________________________________________________\n",
            "Processing chunk at x=0, y=0\n",
            "Processing 9 x 9 = 81 patches in this chunk\n"
          ]
        },
        {
          "output_type": "stream",
          "name": "stderr",
          "text": [
            "<ipython-input-4-4172fa463fc8>:314: FutureWarning: `square` is deprecated since version 0.25 and will be removed in version 0.27. Use `skimage.morphology.footprint_rectangle` instead.\n",
            "  risk_chunk_cleaned = opening(risk_chunk, square(3))\n"
          ]
        },
        {
          "output_type": "stream",
          "name": "stdout",
          "text": [
            "Memory usage: 855.35 MB\n",
            "Processing chunk at x=1024, y=0\n",
            "Processing 9 x 9 = 81 patches in this chunk\n"
          ]
        },
        {
          "output_type": "stream",
          "name": "stderr",
          "text": [
            "<ipython-input-4-4172fa463fc8>:314: FutureWarning: `square` is deprecated since version 0.25 and will be removed in version 0.27. Use `skimage.morphology.footprint_rectangle` instead.\n",
            "  risk_chunk_cleaned = opening(risk_chunk, square(3))\n"
          ]
        },
        {
          "output_type": "stream",
          "name": "stdout",
          "text": [
            "Memory usage: 874.16 MB\n",
            "Processing chunk at x=2048, y=0\n",
            "Processing 9 x 9 = 81 patches in this chunk\n"
          ]
        },
        {
          "output_type": "stream",
          "name": "stderr",
          "text": [
            "<ipython-input-4-4172fa463fc8>:314: FutureWarning: `square` is deprecated since version 0.25 and will be removed in version 0.27. Use `skimage.morphology.footprint_rectangle` instead.\n",
            "  risk_chunk_cleaned = opening(risk_chunk, square(3))\n"
          ]
        },
        {
          "output_type": "stream",
          "name": "stdout",
          "text": [
            "Memory usage: 891.79 MB\n",
            "Processing chunk at x=3072, y=0\n",
            "Processing 9 x 9 = 81 patches in this chunk\n"
          ]
        },
        {
          "output_type": "stream",
          "name": "stderr",
          "text": [
            "<ipython-input-4-4172fa463fc8>:314: FutureWarning: `square` is deprecated since version 0.25 and will be removed in version 0.27. Use `skimage.morphology.footprint_rectangle` instead.\n",
            "  risk_chunk_cleaned = opening(risk_chunk, square(3))\n"
          ]
        },
        {
          "output_type": "stream",
          "name": "stdout",
          "text": [
            "Memory usage: 910.25 MB\n",
            "Processing chunk at x=4096, y=0\n",
            "Processing 9 x 9 = 81 patches in this chunk\n"
          ]
        },
        {
          "output_type": "stream",
          "name": "stderr",
          "text": [
            "<ipython-input-4-4172fa463fc8>:314: FutureWarning: `square` is deprecated since version 0.25 and will be removed in version 0.27. Use `skimage.morphology.footprint_rectangle` instead.\n",
            "  risk_chunk_cleaned = opening(risk_chunk, square(3))\n"
          ]
        },
        {
          "output_type": "stream",
          "name": "stdout",
          "text": [
            "Memory usage: 927.68 MB\n",
            "Processing chunk at x=5120, y=0\n",
            "Processing 9 x 9 = 81 patches in this chunk\n"
          ]
        },
        {
          "output_type": "stream",
          "name": "stderr",
          "text": [
            "<ipython-input-4-4172fa463fc8>:314: FutureWarning: `square` is deprecated since version 0.25 and will be removed in version 0.27. Use `skimage.morphology.footprint_rectangle` instead.\n",
            "  risk_chunk_cleaned = opening(risk_chunk, square(3))\n"
          ]
        },
        {
          "output_type": "stream",
          "name": "stdout",
          "text": [
            "Memory usage: 947.05 MB\n",
            "Processing chunk at x=6144, y=0\n",
            "Processing 9 x 9 = 81 patches in this chunk\n"
          ]
        },
        {
          "output_type": "stream",
          "name": "stderr",
          "text": [
            "<ipython-input-4-4172fa463fc8>:314: FutureWarning: `square` is deprecated since version 0.25 and will be removed in version 0.27. Use `skimage.morphology.footprint_rectangle` instead.\n",
            "  risk_chunk_cleaned = opening(risk_chunk, square(3))\n"
          ]
        },
        {
          "output_type": "stream",
          "name": "stdout",
          "text": [
            "Memory usage: 962.61 MB\n",
            "Processing chunk at x=7168, y=0\n",
            "Processing 9 x 9 = 81 patches in this chunk\n"
          ]
        },
        {
          "output_type": "stream",
          "name": "stderr",
          "text": [
            "<ipython-input-4-4172fa463fc8>:314: FutureWarning: `square` is deprecated since version 0.25 and will be removed in version 0.27. Use `skimage.morphology.footprint_rectangle` instead.\n",
            "  risk_chunk_cleaned = opening(risk_chunk, square(3))\n"
          ]
        },
        {
          "output_type": "stream",
          "name": "stdout",
          "text": [
            "Memory usage: 980.20 MB\n",
            "Processing chunk at x=8192, y=0\n",
            "Processing 9 x 9 = 81 patches in this chunk\n"
          ]
        },
        {
          "output_type": "stream",
          "name": "stderr",
          "text": [
            "<ipython-input-4-4172fa463fc8>:314: FutureWarning: `square` is deprecated since version 0.25 and will be removed in version 0.27. Use `skimage.morphology.footprint_rectangle` instead.\n",
            "  risk_chunk_cleaned = opening(risk_chunk, square(3))\n"
          ]
        },
        {
          "output_type": "stream",
          "name": "stdout",
          "text": [
            "Memory usage: 999.41 MB\n",
            "Processing chunk at x=9216, y=0\n",
            "Processing 9 x 9 = 81 patches in this chunk\n"
          ]
        },
        {
          "output_type": "stream",
          "name": "stderr",
          "text": [
            "<ipython-input-4-4172fa463fc8>:314: FutureWarning: `square` is deprecated since version 0.25 and will be removed in version 0.27. Use `skimage.morphology.footprint_rectangle` instead.\n",
            "  risk_chunk_cleaned = opening(risk_chunk, square(3))\n"
          ]
        },
        {
          "output_type": "stream",
          "name": "stdout",
          "text": [
            "Memory usage: 1015.12 MB\n",
            "Processing chunk at x=10240, y=0\n",
            "Processing 9 x 9 = 81 patches in this chunk\n"
          ]
        },
        {
          "output_type": "stream",
          "name": "stderr",
          "text": [
            "<ipython-input-4-4172fa463fc8>:314: FutureWarning: `square` is deprecated since version 0.25 and will be removed in version 0.27. Use `skimage.morphology.footprint_rectangle` instead.\n",
            "  risk_chunk_cleaned = opening(risk_chunk, square(3))\n"
          ]
        },
        {
          "output_type": "stream",
          "name": "stdout",
          "text": [
            "Memory usage: 1022.52 MB\n",
            "Processing chunk at x=11264, y=0\n",
            "Processing 9 x 9 = 81 patches in this chunk\n"
          ]
        },
        {
          "output_type": "stream",
          "name": "stderr",
          "text": [
            "<ipython-input-4-4172fa463fc8>:314: FutureWarning: `square` is deprecated since version 0.25 and will be removed in version 0.27. Use `skimage.morphology.footprint_rectangle` instead.\n",
            "  risk_chunk_cleaned = opening(risk_chunk, square(3))\n"
          ]
        },
        {
          "output_type": "stream",
          "name": "stdout",
          "text": [
            "Memory usage: 1052.11 MB\n",
            "Processing chunk at x=0, y=1024\n",
            "Processing 9 x 9 = 81 patches in this chunk\n"
          ]
        },
        {
          "output_type": "stream",
          "name": "stderr",
          "text": [
            "<ipython-input-4-4172fa463fc8>:314: FutureWarning: `square` is deprecated since version 0.25 and will be removed in version 0.27. Use `skimage.morphology.footprint_rectangle` instead.\n",
            "  risk_chunk_cleaned = opening(risk_chunk, square(3))\n"
          ]
        },
        {
          "output_type": "stream",
          "name": "stdout",
          "text": [
            "Memory usage: 1077.76 MB\n",
            "Processing chunk at x=1024, y=1024\n",
            "Processing 9 x 9 = 81 patches in this chunk\n"
          ]
        },
        {
          "output_type": "stream",
          "name": "stderr",
          "text": [
            "<ipython-input-4-4172fa463fc8>:314: FutureWarning: `square` is deprecated since version 0.25 and will be removed in version 0.27. Use `skimage.morphology.footprint_rectangle` instead.\n",
            "  risk_chunk_cleaned = opening(risk_chunk, square(3))\n"
          ]
        },
        {
          "output_type": "stream",
          "name": "stdout",
          "text": [
            "Memory usage: 1099.99 MB\n",
            "Processing chunk at x=2048, y=1024\n",
            "Processing 9 x 9 = 81 patches in this chunk\n"
          ]
        },
        {
          "output_type": "stream",
          "name": "stderr",
          "text": [
            "<ipython-input-4-4172fa463fc8>:314: FutureWarning: `square` is deprecated since version 0.25 and will be removed in version 0.27. Use `skimage.morphology.footprint_rectangle` instead.\n",
            "  risk_chunk_cleaned = opening(risk_chunk, square(3))\n"
          ]
        },
        {
          "output_type": "stream",
          "name": "stdout",
          "text": [
            "Memory usage: 1117.59 MB\n",
            "Processing chunk at x=3072, y=1024\n",
            "Processing 9 x 9 = 81 patches in this chunk\n"
          ]
        },
        {
          "output_type": "stream",
          "name": "stderr",
          "text": [
            "<ipython-input-4-4172fa463fc8>:314: FutureWarning: `square` is deprecated since version 0.25 and will be removed in version 0.27. Use `skimage.morphology.footprint_rectangle` instead.\n",
            "  risk_chunk_cleaned = opening(risk_chunk, square(3))\n"
          ]
        },
        {
          "output_type": "stream",
          "name": "stdout",
          "text": [
            "Memory usage: 1134.82 MB\n",
            "Processing chunk at x=4096, y=1024\n",
            "Processing 9 x 9 = 81 patches in this chunk\n"
          ]
        },
        {
          "output_type": "stream",
          "name": "stderr",
          "text": [
            "<ipython-input-4-4172fa463fc8>:314: FutureWarning: `square` is deprecated since version 0.25 and will be removed in version 0.27. Use `skimage.morphology.footprint_rectangle` instead.\n",
            "  risk_chunk_cleaned = opening(risk_chunk, square(3))\n"
          ]
        },
        {
          "output_type": "stream",
          "name": "stdout",
          "text": [
            "Memory usage: 1154.06 MB\n",
            "Processing chunk at x=5120, y=1024\n",
            "Processing 9 x 9 = 81 patches in this chunk\n"
          ]
        },
        {
          "output_type": "stream",
          "name": "stderr",
          "text": [
            "<ipython-input-4-4172fa463fc8>:314: FutureWarning: `square` is deprecated since version 0.25 and will be removed in version 0.27. Use `skimage.morphology.footprint_rectangle` instead.\n",
            "  risk_chunk_cleaned = opening(risk_chunk, square(3))\n"
          ]
        },
        {
          "output_type": "stream",
          "name": "stdout",
          "text": [
            "Memory usage: 1171.72 MB\n",
            "Processing chunk at x=6144, y=1024\n",
            "Processing 9 x 9 = 81 patches in this chunk\n"
          ]
        },
        {
          "output_type": "stream",
          "name": "stderr",
          "text": [
            "<ipython-input-4-4172fa463fc8>:314: FutureWarning: `square` is deprecated since version 0.25 and will be removed in version 0.27. Use `skimage.morphology.footprint_rectangle` instead.\n",
            "  risk_chunk_cleaned = opening(risk_chunk, square(3))\n"
          ]
        },
        {
          "output_type": "stream",
          "name": "stdout",
          "text": [
            "Memory usage: 1189.99 MB\n",
            "Processing chunk at x=7168, y=1024\n",
            "Processing 9 x 9 = 81 patches in this chunk\n"
          ]
        },
        {
          "output_type": "stream",
          "name": "stderr",
          "text": [
            "<ipython-input-4-4172fa463fc8>:314: FutureWarning: `square` is deprecated since version 0.25 and will be removed in version 0.27. Use `skimage.morphology.footprint_rectangle` instead.\n",
            "  risk_chunk_cleaned = opening(risk_chunk, square(3))\n"
          ]
        },
        {
          "output_type": "stream",
          "name": "stdout",
          "text": [
            "Memory usage: 1207.05 MB\n",
            "Processing chunk at x=8192, y=1024\n",
            "Processing 9 x 9 = 81 patches in this chunk\n"
          ]
        },
        {
          "output_type": "stream",
          "name": "stderr",
          "text": [
            "<ipython-input-4-4172fa463fc8>:314: FutureWarning: `square` is deprecated since version 0.25 and will be removed in version 0.27. Use `skimage.morphology.footprint_rectangle` instead.\n",
            "  risk_chunk_cleaned = opening(risk_chunk, square(3))\n"
          ]
        },
        {
          "output_type": "stream",
          "name": "stdout",
          "text": [
            "Memory usage: 1225.78 MB\n",
            "Processing chunk at x=9216, y=1024\n",
            "Processing 9 x 9 = 81 patches in this chunk\n"
          ]
        },
        {
          "output_type": "stream",
          "name": "stderr",
          "text": [
            "<ipython-input-4-4172fa463fc8>:314: FutureWarning: `square` is deprecated since version 0.25 and will be removed in version 0.27. Use `skimage.morphology.footprint_rectangle` instead.\n",
            "  risk_chunk_cleaned = opening(risk_chunk, square(3))\n"
          ]
        },
        {
          "output_type": "stream",
          "name": "stdout",
          "text": [
            "Memory usage: 1245.17 MB\n",
            "Processing chunk at x=10240, y=1024\n",
            "Processing 9 x 9 = 81 patches in this chunk\n"
          ]
        },
        {
          "output_type": "stream",
          "name": "stderr",
          "text": [
            "<ipython-input-4-4172fa463fc8>:314: FutureWarning: `square` is deprecated since version 0.25 and will be removed in version 0.27. Use `skimage.morphology.footprint_rectangle` instead.\n",
            "  risk_chunk_cleaned = opening(risk_chunk, square(3))\n"
          ]
        },
        {
          "output_type": "stream",
          "name": "stdout",
          "text": [
            "Memory usage: 1262.76 MB\n",
            "Processing chunk at x=11264, y=1024\n",
            "Processing 9 x 9 = 81 patches in this chunk\n"
          ]
        },
        {
          "output_type": "stream",
          "name": "stderr",
          "text": [
            "<ipython-input-4-4172fa463fc8>:314: FutureWarning: `square` is deprecated since version 0.25 and will be removed in version 0.27. Use `skimage.morphology.footprint_rectangle` instead.\n",
            "  risk_chunk_cleaned = opening(risk_chunk, square(3))\n"
          ]
        },
        {
          "output_type": "stream",
          "name": "stdout",
          "text": [
            "Memory usage: 1277.99 MB\n",
            "Processing chunk at x=0, y=2048\n",
            "Processing 9 x 9 = 81 patches in this chunk\n"
          ]
        },
        {
          "output_type": "stream",
          "name": "stderr",
          "text": [
            "<ipython-input-4-4172fa463fc8>:314: FutureWarning: `square` is deprecated since version 0.25 and will be removed in version 0.27. Use `skimage.morphology.footprint_rectangle` instead.\n",
            "  risk_chunk_cleaned = opening(risk_chunk, square(3))\n"
          ]
        },
        {
          "output_type": "stream",
          "name": "stdout",
          "text": [
            "Memory usage: 1302.07 MB\n",
            "Processing chunk at x=1024, y=2048\n",
            "Processing 9 x 9 = 81 patches in this chunk\n"
          ]
        },
        {
          "output_type": "stream",
          "name": "stderr",
          "text": [
            "<ipython-input-4-4172fa463fc8>:314: FutureWarning: `square` is deprecated since version 0.25 and will be removed in version 0.27. Use `skimage.morphology.footprint_rectangle` instead.\n",
            "  risk_chunk_cleaned = opening(risk_chunk, square(3))\n"
          ]
        },
        {
          "output_type": "stream",
          "name": "stdout",
          "text": [
            "Memory usage: 1324.91 MB\n",
            "Processing chunk at x=2048, y=2048\n",
            "Processing 9 x 9 = 81 patches in this chunk\n"
          ]
        },
        {
          "output_type": "stream",
          "name": "stderr",
          "text": [
            "<ipython-input-4-4172fa463fc8>:314: FutureWarning: `square` is deprecated since version 0.25 and will be removed in version 0.27. Use `skimage.morphology.footprint_rectangle` instead.\n",
            "  risk_chunk_cleaned = opening(risk_chunk, square(3))\n"
          ]
        },
        {
          "output_type": "stream",
          "name": "stdout",
          "text": [
            "Memory usage: 1338.67 MB\n",
            "Processing chunk at x=3072, y=2048\n",
            "Processing 9 x 9 = 81 patches in this chunk\n"
          ]
        },
        {
          "output_type": "stream",
          "name": "stderr",
          "text": [
            "<ipython-input-4-4172fa463fc8>:314: FutureWarning: `square` is deprecated since version 0.25 and will be removed in version 0.27. Use `skimage.morphology.footprint_rectangle` instead.\n",
            "  risk_chunk_cleaned = opening(risk_chunk, square(3))\n"
          ]
        },
        {
          "output_type": "stream",
          "name": "stdout",
          "text": [
            "Memory usage: 1361.09 MB\n",
            "Processing chunk at x=4096, y=2048\n",
            "Processing 9 x 9 = 81 patches in this chunk\n"
          ]
        },
        {
          "output_type": "stream",
          "name": "stderr",
          "text": [
            "<ipython-input-4-4172fa463fc8>:314: FutureWarning: `square` is deprecated since version 0.25 and will be removed in version 0.27. Use `skimage.morphology.footprint_rectangle` instead.\n",
            "  risk_chunk_cleaned = opening(risk_chunk, square(3))\n"
          ]
        },
        {
          "output_type": "stream",
          "name": "stdout",
          "text": [
            "Memory usage: 1378.46 MB\n",
            "Processing chunk at x=5120, y=2048\n",
            "Processing 9 x 9 = 81 patches in this chunk\n"
          ]
        },
        {
          "output_type": "stream",
          "name": "stderr",
          "text": [
            "<ipython-input-4-4172fa463fc8>:314: FutureWarning: `square` is deprecated since version 0.25 and will be removed in version 0.27. Use `skimage.morphology.footprint_rectangle` instead.\n",
            "  risk_chunk_cleaned = opening(risk_chunk, square(3))\n"
          ]
        },
        {
          "output_type": "stream",
          "name": "stdout",
          "text": [
            "Memory usage: 1397.24 MB\n",
            "Processing chunk at x=6144, y=2048\n",
            "Processing 9 x 9 = 81 patches in this chunk\n"
          ]
        },
        {
          "output_type": "stream",
          "name": "stderr",
          "text": [
            "<ipython-input-4-4172fa463fc8>:314: FutureWarning: `square` is deprecated since version 0.25 and will be removed in version 0.27. Use `skimage.morphology.footprint_rectangle` instead.\n",
            "  risk_chunk_cleaned = opening(risk_chunk, square(3))\n"
          ]
        },
        {
          "output_type": "stream",
          "name": "stdout",
          "text": [
            "Memory usage: 1415.48 MB\n",
            "Processing chunk at x=7168, y=2048\n",
            "Processing 9 x 9 = 81 patches in this chunk\n"
          ]
        },
        {
          "output_type": "stream",
          "name": "stderr",
          "text": [
            "<ipython-input-4-4172fa463fc8>:314: FutureWarning: `square` is deprecated since version 0.25 and will be removed in version 0.27. Use `skimage.morphology.footprint_rectangle` instead.\n",
            "  risk_chunk_cleaned = opening(risk_chunk, square(3))\n"
          ]
        },
        {
          "output_type": "stream",
          "name": "stdout",
          "text": [
            "Memory usage: 1432.41 MB\n",
            "Processing chunk at x=8192, y=2048\n",
            "Processing 9 x 9 = 81 patches in this chunk\n"
          ]
        },
        {
          "output_type": "stream",
          "name": "stderr",
          "text": [
            "<ipython-input-4-4172fa463fc8>:314: FutureWarning: `square` is deprecated since version 0.25 and will be removed in version 0.27. Use `skimage.morphology.footprint_rectangle` instead.\n",
            "  risk_chunk_cleaned = opening(risk_chunk, square(3))\n"
          ]
        },
        {
          "output_type": "stream",
          "name": "stdout",
          "text": [
            "Memory usage: 1449.56 MB\n",
            "Processing chunk at x=9216, y=2048\n",
            "Processing 9 x 9 = 81 patches in this chunk\n"
          ]
        },
        {
          "output_type": "stream",
          "name": "stderr",
          "text": [
            "<ipython-input-4-4172fa463fc8>:314: FutureWarning: `square` is deprecated since version 0.25 and will be removed in version 0.27. Use `skimage.morphology.footprint_rectangle` instead.\n",
            "  risk_chunk_cleaned = opening(risk_chunk, square(3))\n"
          ]
        },
        {
          "output_type": "stream",
          "name": "stdout",
          "text": [
            "Memory usage: 1467.62 MB\n",
            "Processing chunk at x=10240, y=2048\n",
            "Processing 9 x 9 = 81 patches in this chunk\n"
          ]
        },
        {
          "output_type": "stream",
          "name": "stderr",
          "text": [
            "<ipython-input-4-4172fa463fc8>:314: FutureWarning: `square` is deprecated since version 0.25 and will be removed in version 0.27. Use `skimage.morphology.footprint_rectangle` instead.\n",
            "  risk_chunk_cleaned = opening(risk_chunk, square(3))\n"
          ]
        },
        {
          "output_type": "stream",
          "name": "stdout",
          "text": [
            "Memory usage: 1487.33 MB\n",
            "Processing chunk at x=11264, y=2048\n",
            "Processing 9 x 9 = 81 patches in this chunk\n"
          ]
        },
        {
          "output_type": "stream",
          "name": "stderr",
          "text": [
            "<ipython-input-4-4172fa463fc8>:314: FutureWarning: `square` is deprecated since version 0.25 and will be removed in version 0.27. Use `skimage.morphology.footprint_rectangle` instead.\n",
            "  risk_chunk_cleaned = opening(risk_chunk, square(3))\n"
          ]
        },
        {
          "output_type": "stream",
          "name": "stdout",
          "text": [
            "Memory usage: 1503.83 MB\n",
            "Processing chunk at x=0, y=3072\n",
            "Processing 9 x 9 = 81 patches in this chunk\n"
          ]
        },
        {
          "output_type": "stream",
          "name": "stderr",
          "text": [
            "<ipython-input-4-4172fa463fc8>:314: FutureWarning: `square` is deprecated since version 0.25 and will be removed in version 0.27. Use `skimage.morphology.footprint_rectangle` instead.\n",
            "  risk_chunk_cleaned = opening(risk_chunk, square(3))\n"
          ]
        },
        {
          "output_type": "stream",
          "name": "stdout",
          "text": [
            "Memory usage: 1528.45 MB\n",
            "Processing chunk at x=1024, y=3072\n",
            "Processing 9 x 9 = 81 patches in this chunk\n"
          ]
        },
        {
          "output_type": "stream",
          "name": "stderr",
          "text": [
            "<ipython-input-4-4172fa463fc8>:314: FutureWarning: `square` is deprecated since version 0.25 and will be removed in version 0.27. Use `skimage.morphology.footprint_rectangle` instead.\n",
            "  risk_chunk_cleaned = opening(risk_chunk, square(3))\n"
          ]
        },
        {
          "output_type": "stream",
          "name": "stdout",
          "text": [
            "Memory usage: 1551.17 MB\n",
            "Processing chunk at x=2048, y=3072\n",
            "Processing 9 x 9 = 81 patches in this chunk\n"
          ]
        },
        {
          "output_type": "stream",
          "name": "stderr",
          "text": [
            "<ipython-input-4-4172fa463fc8>:314: FutureWarning: `square` is deprecated since version 0.25 and will be removed in version 0.27. Use `skimage.morphology.footprint_rectangle` instead.\n",
            "  risk_chunk_cleaned = opening(risk_chunk, square(3))\n"
          ]
        },
        {
          "output_type": "stream",
          "name": "stdout",
          "text": [
            "Memory usage: 1568.56 MB\n",
            "Processing chunk at x=3072, y=3072\n",
            "Processing 9 x 9 = 81 patches in this chunk\n"
          ]
        },
        {
          "output_type": "stream",
          "name": "stderr",
          "text": [
            "<ipython-input-4-4172fa463fc8>:314: FutureWarning: `square` is deprecated since version 0.25 and will be removed in version 0.27. Use `skimage.morphology.footprint_rectangle` instead.\n",
            "  risk_chunk_cleaned = opening(risk_chunk, square(3))\n"
          ]
        },
        {
          "output_type": "stream",
          "name": "stdout",
          "text": [
            "Memory usage: 1585.89 MB\n",
            "Processing chunk at x=4096, y=3072\n",
            "Processing 9 x 9 = 81 patches in this chunk\n"
          ]
        },
        {
          "output_type": "stream",
          "name": "stderr",
          "text": [
            "<ipython-input-4-4172fa463fc8>:314: FutureWarning: `square` is deprecated since version 0.25 and will be removed in version 0.27. Use `skimage.morphology.footprint_rectangle` instead.\n",
            "  risk_chunk_cleaned = opening(risk_chunk, square(3))\n"
          ]
        },
        {
          "output_type": "stream",
          "name": "stdout",
          "text": [
            "Memory usage: 1605.47 MB\n",
            "Processing chunk at x=5120, y=3072\n",
            "Processing 9 x 9 = 81 patches in this chunk\n"
          ]
        },
        {
          "output_type": "stream",
          "name": "stderr",
          "text": [
            "<ipython-input-4-4172fa463fc8>:314: FutureWarning: `square` is deprecated since version 0.25 and will be removed in version 0.27. Use `skimage.morphology.footprint_rectangle` instead.\n",
            "  risk_chunk_cleaned = opening(risk_chunk, square(3))\n"
          ]
        },
        {
          "output_type": "stream",
          "name": "stdout",
          "text": [
            "Memory usage: 1622.04 MB\n",
            "Processing chunk at x=6144, y=3072\n",
            "Processing 9 x 9 = 81 patches in this chunk\n"
          ]
        },
        {
          "output_type": "stream",
          "name": "stderr",
          "text": [
            "<ipython-input-4-4172fa463fc8>:314: FutureWarning: `square` is deprecated since version 0.25 and will be removed in version 0.27. Use `skimage.morphology.footprint_rectangle` instead.\n",
            "  risk_chunk_cleaned = opening(risk_chunk, square(3))\n"
          ]
        },
        {
          "output_type": "stream",
          "name": "stdout",
          "text": [
            "Memory usage: 1640.28 MB\n",
            "Processing chunk at x=7168, y=3072\n",
            "Processing 9 x 9 = 81 patches in this chunk\n"
          ]
        },
        {
          "output_type": "stream",
          "name": "stderr",
          "text": [
            "<ipython-input-4-4172fa463fc8>:314: FutureWarning: `square` is deprecated since version 0.25 and will be removed in version 0.27. Use `skimage.morphology.footprint_rectangle` instead.\n",
            "  risk_chunk_cleaned = opening(risk_chunk, square(3))\n"
          ]
        },
        {
          "output_type": "stream",
          "name": "stdout",
          "text": [
            "Memory usage: 1657.69 MB\n",
            "Processing chunk at x=8192, y=3072\n",
            "Processing 9 x 9 = 81 patches in this chunk\n"
          ]
        },
        {
          "output_type": "stream",
          "name": "stderr",
          "text": [
            "<ipython-input-4-4172fa463fc8>:314: FutureWarning: `square` is deprecated since version 0.25 and will be removed in version 0.27. Use `skimage.morphology.footprint_rectangle` instead.\n",
            "  risk_chunk_cleaned = opening(risk_chunk, square(3))\n"
          ]
        },
        {
          "output_type": "stream",
          "name": "stdout",
          "text": [
            "Memory usage: 1675.71 MB\n",
            "Processing chunk at x=9216, y=3072\n",
            "Processing 9 x 9 = 81 patches in this chunk\n"
          ]
        },
        {
          "output_type": "stream",
          "name": "stderr",
          "text": [
            "<ipython-input-4-4172fa463fc8>:314: FutureWarning: `square` is deprecated since version 0.25 and will be removed in version 0.27. Use `skimage.morphology.footprint_rectangle` instead.\n",
            "  risk_chunk_cleaned = opening(risk_chunk, square(3))\n"
          ]
        },
        {
          "output_type": "stream",
          "name": "stdout",
          "text": [
            "Memory usage: 1693.71 MB\n",
            "Processing chunk at x=10240, y=3072\n",
            "Processing 9 x 9 = 81 patches in this chunk\n"
          ]
        },
        {
          "output_type": "stream",
          "name": "stderr",
          "text": [
            "<ipython-input-4-4172fa463fc8>:314: FutureWarning: `square` is deprecated since version 0.25 and will be removed in version 0.27. Use `skimage.morphology.footprint_rectangle` instead.\n",
            "  risk_chunk_cleaned = opening(risk_chunk, square(3))\n"
          ]
        },
        {
          "output_type": "stream",
          "name": "stdout",
          "text": [
            "Memory usage: 1711.16 MB\n",
            "Processing chunk at x=11264, y=3072\n",
            "Processing 9 x 9 = 81 patches in this chunk\n"
          ]
        },
        {
          "output_type": "stream",
          "name": "stderr",
          "text": [
            "<ipython-input-4-4172fa463fc8>:314: FutureWarning: `square` is deprecated since version 0.25 and will be removed in version 0.27. Use `skimage.morphology.footprint_rectangle` instead.\n",
            "  risk_chunk_cleaned = opening(risk_chunk, square(3))\n"
          ]
        },
        {
          "output_type": "stream",
          "name": "stdout",
          "text": [
            "Memory usage: 1730.27 MB\n",
            "Processing chunk at x=0, y=4096\n",
            "Processing 9 x 9 = 81 patches in this chunk\n"
          ]
        },
        {
          "output_type": "stream",
          "name": "stderr",
          "text": [
            "<ipython-input-4-4172fa463fc8>:314: FutureWarning: `square` is deprecated since version 0.25 and will be removed in version 0.27. Use `skimage.morphology.footprint_rectangle` instead.\n",
            "  risk_chunk_cleaned = opening(risk_chunk, square(3))\n"
          ]
        },
        {
          "output_type": "stream",
          "name": "stdout",
          "text": [
            "Memory usage: 1754.56 MB\n",
            "Processing chunk at x=1024, y=4096\n",
            "Processing 9 x 9 = 81 patches in this chunk\n"
          ]
        },
        {
          "output_type": "stream",
          "name": "stderr",
          "text": [
            "<ipython-input-4-4172fa463fc8>:314: FutureWarning: `square` is deprecated since version 0.25 and will be removed in version 0.27. Use `skimage.morphology.footprint_rectangle` instead.\n",
            "  risk_chunk_cleaned = opening(risk_chunk, square(3))\n"
          ]
        },
        {
          "output_type": "stream",
          "name": "stdout",
          "text": [
            "Memory usage: 1777.34 MB\n",
            "Processing chunk at x=2048, y=4096\n",
            "Processing 9 x 9 = 81 patches in this chunk\n"
          ]
        },
        {
          "output_type": "stream",
          "name": "stderr",
          "text": [
            "<ipython-input-4-4172fa463fc8>:314: FutureWarning: `square` is deprecated since version 0.25 and will be removed in version 0.27. Use `skimage.morphology.footprint_rectangle` instead.\n",
            "  risk_chunk_cleaned = opening(risk_chunk, square(3))\n"
          ]
        },
        {
          "output_type": "stream",
          "name": "stdout",
          "text": [
            "Memory usage: 1796.36 MB\n",
            "Processing chunk at x=3072, y=4096\n",
            "Processing 9 x 9 = 81 patches in this chunk\n"
          ]
        },
        {
          "output_type": "stream",
          "name": "stderr",
          "text": [
            "<ipython-input-4-4172fa463fc8>:314: FutureWarning: `square` is deprecated since version 0.25 and will be removed in version 0.27. Use `skimage.morphology.footprint_rectangle` instead.\n",
            "  risk_chunk_cleaned = opening(risk_chunk, square(3))\n"
          ]
        },
        {
          "output_type": "stream",
          "name": "stdout",
          "text": [
            "Memory usage: 1813.37 MB\n",
            "Processing chunk at x=4096, y=4096\n",
            "Processing 9 x 9 = 81 patches in this chunk\n"
          ]
        },
        {
          "output_type": "stream",
          "name": "stderr",
          "text": [
            "<ipython-input-4-4172fa463fc8>:314: FutureWarning: `square` is deprecated since version 0.25 and will be removed in version 0.27. Use `skimage.morphology.footprint_rectangle` instead.\n",
            "  risk_chunk_cleaned = opening(risk_chunk, square(3))\n"
          ]
        },
        {
          "output_type": "stream",
          "name": "stdout",
          "text": [
            "Memory usage: 1830.59 MB\n",
            "Processing chunk at x=5120, y=4096\n",
            "Processing 9 x 9 = 81 patches in this chunk\n"
          ]
        },
        {
          "output_type": "stream",
          "name": "stderr",
          "text": [
            "<ipython-input-4-4172fa463fc8>:314: FutureWarning: `square` is deprecated since version 0.25 and will be removed in version 0.27. Use `skimage.morphology.footprint_rectangle` instead.\n",
            "  risk_chunk_cleaned = opening(risk_chunk, square(3))\n"
          ]
        },
        {
          "output_type": "stream",
          "name": "stdout",
          "text": [
            "Memory usage: 1847.46 MB\n",
            "Processing chunk at x=6144, y=4096\n",
            "Processing 9 x 9 = 81 patches in this chunk\n"
          ]
        },
        {
          "output_type": "stream",
          "name": "stderr",
          "text": [
            "<ipython-input-4-4172fa463fc8>:314: FutureWarning: `square` is deprecated since version 0.25 and will be removed in version 0.27. Use `skimage.morphology.footprint_rectangle` instead.\n",
            "  risk_chunk_cleaned = opening(risk_chunk, square(3))\n"
          ]
        },
        {
          "output_type": "stream",
          "name": "stdout",
          "text": [
            "Memory usage: 1866.78 MB\n",
            "Processing chunk at x=7168, y=4096\n",
            "Processing 9 x 9 = 81 patches in this chunk\n"
          ]
        },
        {
          "output_type": "stream",
          "name": "stderr",
          "text": [
            "<ipython-input-4-4172fa463fc8>:314: FutureWarning: `square` is deprecated since version 0.25 and will be removed in version 0.27. Use `skimage.morphology.footprint_rectangle` instead.\n",
            "  risk_chunk_cleaned = opening(risk_chunk, square(3))\n"
          ]
        },
        {
          "output_type": "stream",
          "name": "stdout",
          "text": [
            "Memory usage: 1884.53 MB\n",
            "Processing chunk at x=8192, y=4096\n",
            "Processing 9 x 9 = 81 patches in this chunk\n"
          ]
        },
        {
          "output_type": "stream",
          "name": "stderr",
          "text": [
            "<ipython-input-4-4172fa463fc8>:314: FutureWarning: `square` is deprecated since version 0.25 and will be removed in version 0.27. Use `skimage.morphology.footprint_rectangle` instead.\n",
            "  risk_chunk_cleaned = opening(risk_chunk, square(3))\n"
          ]
        },
        {
          "output_type": "stream",
          "name": "stdout",
          "text": [
            "Memory usage: 1902.36 MB\n",
            "Processing chunk at x=9216, y=4096\n",
            "Processing 9 x 9 = 81 patches in this chunk\n"
          ]
        },
        {
          "output_type": "stream",
          "name": "stderr",
          "text": [
            "<ipython-input-4-4172fa463fc8>:314: FutureWarning: `square` is deprecated since version 0.25 and will be removed in version 0.27. Use `skimage.morphology.footprint_rectangle` instead.\n",
            "  risk_chunk_cleaned = opening(risk_chunk, square(3))\n"
          ]
        },
        {
          "output_type": "stream",
          "name": "stdout",
          "text": [
            "Memory usage: 1918.99 MB\n",
            "Processing chunk at x=10240, y=4096\n",
            "Processing 9 x 9 = 81 patches in this chunk\n"
          ]
        },
        {
          "output_type": "stream",
          "name": "stderr",
          "text": [
            "<ipython-input-4-4172fa463fc8>:314: FutureWarning: `square` is deprecated since version 0.25 and will be removed in version 0.27. Use `skimage.morphology.footprint_rectangle` instead.\n",
            "  risk_chunk_cleaned = opening(risk_chunk, square(3))\n"
          ]
        },
        {
          "output_type": "stream",
          "name": "stdout",
          "text": [
            "Memory usage: 1936.38 MB\n",
            "Processing chunk at x=11264, y=4096\n",
            "Processing 9 x 9 = 81 patches in this chunk\n"
          ]
        },
        {
          "output_type": "stream",
          "name": "stderr",
          "text": [
            "<ipython-input-4-4172fa463fc8>:314: FutureWarning: `square` is deprecated since version 0.25 and will be removed in version 0.27. Use `skimage.morphology.footprint_rectangle` instead.\n",
            "  risk_chunk_cleaned = opening(risk_chunk, square(3))\n"
          ]
        },
        {
          "output_type": "stream",
          "name": "stdout",
          "text": [
            "Memory usage: 1954.06 MB\n",
            "Processing chunk at x=0, y=5120\n",
            "Processing 9 x 9 = 81 patches in this chunk\n"
          ]
        },
        {
          "output_type": "stream",
          "name": "stderr",
          "text": [
            "<ipython-input-4-4172fa463fc8>:314: FutureWarning: `square` is deprecated since version 0.25 and will be removed in version 0.27. Use `skimage.morphology.footprint_rectangle` instead.\n",
            "  risk_chunk_cleaned = opening(risk_chunk, square(3))\n"
          ]
        },
        {
          "output_type": "stream",
          "name": "stdout",
          "text": [
            "Memory usage: 1976.34 MB\n",
            "Processing chunk at x=1024, y=5120\n",
            "Processing 9 x 9 = 81 patches in this chunk\n"
          ]
        },
        {
          "output_type": "stream",
          "name": "stderr",
          "text": [
            "<ipython-input-4-4172fa463fc8>:314: FutureWarning: `square` is deprecated since version 0.25 and will be removed in version 0.27. Use `skimage.morphology.footprint_rectangle` instead.\n",
            "  risk_chunk_cleaned = opening(risk_chunk, square(3))\n"
          ]
        },
        {
          "output_type": "stream",
          "name": "stdout",
          "text": [
            "Memory usage: 2002.70 MB\n",
            "Processing chunk at x=2048, y=5120\n",
            "Processing 9 x 9 = 81 patches in this chunk\n"
          ]
        },
        {
          "output_type": "stream",
          "name": "stderr",
          "text": [
            "<ipython-input-4-4172fa463fc8>:314: FutureWarning: `square` is deprecated since version 0.25 and will be removed in version 0.27. Use `skimage.morphology.footprint_rectangle` instead.\n",
            "  risk_chunk_cleaned = opening(risk_chunk, square(3))\n"
          ]
        },
        {
          "output_type": "stream",
          "name": "stdout",
          "text": [
            "Memory usage: 2020.14 MB\n",
            "Processing chunk at x=3072, y=5120\n",
            "Processing 9 x 9 = 81 patches in this chunk\n"
          ]
        },
        {
          "output_type": "stream",
          "name": "stderr",
          "text": [
            "<ipython-input-4-4172fa463fc8>:314: FutureWarning: `square` is deprecated since version 0.25 and will be removed in version 0.27. Use `skimage.morphology.footprint_rectangle` instead.\n",
            "  risk_chunk_cleaned = opening(risk_chunk, square(3))\n"
          ]
        },
        {
          "output_type": "stream",
          "name": "stdout",
          "text": [
            "Memory usage: 2038.99 MB\n",
            "Processing chunk at x=4096, y=5120\n",
            "Processing 9 x 9 = 81 patches in this chunk\n"
          ]
        },
        {
          "output_type": "stream",
          "name": "stderr",
          "text": [
            "<ipython-input-4-4172fa463fc8>:314: FutureWarning: `square` is deprecated since version 0.25 and will be removed in version 0.27. Use `skimage.morphology.footprint_rectangle` instead.\n",
            "  risk_chunk_cleaned = opening(risk_chunk, square(3))\n"
          ]
        },
        {
          "output_type": "stream",
          "name": "stdout",
          "text": [
            "Memory usage: 2056.87 MB\n",
            "Processing chunk at x=5120, y=5120\n",
            "Processing 9 x 9 = 81 patches in this chunk\n"
          ]
        },
        {
          "output_type": "stream",
          "name": "stderr",
          "text": [
            "<ipython-input-4-4172fa463fc8>:314: FutureWarning: `square` is deprecated since version 0.25 and will be removed in version 0.27. Use `skimage.morphology.footprint_rectangle` instead.\n",
            "  risk_chunk_cleaned = opening(risk_chunk, square(3))\n"
          ]
        },
        {
          "output_type": "stream",
          "name": "stdout",
          "text": [
            "Memory usage: 2072.96 MB\n",
            "Processing chunk at x=6144, y=5120\n",
            "Processing 9 x 9 = 81 patches in this chunk\n"
          ]
        },
        {
          "output_type": "stream",
          "name": "stderr",
          "text": [
            "<ipython-input-4-4172fa463fc8>:314: FutureWarning: `square` is deprecated since version 0.25 and will be removed in version 0.27. Use `skimage.morphology.footprint_rectangle` instead.\n",
            "  risk_chunk_cleaned = opening(risk_chunk, square(3))\n"
          ]
        },
        {
          "output_type": "stream",
          "name": "stdout",
          "text": [
            "Memory usage: 2091.39 MB\n",
            "Processing chunk at x=7168, y=5120\n",
            "Processing 9 x 9 = 81 patches in this chunk\n"
          ]
        },
        {
          "output_type": "stream",
          "name": "stderr",
          "text": [
            "<ipython-input-4-4172fa463fc8>:314: FutureWarning: `square` is deprecated since version 0.25 and will be removed in version 0.27. Use `skimage.morphology.footprint_rectangle` instead.\n",
            "  risk_chunk_cleaned = opening(risk_chunk, square(3))\n"
          ]
        },
        {
          "output_type": "stream",
          "name": "stdout",
          "text": [
            "Memory usage: 2110.23 MB\n",
            "Processing chunk at x=8192, y=5120\n",
            "Processing 9 x 9 = 81 patches in this chunk\n"
          ]
        },
        {
          "output_type": "stream",
          "name": "stderr",
          "text": [
            "<ipython-input-4-4172fa463fc8>:314: FutureWarning: `square` is deprecated since version 0.25 and will be removed in version 0.27. Use `skimage.morphology.footprint_rectangle` instead.\n",
            "  risk_chunk_cleaned = opening(risk_chunk, square(3))\n"
          ]
        },
        {
          "output_type": "stream",
          "name": "stdout",
          "text": [
            "Memory usage: 2126.62 MB\n",
            "Processing chunk at x=9216, y=5120\n",
            "Processing 9 x 9 = 81 patches in this chunk\n"
          ]
        },
        {
          "output_type": "stream",
          "name": "stderr",
          "text": [
            "<ipython-input-4-4172fa463fc8>:314: FutureWarning: `square` is deprecated since version 0.25 and will be removed in version 0.27. Use `skimage.morphology.footprint_rectangle` instead.\n",
            "  risk_chunk_cleaned = opening(risk_chunk, square(3))\n"
          ]
        },
        {
          "output_type": "stream",
          "name": "stdout",
          "text": [
            "Memory usage: 2144.54 MB\n",
            "Processing chunk at x=10240, y=5120\n",
            "Processing 9 x 9 = 81 patches in this chunk\n"
          ]
        },
        {
          "output_type": "stream",
          "name": "stderr",
          "text": [
            "<ipython-input-4-4172fa463fc8>:314: FutureWarning: `square` is deprecated since version 0.25 and will be removed in version 0.27. Use `skimage.morphology.footprint_rectangle` instead.\n",
            "  risk_chunk_cleaned = opening(risk_chunk, square(3))\n"
          ]
        },
        {
          "output_type": "stream",
          "name": "stdout",
          "text": [
            "Memory usage: 2162.68 MB\n",
            "Processing chunk at x=11264, y=5120\n",
            "Processing 9 x 9 = 81 patches in this chunk\n"
          ]
        },
        {
          "output_type": "stream",
          "name": "stderr",
          "text": [
            "<ipython-input-4-4172fa463fc8>:314: FutureWarning: `square` is deprecated since version 0.25 and will be removed in version 0.27. Use `skimage.morphology.footprint_rectangle` instead.\n",
            "  risk_chunk_cleaned = opening(risk_chunk, square(3))\n"
          ]
        },
        {
          "output_type": "stream",
          "name": "stdout",
          "text": [
            "Memory usage: 2179.92 MB\n",
            "Processing chunk at x=0, y=6144\n",
            "Processing 9 x 9 = 81 patches in this chunk\n"
          ]
        },
        {
          "output_type": "stream",
          "name": "stderr",
          "text": [
            "<ipython-input-4-4172fa463fc8>:314: FutureWarning: `square` is deprecated since version 0.25 and will be removed in version 0.27. Use `skimage.morphology.footprint_rectangle` instead.\n",
            "  risk_chunk_cleaned = opening(risk_chunk, square(3))\n"
          ]
        },
        {
          "output_type": "stream",
          "name": "stdout",
          "text": [
            "Memory usage: 2205.14 MB\n",
            "Processing chunk at x=1024, y=6144\n",
            "Processing 9 x 9 = 81 patches in this chunk\n"
          ]
        },
        {
          "output_type": "stream",
          "name": "stderr",
          "text": [
            "<ipython-input-4-4172fa463fc8>:314: FutureWarning: `square` is deprecated since version 0.25 and will be removed in version 0.27. Use `skimage.morphology.footprint_rectangle` instead.\n",
            "  risk_chunk_cleaned = opening(risk_chunk, square(3))\n"
          ]
        },
        {
          "output_type": "stream",
          "name": "stdout",
          "text": [
            "Memory usage: 2227.69 MB\n",
            "Processing chunk at x=2048, y=6144\n",
            "Processing 9 x 9 = 81 patches in this chunk\n"
          ]
        },
        {
          "output_type": "stream",
          "name": "stderr",
          "text": [
            "<ipython-input-4-4172fa463fc8>:314: FutureWarning: `square` is deprecated since version 0.25 and will be removed in version 0.27. Use `skimage.morphology.footprint_rectangle` instead.\n",
            "  risk_chunk_cleaned = opening(risk_chunk, square(3))\n"
          ]
        },
        {
          "output_type": "stream",
          "name": "stdout",
          "text": [
            "Memory usage: 2245.85 MB\n",
            "Processing chunk at x=3072, y=6144\n",
            "Processing 9 x 9 = 81 patches in this chunk\n"
          ]
        },
        {
          "output_type": "stream",
          "name": "stderr",
          "text": [
            "<ipython-input-4-4172fa463fc8>:314: FutureWarning: `square` is deprecated since version 0.25 and will be removed in version 0.27. Use `skimage.morphology.footprint_rectangle` instead.\n",
            "  risk_chunk_cleaned = opening(risk_chunk, square(3))\n"
          ]
        },
        {
          "output_type": "stream",
          "name": "stdout",
          "text": [
            "Memory usage: 2263.33 MB\n",
            "Processing chunk at x=4096, y=6144\n",
            "Processing 9 x 9 = 81 patches in this chunk\n"
          ]
        },
        {
          "output_type": "stream",
          "name": "stderr",
          "text": [
            "<ipython-input-4-4172fa463fc8>:314: FutureWarning: `square` is deprecated since version 0.25 and will be removed in version 0.27. Use `skimage.morphology.footprint_rectangle` instead.\n",
            "  risk_chunk_cleaned = opening(risk_chunk, square(3))\n"
          ]
        },
        {
          "output_type": "stream",
          "name": "stdout",
          "text": [
            "Memory usage: 2281.09 MB\n",
            "Processing chunk at x=5120, y=6144\n",
            "Processing 9 x 9 = 81 patches in this chunk\n"
          ]
        },
        {
          "output_type": "stream",
          "name": "stderr",
          "text": [
            "<ipython-input-4-4172fa463fc8>:314: FutureWarning: `square` is deprecated since version 0.25 and will be removed in version 0.27. Use `skimage.morphology.footprint_rectangle` instead.\n",
            "  risk_chunk_cleaned = opening(risk_chunk, square(3))\n"
          ]
        },
        {
          "output_type": "stream",
          "name": "stdout",
          "text": [
            "Memory usage: 2292.51 MB\n",
            "Processing chunk at x=6144, y=6144\n",
            "Processing 9 x 9 = 81 patches in this chunk\n"
          ]
        },
        {
          "output_type": "stream",
          "name": "stderr",
          "text": [
            "<ipython-input-4-4172fa463fc8>:314: FutureWarning: `square` is deprecated since version 0.25 and will be removed in version 0.27. Use `skimage.morphology.footprint_rectangle` instead.\n",
            "  risk_chunk_cleaned = opening(risk_chunk, square(3))\n"
          ]
        },
        {
          "output_type": "stream",
          "name": "stdout",
          "text": [
            "Memory usage: 2317.61 MB\n",
            "Processing chunk at x=7168, y=6144\n",
            "Processing 9 x 9 = 81 patches in this chunk\n"
          ]
        },
        {
          "output_type": "stream",
          "name": "stderr",
          "text": [
            "<ipython-input-4-4172fa463fc8>:314: FutureWarning: `square` is deprecated since version 0.25 and will be removed in version 0.27. Use `skimage.morphology.footprint_rectangle` instead.\n",
            "  risk_chunk_cleaned = opening(risk_chunk, square(3))\n"
          ]
        },
        {
          "output_type": "stream",
          "name": "stdout",
          "text": [
            "Memory usage: 2335.00 MB\n",
            "Processing chunk at x=8192, y=6144\n",
            "Processing 9 x 9 = 81 patches in this chunk\n"
          ]
        },
        {
          "output_type": "stream",
          "name": "stderr",
          "text": [
            "<ipython-input-4-4172fa463fc8>:314: FutureWarning: `square` is deprecated since version 0.25 and will be removed in version 0.27. Use `skimage.morphology.footprint_rectangle` instead.\n",
            "  risk_chunk_cleaned = opening(risk_chunk, square(3))\n"
          ]
        },
        {
          "output_type": "stream",
          "name": "stdout",
          "text": [
            "Memory usage: 2354.47 MB\n",
            "Processing chunk at x=9216, y=6144\n",
            "Processing 9 x 9 = 81 patches in this chunk\n"
          ]
        },
        {
          "output_type": "stream",
          "name": "stderr",
          "text": [
            "<ipython-input-4-4172fa463fc8>:314: FutureWarning: `square` is deprecated since version 0.25 and will be removed in version 0.27. Use `skimage.morphology.footprint_rectangle` instead.\n",
            "  risk_chunk_cleaned = opening(risk_chunk, square(3))\n"
          ]
        },
        {
          "output_type": "stream",
          "name": "stdout",
          "text": [
            "Memory usage: 2371.63 MB\n",
            "Processing chunk at x=10240, y=6144\n",
            "Processing 9 x 9 = 81 patches in this chunk\n"
          ]
        },
        {
          "output_type": "stream",
          "name": "stderr",
          "text": [
            "<ipython-input-4-4172fa463fc8>:314: FutureWarning: `square` is deprecated since version 0.25 and will be removed in version 0.27. Use `skimage.morphology.footprint_rectangle` instead.\n",
            "  risk_chunk_cleaned = opening(risk_chunk, square(3))\n"
          ]
        },
        {
          "output_type": "stream",
          "name": "stdout",
          "text": [
            "Memory usage: 2388.78 MB\n",
            "Processing chunk at x=11264, y=6144\n",
            "Processing 9 x 9 = 81 patches in this chunk\n"
          ]
        },
        {
          "output_type": "stream",
          "name": "stderr",
          "text": [
            "<ipython-input-4-4172fa463fc8>:314: FutureWarning: `square` is deprecated since version 0.25 and will be removed in version 0.27. Use `skimage.morphology.footprint_rectangle` instead.\n",
            "  risk_chunk_cleaned = opening(risk_chunk, square(3))\n"
          ]
        },
        {
          "output_type": "stream",
          "name": "stdout",
          "text": [
            "Memory usage: 2406.63 MB\n",
            "Processing chunk at x=0, y=7168\n",
            "Processing 9 x 9 = 81 patches in this chunk\n"
          ]
        },
        {
          "output_type": "stream",
          "name": "stderr",
          "text": [
            "<ipython-input-4-4172fa463fc8>:314: FutureWarning: `square` is deprecated since version 0.25 and will be removed in version 0.27. Use `skimage.morphology.footprint_rectangle` instead.\n",
            "  risk_chunk_cleaned = opening(risk_chunk, square(3))\n"
          ]
        },
        {
          "output_type": "stream",
          "name": "stdout",
          "text": [
            "Memory usage: 2431.11 MB\n",
            "Processing chunk at x=1024, y=7168\n",
            "Processing 9 x 9 = 81 patches in this chunk\n"
          ]
        },
        {
          "output_type": "stream",
          "name": "stderr",
          "text": [
            "<ipython-input-4-4172fa463fc8>:314: FutureWarning: `square` is deprecated since version 0.25 and will be removed in version 0.27. Use `skimage.morphology.footprint_rectangle` instead.\n",
            "  risk_chunk_cleaned = opening(risk_chunk, square(3))\n"
          ]
        },
        {
          "output_type": "stream",
          "name": "stdout",
          "text": [
            "Memory usage: 2453.84 MB\n",
            "Processing chunk at x=2048, y=7168\n",
            "Processing 9 x 9 = 81 patches in this chunk\n"
          ]
        },
        {
          "output_type": "stream",
          "name": "stderr",
          "text": [
            "<ipython-input-4-4172fa463fc8>:314: FutureWarning: `square` is deprecated since version 0.25 and will be removed in version 0.27. Use `skimage.morphology.footprint_rectangle` instead.\n",
            "  risk_chunk_cleaned = opening(risk_chunk, square(3))\n"
          ]
        },
        {
          "output_type": "stream",
          "name": "stdout",
          "text": [
            "Memory usage: 2471.85 MB\n",
            "Processing chunk at x=3072, y=7168\n",
            "Processing 9 x 9 = 81 patches in this chunk\n"
          ]
        },
        {
          "output_type": "stream",
          "name": "stderr",
          "text": [
            "<ipython-input-4-4172fa463fc8>:314: FutureWarning: `square` is deprecated since version 0.25 and will be removed in version 0.27. Use `skimage.morphology.footprint_rectangle` instead.\n",
            "  risk_chunk_cleaned = opening(risk_chunk, square(3))\n"
          ]
        },
        {
          "output_type": "stream",
          "name": "stdout",
          "text": [
            "Memory usage: 2489.62 MB\n",
            "Processing chunk at x=4096, y=7168\n",
            "Processing 9 x 9 = 81 patches in this chunk\n"
          ]
        },
        {
          "output_type": "stream",
          "name": "stderr",
          "text": [
            "<ipython-input-4-4172fa463fc8>:314: FutureWarning: `square` is deprecated since version 0.25 and will be removed in version 0.27. Use `skimage.morphology.footprint_rectangle` instead.\n",
            "  risk_chunk_cleaned = opening(risk_chunk, square(3))\n"
          ]
        },
        {
          "output_type": "stream",
          "name": "stdout",
          "text": [
            "Memory usage: 2506.59 MB\n",
            "Processing chunk at x=5120, y=7168\n",
            "Processing 9 x 9 = 81 patches in this chunk\n"
          ]
        },
        {
          "output_type": "stream",
          "name": "stderr",
          "text": [
            "<ipython-input-4-4172fa463fc8>:314: FutureWarning: `square` is deprecated since version 0.25 and will be removed in version 0.27. Use `skimage.morphology.footprint_rectangle` instead.\n",
            "  risk_chunk_cleaned = opening(risk_chunk, square(3))\n"
          ]
        },
        {
          "output_type": "stream",
          "name": "stdout",
          "text": [
            "Memory usage: 2524.07 MB\n",
            "Processing chunk at x=6144, y=7168\n",
            "Processing 9 x 9 = 81 patches in this chunk\n"
          ]
        },
        {
          "output_type": "stream",
          "name": "stderr",
          "text": [
            "<ipython-input-4-4172fa463fc8>:314: FutureWarning: `square` is deprecated since version 0.25 and will be removed in version 0.27. Use `skimage.morphology.footprint_rectangle` instead.\n",
            "  risk_chunk_cleaned = opening(risk_chunk, square(3))\n"
          ]
        },
        {
          "output_type": "stream",
          "name": "stdout",
          "text": [
            "Memory usage: 2542.21 MB\n",
            "Processing chunk at x=7168, y=7168\n",
            "Processing 9 x 9 = 81 patches in this chunk\n"
          ]
        },
        {
          "output_type": "stream",
          "name": "stderr",
          "text": [
            "<ipython-input-4-4172fa463fc8>:314: FutureWarning: `square` is deprecated since version 0.25 and will be removed in version 0.27. Use `skimage.morphology.footprint_rectangle` instead.\n",
            "  risk_chunk_cleaned = opening(risk_chunk, square(3))\n"
          ]
        },
        {
          "output_type": "stream",
          "name": "stdout",
          "text": [
            "Memory usage: 2560.18 MB\n",
            "Processing chunk at x=8192, y=7168\n",
            "Processing 9 x 9 = 81 patches in this chunk\n"
          ]
        },
        {
          "output_type": "stream",
          "name": "stderr",
          "text": [
            "<ipython-input-4-4172fa463fc8>:314: FutureWarning: `square` is deprecated since version 0.25 and will be removed in version 0.27. Use `skimage.morphology.footprint_rectangle` instead.\n",
            "  risk_chunk_cleaned = opening(risk_chunk, square(3))\n"
          ]
        },
        {
          "output_type": "stream",
          "name": "stdout",
          "text": [
            "Memory usage: 2578.54 MB\n",
            "Processing chunk at x=9216, y=7168\n",
            "Processing 9 x 9 = 81 patches in this chunk\n"
          ]
        },
        {
          "output_type": "stream",
          "name": "stderr",
          "text": [
            "<ipython-input-4-4172fa463fc8>:314: FutureWarning: `square` is deprecated since version 0.25 and will be removed in version 0.27. Use `skimage.morphology.footprint_rectangle` instead.\n",
            "  risk_chunk_cleaned = opening(risk_chunk, square(3))\n"
          ]
        },
        {
          "output_type": "stream",
          "name": "stdout",
          "text": [
            "Memory usage: 2591.51 MB\n",
            "Processing chunk at x=10240, y=7168\n",
            "Processing 9 x 9 = 81 patches in this chunk\n"
          ]
        },
        {
          "output_type": "stream",
          "name": "stderr",
          "text": [
            "<ipython-input-4-4172fa463fc8>:314: FutureWarning: `square` is deprecated since version 0.25 and will be removed in version 0.27. Use `skimage.morphology.footprint_rectangle` instead.\n",
            "  risk_chunk_cleaned = opening(risk_chunk, square(3))\n"
          ]
        },
        {
          "output_type": "stream",
          "name": "stdout",
          "text": [
            "Memory usage: 2613.53 MB\n",
            "Processing chunk at x=11264, y=7168\n",
            "Processing 9 x 9 = 81 patches in this chunk\n"
          ]
        },
        {
          "output_type": "stream",
          "name": "stderr",
          "text": [
            "<ipython-input-4-4172fa463fc8>:314: FutureWarning: `square` is deprecated since version 0.25 and will be removed in version 0.27. Use `skimage.morphology.footprint_rectangle` instead.\n",
            "  risk_chunk_cleaned = opening(risk_chunk, square(3))\n"
          ]
        },
        {
          "output_type": "stream",
          "name": "stdout",
          "text": [
            "Memory usage: 2630.11 MB\n",
            "Processing chunk at x=0, y=8192\n",
            "Processing 9 x 9 = 81 patches in this chunk\n"
          ]
        },
        {
          "output_type": "stream",
          "name": "stderr",
          "text": [
            "<ipython-input-4-4172fa463fc8>:314: FutureWarning: `square` is deprecated since version 0.25 and will be removed in version 0.27. Use `skimage.morphology.footprint_rectangle` instead.\n",
            "  risk_chunk_cleaned = opening(risk_chunk, square(3))\n"
          ]
        },
        {
          "output_type": "stream",
          "name": "stdout",
          "text": [
            "Memory usage: 2656.76 MB\n",
            "Processing chunk at x=1024, y=8192\n",
            "Processing 9 x 9 = 81 patches in this chunk\n"
          ]
        },
        {
          "output_type": "stream",
          "name": "stderr",
          "text": [
            "<ipython-input-4-4172fa463fc8>:314: FutureWarning: `square` is deprecated since version 0.25 and will be removed in version 0.27. Use `skimage.morphology.footprint_rectangle` instead.\n",
            "  risk_chunk_cleaned = opening(risk_chunk, square(3))\n"
          ]
        },
        {
          "output_type": "stream",
          "name": "stdout",
          "text": [
            "Memory usage: 2679.57 MB\n",
            "Processing chunk at x=2048, y=8192\n",
            "Processing 9 x 9 = 81 patches in this chunk\n"
          ]
        },
        {
          "output_type": "stream",
          "name": "stderr",
          "text": [
            "<ipython-input-4-4172fa463fc8>:314: FutureWarning: `square` is deprecated since version 0.25 and will be removed in version 0.27. Use `skimage.morphology.footprint_rectangle` instead.\n",
            "  risk_chunk_cleaned = opening(risk_chunk, square(3))\n"
          ]
        },
        {
          "output_type": "stream",
          "name": "stdout",
          "text": [
            "Memory usage: 2700.52 MB\n",
            "Processing chunk at x=3072, y=8192\n",
            "Processing 9 x 9 = 81 patches in this chunk\n"
          ]
        },
        {
          "output_type": "stream",
          "name": "stderr",
          "text": [
            "<ipython-input-4-4172fa463fc8>:314: FutureWarning: `square` is deprecated since version 0.25 and will be removed in version 0.27. Use `skimage.morphology.footprint_rectangle` instead.\n",
            "  risk_chunk_cleaned = opening(risk_chunk, square(3))\n"
          ]
        },
        {
          "output_type": "stream",
          "name": "stdout",
          "text": [
            "Memory usage: 2716.13 MB\n",
            "Processing chunk at x=4096, y=8192\n",
            "Processing 9 x 9 = 81 patches in this chunk\n"
          ]
        },
        {
          "output_type": "stream",
          "name": "stderr",
          "text": [
            "<ipython-input-4-4172fa463fc8>:314: FutureWarning: `square` is deprecated since version 0.25 and will be removed in version 0.27. Use `skimage.morphology.footprint_rectangle` instead.\n",
            "  risk_chunk_cleaned = opening(risk_chunk, square(3))\n"
          ]
        },
        {
          "output_type": "stream",
          "name": "stdout",
          "text": [
            "Memory usage: 2734.53 MB\n",
            "Processing chunk at x=5120, y=8192\n",
            "Processing 9 x 9 = 81 patches in this chunk\n"
          ]
        },
        {
          "output_type": "stream",
          "name": "stderr",
          "text": [
            "<ipython-input-4-4172fa463fc8>:314: FutureWarning: `square` is deprecated since version 0.25 and will be removed in version 0.27. Use `skimage.morphology.footprint_rectangle` instead.\n",
            "  risk_chunk_cleaned = opening(risk_chunk, square(3))\n"
          ]
        },
        {
          "output_type": "stream",
          "name": "stdout",
          "text": [
            "Memory usage: 2750.93 MB\n",
            "Processing chunk at x=6144, y=8192\n",
            "Processing 9 x 9 = 81 patches in this chunk\n"
          ]
        },
        {
          "output_type": "stream",
          "name": "stderr",
          "text": [
            "<ipython-input-4-4172fa463fc8>:314: FutureWarning: `square` is deprecated since version 0.25 and will be removed in version 0.27. Use `skimage.morphology.footprint_rectangle` instead.\n",
            "  risk_chunk_cleaned = opening(risk_chunk, square(3))\n"
          ]
        },
        {
          "output_type": "stream",
          "name": "stdout",
          "text": [
            "Memory usage: 2769.15 MB\n",
            "Processing chunk at x=7168, y=8192\n",
            "Processing 9 x 9 = 81 patches in this chunk\n"
          ]
        },
        {
          "output_type": "stream",
          "name": "stderr",
          "text": [
            "<ipython-input-4-4172fa463fc8>:314: FutureWarning: `square` is deprecated since version 0.25 and will be removed in version 0.27. Use `skimage.morphology.footprint_rectangle` instead.\n",
            "  risk_chunk_cleaned = opening(risk_chunk, square(3))\n"
          ]
        },
        {
          "output_type": "stream",
          "name": "stdout",
          "text": [
            "Memory usage: 2786.89 MB\n",
            "Processing chunk at x=8192, y=8192\n",
            "Processing 9 x 9 = 81 patches in this chunk\n"
          ]
        },
        {
          "output_type": "stream",
          "name": "stderr",
          "text": [
            "<ipython-input-4-4172fa463fc8>:314: FutureWarning: `square` is deprecated since version 0.25 and will be removed in version 0.27. Use `skimage.morphology.footprint_rectangle` instead.\n",
            "  risk_chunk_cleaned = opening(risk_chunk, square(3))\n"
          ]
        },
        {
          "output_type": "stream",
          "name": "stdout",
          "text": [
            "Memory usage: 2806.07 MB\n",
            "Processing chunk at x=9216, y=8192\n",
            "Processing 9 x 9 = 81 patches in this chunk\n"
          ]
        },
        {
          "output_type": "stream",
          "name": "stderr",
          "text": [
            "<ipython-input-4-4172fa463fc8>:314: FutureWarning: `square` is deprecated since version 0.25 and will be removed in version 0.27. Use `skimage.morphology.footprint_rectangle` instead.\n",
            "  risk_chunk_cleaned = opening(risk_chunk, square(3))\n"
          ]
        },
        {
          "output_type": "stream",
          "name": "stdout",
          "text": [
            "Memory usage: 2822.57 MB\n",
            "Processing chunk at x=10240, y=8192\n",
            "Processing 9 x 9 = 81 patches in this chunk\n"
          ]
        },
        {
          "output_type": "stream",
          "name": "stderr",
          "text": [
            "<ipython-input-4-4172fa463fc8>:314: FutureWarning: `square` is deprecated since version 0.25 and will be removed in version 0.27. Use `skimage.morphology.footprint_rectangle` instead.\n",
            "  risk_chunk_cleaned = opening(risk_chunk, square(3))\n"
          ]
        },
        {
          "output_type": "stream",
          "name": "stdout",
          "text": [
            "Memory usage: 2841.24 MB\n",
            "Processing chunk at x=11264, y=8192\n",
            "Processing 9 x 9 = 81 patches in this chunk\n"
          ]
        },
        {
          "output_type": "stream",
          "name": "stderr",
          "text": [
            "<ipython-input-4-4172fa463fc8>:314: FutureWarning: `square` is deprecated since version 0.25 and will be removed in version 0.27. Use `skimage.morphology.footprint_rectangle` instead.\n",
            "  risk_chunk_cleaned = opening(risk_chunk, square(3))\n"
          ]
        },
        {
          "output_type": "stream",
          "name": "stdout",
          "text": [
            "Memory usage: 2856.72 MB\n",
            "Processing chunk at x=0, y=9216\n",
            "Processing 9 x 9 = 81 patches in this chunk\n"
          ]
        },
        {
          "output_type": "stream",
          "name": "stderr",
          "text": [
            "<ipython-input-4-4172fa463fc8>:314: FutureWarning: `square` is deprecated since version 0.25 and will be removed in version 0.27. Use `skimage.morphology.footprint_rectangle` instead.\n",
            "  risk_chunk_cleaned = opening(risk_chunk, square(3))\n"
          ]
        },
        {
          "output_type": "stream",
          "name": "stdout",
          "text": [
            "Memory usage: 2881.90 MB\n",
            "Processing chunk at x=1024, y=9216\n",
            "Processing 9 x 9 = 81 patches in this chunk\n"
          ]
        },
        {
          "output_type": "stream",
          "name": "stderr",
          "text": [
            "<ipython-input-4-4172fa463fc8>:314: FutureWarning: `square` is deprecated since version 0.25 and will be removed in version 0.27. Use `skimage.morphology.footprint_rectangle` instead.\n",
            "  risk_chunk_cleaned = opening(risk_chunk, square(3))\n"
          ]
        },
        {
          "output_type": "stream",
          "name": "stdout",
          "text": [
            "Memory usage: 2903.34 MB\n",
            "Processing chunk at x=2048, y=9216\n",
            "Processing 9 x 9 = 81 patches in this chunk\n"
          ]
        },
        {
          "output_type": "stream",
          "name": "stderr",
          "text": [
            "<ipython-input-4-4172fa463fc8>:314: FutureWarning: `square` is deprecated since version 0.25 and will be removed in version 0.27. Use `skimage.morphology.footprint_rectangle` instead.\n",
            "  risk_chunk_cleaned = opening(risk_chunk, square(3))\n"
          ]
        },
        {
          "output_type": "stream",
          "name": "stdout",
          "text": [
            "Memory usage: 2920.64 MB\n",
            "Processing chunk at x=3072, y=9216\n",
            "Processing 9 x 9 = 81 patches in this chunk\n"
          ]
        },
        {
          "output_type": "stream",
          "name": "stderr",
          "text": [
            "<ipython-input-4-4172fa463fc8>:314: FutureWarning: `square` is deprecated since version 0.25 and will be removed in version 0.27. Use `skimage.morphology.footprint_rectangle` instead.\n",
            "  risk_chunk_cleaned = opening(risk_chunk, square(3))\n"
          ]
        },
        {
          "output_type": "stream",
          "name": "stdout",
          "text": [
            "Memory usage: 2940.84 MB\n",
            "Processing chunk at x=4096, y=9216\n",
            "Processing 9 x 9 = 81 patches in this chunk\n"
          ]
        },
        {
          "output_type": "stream",
          "name": "stderr",
          "text": [
            "<ipython-input-4-4172fa463fc8>:314: FutureWarning: `square` is deprecated since version 0.25 and will be removed in version 0.27. Use `skimage.morphology.footprint_rectangle` instead.\n",
            "  risk_chunk_cleaned = opening(risk_chunk, square(3))\n"
          ]
        },
        {
          "output_type": "stream",
          "name": "stdout",
          "text": [
            "Memory usage: 2958.86 MB\n",
            "Processing chunk at x=5120, y=9216\n",
            "Processing 9 x 9 = 81 patches in this chunk\n"
          ]
        },
        {
          "output_type": "stream",
          "name": "stderr",
          "text": [
            "<ipython-input-4-4172fa463fc8>:314: FutureWarning: `square` is deprecated since version 0.25 and will be removed in version 0.27. Use `skimage.morphology.footprint_rectangle` instead.\n",
            "  risk_chunk_cleaned = opening(risk_chunk, square(3))\n"
          ]
        },
        {
          "output_type": "stream",
          "name": "stdout",
          "text": [
            "Memory usage: 2976.23 MB\n",
            "Processing chunk at x=6144, y=9216\n",
            "Processing 9 x 9 = 81 patches in this chunk\n"
          ]
        },
        {
          "output_type": "stream",
          "name": "stderr",
          "text": [
            "<ipython-input-4-4172fa463fc8>:314: FutureWarning: `square` is deprecated since version 0.25 and will be removed in version 0.27. Use `skimage.morphology.footprint_rectangle` instead.\n",
            "  risk_chunk_cleaned = opening(risk_chunk, square(3))\n"
          ]
        },
        {
          "output_type": "stream",
          "name": "stdout",
          "text": [
            "Memory usage: 2996.09 MB\n",
            "Processing chunk at x=7168, y=9216\n",
            "Processing 9 x 9 = 81 patches in this chunk\n"
          ]
        },
        {
          "output_type": "stream",
          "name": "stderr",
          "text": [
            "<ipython-input-4-4172fa463fc8>:314: FutureWarning: `square` is deprecated since version 0.25 and will be removed in version 0.27. Use `skimage.morphology.footprint_rectangle` instead.\n",
            "  risk_chunk_cleaned = opening(risk_chunk, square(3))\n"
          ]
        },
        {
          "output_type": "stream",
          "name": "stdout",
          "text": [
            "Memory usage: 3012.71 MB\n",
            "Processing chunk at x=8192, y=9216\n",
            "Processing 9 x 9 = 81 patches in this chunk\n"
          ]
        },
        {
          "output_type": "stream",
          "name": "stderr",
          "text": [
            "<ipython-input-4-4172fa463fc8>:314: FutureWarning: `square` is deprecated since version 0.25 and will be removed in version 0.27. Use `skimage.morphology.footprint_rectangle` instead.\n",
            "  risk_chunk_cleaned = opening(risk_chunk, square(3))\n"
          ]
        },
        {
          "output_type": "stream",
          "name": "stdout",
          "text": [
            "Memory usage: 3030.95 MB\n",
            "Processing chunk at x=9216, y=9216\n",
            "Processing 9 x 9 = 81 patches in this chunk\n"
          ]
        },
        {
          "output_type": "stream",
          "name": "stderr",
          "text": [
            "<ipython-input-4-4172fa463fc8>:314: FutureWarning: `square` is deprecated since version 0.25 and will be removed in version 0.27. Use `skimage.morphology.footprint_rectangle` instead.\n",
            "  risk_chunk_cleaned = opening(risk_chunk, square(3))\n"
          ]
        },
        {
          "output_type": "stream",
          "name": "stdout",
          "text": [
            "Memory usage: 3048.73 MB\n",
            "Processing chunk at x=10240, y=9216\n",
            "Processing 9 x 9 = 81 patches in this chunk\n"
          ]
        },
        {
          "output_type": "stream",
          "name": "stderr",
          "text": [
            "<ipython-input-4-4172fa463fc8>:314: FutureWarning: `square` is deprecated since version 0.25 and will be removed in version 0.27. Use `skimage.morphology.footprint_rectangle` instead.\n",
            "  risk_chunk_cleaned = opening(risk_chunk, square(3))\n"
          ]
        },
        {
          "output_type": "stream",
          "name": "stdout",
          "text": [
            "Memory usage: 3065.70 MB\n",
            "Processing chunk at x=11264, y=9216\n",
            "Processing 9 x 9 = 81 patches in this chunk\n"
          ]
        },
        {
          "output_type": "stream",
          "name": "stderr",
          "text": [
            "<ipython-input-4-4172fa463fc8>:314: FutureWarning: `square` is deprecated since version 0.25 and will be removed in version 0.27. Use `skimage.morphology.footprint_rectangle` instead.\n",
            "  risk_chunk_cleaned = opening(risk_chunk, square(3))\n"
          ]
        },
        {
          "output_type": "stream",
          "name": "stdout",
          "text": [
            "Memory usage: 3083.38 MB\n",
            "Processing chunk at x=0, y=10240\n",
            "Processing 9 x 9 = 81 patches in this chunk\n"
          ]
        },
        {
          "output_type": "stream",
          "name": "stderr",
          "text": [
            "<ipython-input-4-4172fa463fc8>:314: FutureWarning: `square` is deprecated since version 0.25 and will be removed in version 0.27. Use `skimage.morphology.footprint_rectangle` instead.\n",
            "  risk_chunk_cleaned = opening(risk_chunk, square(3))\n"
          ]
        },
        {
          "output_type": "stream",
          "name": "stdout",
          "text": [
            "Memory usage: 3108.59 MB\n",
            "Processing chunk at x=1024, y=10240\n",
            "Processing 9 x 9 = 81 patches in this chunk\n"
          ]
        },
        {
          "output_type": "stream",
          "name": "stderr",
          "text": [
            "<ipython-input-4-4172fa463fc8>:314: FutureWarning: `square` is deprecated since version 0.25 and will be removed in version 0.27. Use `skimage.morphology.footprint_rectangle` instead.\n",
            "  risk_chunk_cleaned = opening(risk_chunk, square(3))\n"
          ]
        },
        {
          "output_type": "stream",
          "name": "stdout",
          "text": [
            "Memory usage: 3131.65 MB\n",
            "Processing chunk at x=2048, y=10240\n",
            "Processing 9 x 9 = 81 patches in this chunk\n"
          ]
        },
        {
          "output_type": "stream",
          "name": "stderr",
          "text": [
            "<ipython-input-4-4172fa463fc8>:314: FutureWarning: `square` is deprecated since version 0.25 and will be removed in version 0.27. Use `skimage.morphology.footprint_rectangle` instead.\n",
            "  risk_chunk_cleaned = opening(risk_chunk, square(3))\n"
          ]
        },
        {
          "output_type": "stream",
          "name": "stdout",
          "text": [
            "Memory usage: 3149.52 MB\n",
            "Processing chunk at x=3072, y=10240\n",
            "Processing 9 x 9 = 81 patches in this chunk\n"
          ]
        },
        {
          "output_type": "stream",
          "name": "stderr",
          "text": [
            "<ipython-input-4-4172fa463fc8>:314: FutureWarning: `square` is deprecated since version 0.25 and will be removed in version 0.27. Use `skimage.morphology.footprint_rectangle` instead.\n",
            "  risk_chunk_cleaned = opening(risk_chunk, square(3))\n"
          ]
        },
        {
          "output_type": "stream",
          "name": "stdout",
          "text": [
            "Memory usage: 3166.48 MB\n",
            "Processing chunk at x=4096, y=10240\n",
            "Processing 9 x 9 = 81 patches in this chunk\n"
          ]
        },
        {
          "output_type": "stream",
          "name": "stderr",
          "text": [
            "<ipython-input-4-4172fa463fc8>:314: FutureWarning: `square` is deprecated since version 0.25 and will be removed in version 0.27. Use `skimage.morphology.footprint_rectangle` instead.\n",
            "  risk_chunk_cleaned = opening(risk_chunk, square(3))\n"
          ]
        },
        {
          "output_type": "stream",
          "name": "stdout",
          "text": [
            "Memory usage: 3185.47 MB\n",
            "Processing chunk at x=5120, y=10240\n",
            "Processing 9 x 9 = 81 patches in this chunk\n"
          ]
        },
        {
          "output_type": "stream",
          "name": "stderr",
          "text": [
            "<ipython-input-4-4172fa463fc8>:314: FutureWarning: `square` is deprecated since version 0.25 and will be removed in version 0.27. Use `skimage.morphology.footprint_rectangle` instead.\n",
            "  risk_chunk_cleaned = opening(risk_chunk, square(3))\n"
          ]
        },
        {
          "output_type": "stream",
          "name": "stdout",
          "text": [
            "Memory usage: 3203.26 MB\n",
            "Processing chunk at x=6144, y=10240\n",
            "Processing 9 x 9 = 81 patches in this chunk\n"
          ]
        },
        {
          "output_type": "stream",
          "name": "stderr",
          "text": [
            "<ipython-input-4-4172fa463fc8>:314: FutureWarning: `square` is deprecated since version 0.25 and will be removed in version 0.27. Use `skimage.morphology.footprint_rectangle` instead.\n",
            "  risk_chunk_cleaned = opening(risk_chunk, square(3))\n"
          ]
        },
        {
          "output_type": "stream",
          "name": "stdout",
          "text": [
            "Memory usage: 3218.31 MB\n",
            "Processing chunk at x=7168, y=10240\n",
            "Processing 9 x 9 = 81 patches in this chunk\n"
          ]
        },
        {
          "output_type": "stream",
          "name": "stderr",
          "text": [
            "<ipython-input-4-4172fa463fc8>:314: FutureWarning: `square` is deprecated since version 0.25 and will be removed in version 0.27. Use `skimage.morphology.footprint_rectangle` instead.\n",
            "  risk_chunk_cleaned = opening(risk_chunk, square(3))\n"
          ]
        },
        {
          "output_type": "stream",
          "name": "stdout",
          "text": [
            "Memory usage: 3234.13 MB\n",
            "Processing chunk at x=8192, y=10240\n",
            "Processing 9 x 9 = 81 patches in this chunk\n"
          ]
        },
        {
          "output_type": "stream",
          "name": "stderr",
          "text": [
            "<ipython-input-4-4172fa463fc8>:314: FutureWarning: `square` is deprecated since version 0.25 and will be removed in version 0.27. Use `skimage.morphology.footprint_rectangle` instead.\n",
            "  risk_chunk_cleaned = opening(risk_chunk, square(3))\n"
          ]
        },
        {
          "output_type": "stream",
          "name": "stdout",
          "text": [
            "Memory usage: 3257.07 MB\n",
            "Processing chunk at x=9216, y=10240\n",
            "Processing 9 x 9 = 81 patches in this chunk\n"
          ]
        },
        {
          "output_type": "stream",
          "name": "stderr",
          "text": [
            "<ipython-input-4-4172fa463fc8>:314: FutureWarning: `square` is deprecated since version 0.25 and will be removed in version 0.27. Use `skimage.morphology.footprint_rectangle` instead.\n",
            "  risk_chunk_cleaned = opening(risk_chunk, square(3))\n"
          ]
        },
        {
          "output_type": "stream",
          "name": "stdout",
          "text": [
            "Memory usage: 3273.47 MB\n",
            "Processing chunk at x=10240, y=10240\n",
            "Processing 9 x 9 = 81 patches in this chunk\n"
          ]
        },
        {
          "output_type": "stream",
          "name": "stderr",
          "text": [
            "<ipython-input-4-4172fa463fc8>:314: FutureWarning: `square` is deprecated since version 0.25 and will be removed in version 0.27. Use `skimage.morphology.footprint_rectangle` instead.\n",
            "  risk_chunk_cleaned = opening(risk_chunk, square(3))\n"
          ]
        },
        {
          "output_type": "stream",
          "name": "stdout",
          "text": [
            "Memory usage: 3293.56 MB\n",
            "Processing chunk at x=11264, y=10240\n",
            "Processing 9 x 9 = 81 patches in this chunk\n"
          ]
        },
        {
          "output_type": "stream",
          "name": "stderr",
          "text": [
            "<ipython-input-4-4172fa463fc8>:314: FutureWarning: `square` is deprecated since version 0.25 and will be removed in version 0.27. Use `skimage.morphology.footprint_rectangle` instead.\n",
            "  risk_chunk_cleaned = opening(risk_chunk, square(3))\n"
          ]
        },
        {
          "output_type": "stream",
          "name": "stdout",
          "text": [
            "Memory usage: 3307.38 MB\n",
            "Processing chunk at x=0, y=11264\n",
            "Processing 9 x 9 = 81 patches in this chunk\n"
          ]
        },
        {
          "output_type": "stream",
          "name": "stderr",
          "text": [
            "<ipython-input-4-4172fa463fc8>:314: FutureWarning: `square` is deprecated since version 0.25 and will be removed in version 0.27. Use `skimage.morphology.footprint_rectangle` instead.\n",
            "  risk_chunk_cleaned = opening(risk_chunk, square(3))\n"
          ]
        },
        {
          "output_type": "stream",
          "name": "stdout",
          "text": [
            "Memory usage: 3333.38 MB\n",
            "Processing chunk at x=1024, y=11264\n",
            "Processing 9 x 9 = 81 patches in this chunk\n"
          ]
        },
        {
          "output_type": "stream",
          "name": "stderr",
          "text": [
            "<ipython-input-4-4172fa463fc8>:314: FutureWarning: `square` is deprecated since version 0.25 and will be removed in version 0.27. Use `skimage.morphology.footprint_rectangle` instead.\n",
            "  risk_chunk_cleaned = opening(risk_chunk, square(3))\n"
          ]
        },
        {
          "output_type": "stream",
          "name": "stdout",
          "text": [
            "Memory usage: 3355.89 MB\n",
            "Processing chunk at x=2048, y=11264\n",
            "Processing 9 x 9 = 81 patches in this chunk\n"
          ]
        },
        {
          "output_type": "stream",
          "name": "stderr",
          "text": [
            "<ipython-input-4-4172fa463fc8>:314: FutureWarning: `square` is deprecated since version 0.25 and will be removed in version 0.27. Use `skimage.morphology.footprint_rectangle` instead.\n",
            "  risk_chunk_cleaned = opening(risk_chunk, square(3))\n"
          ]
        },
        {
          "output_type": "stream",
          "name": "stdout",
          "text": [
            "Memory usage: 3375.01 MB\n",
            "Processing chunk at x=3072, y=11264\n",
            "Processing 9 x 9 = 81 patches in this chunk\n"
          ]
        },
        {
          "output_type": "stream",
          "name": "stderr",
          "text": [
            "<ipython-input-4-4172fa463fc8>:314: FutureWarning: `square` is deprecated since version 0.25 and will be removed in version 0.27. Use `skimage.morphology.footprint_rectangle` instead.\n",
            "  risk_chunk_cleaned = opening(risk_chunk, square(3))\n"
          ]
        },
        {
          "output_type": "stream",
          "name": "stdout",
          "text": [
            "Memory usage: 3392.14 MB\n",
            "Processing chunk at x=4096, y=11264\n",
            "Processing 9 x 9 = 81 patches in this chunk\n"
          ]
        },
        {
          "output_type": "stream",
          "name": "stderr",
          "text": [
            "<ipython-input-4-4172fa463fc8>:314: FutureWarning: `square` is deprecated since version 0.25 and will be removed in version 0.27. Use `skimage.morphology.footprint_rectangle` instead.\n",
            "  risk_chunk_cleaned = opening(risk_chunk, square(3))\n"
          ]
        },
        {
          "output_type": "stream",
          "name": "stdout",
          "text": [
            "Memory usage: 3409.13 MB\n",
            "Processing chunk at x=5120, y=11264\n",
            "Processing 9 x 9 = 81 patches in this chunk\n"
          ]
        },
        {
          "output_type": "stream",
          "name": "stderr",
          "text": [
            "<ipython-input-4-4172fa463fc8>:314: FutureWarning: `square` is deprecated since version 0.25 and will be removed in version 0.27. Use `skimage.morphology.footprint_rectangle` instead.\n",
            "  risk_chunk_cleaned = opening(risk_chunk, square(3))\n"
          ]
        },
        {
          "output_type": "stream",
          "name": "stdout",
          "text": [
            "Memory usage: 3427.66 MB\n",
            "Processing chunk at x=6144, y=11264\n",
            "Processing 9 x 9 = 81 patches in this chunk\n"
          ]
        },
        {
          "output_type": "stream",
          "name": "stderr",
          "text": [
            "<ipython-input-4-4172fa463fc8>:314: FutureWarning: `square` is deprecated since version 0.25 and will be removed in version 0.27. Use `skimage.morphology.footprint_rectangle` instead.\n",
            "  risk_chunk_cleaned = opening(risk_chunk, square(3))\n"
          ]
        },
        {
          "output_type": "stream",
          "name": "stdout",
          "text": [
            "Memory usage: 3444.86 MB\n",
            "Processing chunk at x=7168, y=11264\n",
            "Processing 9 x 9 = 81 patches in this chunk\n"
          ]
        },
        {
          "output_type": "stream",
          "name": "stderr",
          "text": [
            "<ipython-input-4-4172fa463fc8>:314: FutureWarning: `square` is deprecated since version 0.25 and will be removed in version 0.27. Use `skimage.morphology.footprint_rectangle` instead.\n",
            "  risk_chunk_cleaned = opening(risk_chunk, square(3))\n"
          ]
        },
        {
          "output_type": "stream",
          "name": "stdout",
          "text": [
            "Memory usage: 3462.18 MB\n",
            "Processing chunk at x=8192, y=11264\n",
            "Processing 9 x 9 = 81 patches in this chunk\n"
          ]
        },
        {
          "output_type": "stream",
          "name": "stderr",
          "text": [
            "<ipython-input-4-4172fa463fc8>:314: FutureWarning: `square` is deprecated since version 0.25 and will be removed in version 0.27. Use `skimage.morphology.footprint_rectangle` instead.\n",
            "  risk_chunk_cleaned = opening(risk_chunk, square(3))\n"
          ]
        },
        {
          "output_type": "stream",
          "name": "stdout",
          "text": [
            "Memory usage: 3480.77 MB\n",
            "Processing chunk at x=9216, y=11264\n",
            "Processing 9 x 9 = 81 patches in this chunk\n"
          ]
        },
        {
          "output_type": "stream",
          "name": "stderr",
          "text": [
            "<ipython-input-4-4172fa463fc8>:314: FutureWarning: `square` is deprecated since version 0.25 and will be removed in version 0.27. Use `skimage.morphology.footprint_rectangle` instead.\n",
            "  risk_chunk_cleaned = opening(risk_chunk, square(3))\n"
          ]
        },
        {
          "output_type": "stream",
          "name": "stdout",
          "text": [
            "Memory usage: 3496.98 MB\n",
            "Processing chunk at x=10240, y=11264\n",
            "Processing 9 x 9 = 81 patches in this chunk\n"
          ]
        },
        {
          "output_type": "stream",
          "name": "stderr",
          "text": [
            "<ipython-input-4-4172fa463fc8>:314: FutureWarning: `square` is deprecated since version 0.25 and will be removed in version 0.27. Use `skimage.morphology.footprint_rectangle` instead.\n",
            "  risk_chunk_cleaned = opening(risk_chunk, square(3))\n"
          ]
        },
        {
          "output_type": "stream",
          "name": "stdout",
          "text": [
            "Memory usage: 3516.12 MB\n",
            "Processing chunk at x=11264, y=11264\n",
            "Processing 9 x 9 = 81 patches in this chunk\n"
          ]
        },
        {
          "output_type": "stream",
          "name": "stderr",
          "text": [
            "<ipython-input-4-4172fa463fc8>:314: FutureWarning: `square` is deprecated since version 0.25 and will be removed in version 0.27. Use `skimage.morphology.footprint_rectangle` instead.\n",
            "  risk_chunk_cleaned = opening(risk_chunk, square(3))\n"
          ]
        },
        {
          "output_type": "stream",
          "name": "stdout",
          "text": [
            "Memory usage: 3532.25 MB\n",
            "Processing chunk at x=0, y=12288\n",
            "Processing 9 x 9 = 81 patches in this chunk\n"
          ]
        },
        {
          "output_type": "stream",
          "name": "stderr",
          "text": [
            "<ipython-input-4-4172fa463fc8>:314: FutureWarning: `square` is deprecated since version 0.25 and will be removed in version 0.27. Use `skimage.morphology.footprint_rectangle` instead.\n",
            "  risk_chunk_cleaned = opening(risk_chunk, square(3))\n"
          ]
        },
        {
          "output_type": "stream",
          "name": "stdout",
          "text": [
            "Memory usage: 3554.85 MB\n",
            "Processing chunk at x=1024, y=12288\n",
            "Processing 9 x 9 = 81 patches in this chunk\n"
          ]
        },
        {
          "output_type": "stream",
          "name": "stderr",
          "text": [
            "<ipython-input-4-4172fa463fc8>:314: FutureWarning: `square` is deprecated since version 0.25 and will be removed in version 0.27. Use `skimage.morphology.footprint_rectangle` instead.\n",
            "  risk_chunk_cleaned = opening(risk_chunk, square(3))\n"
          ]
        },
        {
          "output_type": "stream",
          "name": "stdout",
          "text": [
            "Memory usage: 3582.01 MB\n",
            "Processing chunk at x=2048, y=12288\n",
            "Processing 9 x 9 = 81 patches in this chunk\n"
          ]
        },
        {
          "output_type": "stream",
          "name": "stderr",
          "text": [
            "<ipython-input-4-4172fa463fc8>:314: FutureWarning: `square` is deprecated since version 0.25 and will be removed in version 0.27. Use `skimage.morphology.footprint_rectangle` instead.\n",
            "  risk_chunk_cleaned = opening(risk_chunk, square(3))\n"
          ]
        },
        {
          "output_type": "stream",
          "name": "stdout",
          "text": [
            "Memory usage: 3600.08 MB\n",
            "Processing chunk at x=3072, y=12288\n",
            "Processing 9 x 9 = 81 patches in this chunk\n"
          ]
        },
        {
          "output_type": "stream",
          "name": "stderr",
          "text": [
            "<ipython-input-4-4172fa463fc8>:314: FutureWarning: `square` is deprecated since version 0.25 and will be removed in version 0.27. Use `skimage.morphology.footprint_rectangle` instead.\n",
            "  risk_chunk_cleaned = opening(risk_chunk, square(3))\n"
          ]
        },
        {
          "output_type": "stream",
          "name": "stdout",
          "text": [
            "Memory usage: 3617.54 MB\n",
            "Processing chunk at x=4096, y=12288\n",
            "Processing 9 x 9 = 81 patches in this chunk\n"
          ]
        },
        {
          "output_type": "stream",
          "name": "stderr",
          "text": [
            "<ipython-input-4-4172fa463fc8>:314: FutureWarning: `square` is deprecated since version 0.25 and will be removed in version 0.27. Use `skimage.morphology.footprint_rectangle` instead.\n",
            "  risk_chunk_cleaned = opening(risk_chunk, square(3))\n"
          ]
        },
        {
          "output_type": "stream",
          "name": "stdout",
          "text": [
            "Memory usage: 3633.96 MB\n",
            "Processing chunk at x=5120, y=12288\n",
            "Processing 9 x 9 = 81 patches in this chunk\n"
          ]
        },
        {
          "output_type": "stream",
          "name": "stderr",
          "text": [
            "<ipython-input-4-4172fa463fc8>:314: FutureWarning: `square` is deprecated since version 0.25 and will be removed in version 0.27. Use `skimage.morphology.footprint_rectangle` instead.\n",
            "  risk_chunk_cleaned = opening(risk_chunk, square(3))\n"
          ]
        },
        {
          "output_type": "stream",
          "name": "stdout",
          "text": [
            "Memory usage: 3651.64 MB\n",
            "Processing chunk at x=6144, y=12288\n",
            "Processing 9 x 9 = 81 patches in this chunk\n"
          ]
        },
        {
          "output_type": "stream",
          "name": "stderr",
          "text": [
            "<ipython-input-4-4172fa463fc8>:314: FutureWarning: `square` is deprecated since version 0.25 and will be removed in version 0.27. Use `skimage.morphology.footprint_rectangle` instead.\n",
            "  risk_chunk_cleaned = opening(risk_chunk, square(3))\n"
          ]
        },
        {
          "output_type": "stream",
          "name": "stdout",
          "text": [
            "Memory usage: 3669.30 MB\n",
            "Processing chunk at x=7168, y=12288\n",
            "Processing 9 x 9 = 81 patches in this chunk\n"
          ]
        },
        {
          "output_type": "stream",
          "name": "stderr",
          "text": [
            "<ipython-input-4-4172fa463fc8>:314: FutureWarning: `square` is deprecated since version 0.25 and will be removed in version 0.27. Use `skimage.morphology.footprint_rectangle` instead.\n",
            "  risk_chunk_cleaned = opening(risk_chunk, square(3))\n"
          ]
        },
        {
          "output_type": "stream",
          "name": "stdout",
          "text": [
            "Memory usage: 3688.23 MB\n",
            "Processing chunk at x=8192, y=12288\n",
            "Processing 9 x 9 = 81 patches in this chunk\n"
          ]
        },
        {
          "output_type": "stream",
          "name": "stderr",
          "text": [
            "<ipython-input-4-4172fa463fc8>:314: FutureWarning: `square` is deprecated since version 0.25 and will be removed in version 0.27. Use `skimage.morphology.footprint_rectangle` instead.\n",
            "  risk_chunk_cleaned = opening(risk_chunk, square(3))\n"
          ]
        },
        {
          "output_type": "stream",
          "name": "stdout",
          "text": [
            "Memory usage: 3705.35 MB\n",
            "Processing chunk at x=9216, y=12288\n",
            "Processing 9 x 9 = 81 patches in this chunk\n"
          ]
        },
        {
          "output_type": "stream",
          "name": "stderr",
          "text": [
            "<ipython-input-4-4172fa463fc8>:314: FutureWarning: `square` is deprecated since version 0.25 and will be removed in version 0.27. Use `skimage.morphology.footprint_rectangle` instead.\n",
            "  risk_chunk_cleaned = opening(risk_chunk, square(3))\n"
          ]
        },
        {
          "output_type": "stream",
          "name": "stdout",
          "text": [
            "Memory usage: 3722.37 MB\n",
            "Processing chunk at x=10240, y=12288\n",
            "Processing 9 x 9 = 81 patches in this chunk\n"
          ]
        },
        {
          "output_type": "stream",
          "name": "stderr",
          "text": [
            "<ipython-input-4-4172fa463fc8>:314: FutureWarning: `square` is deprecated since version 0.25 and will be removed in version 0.27. Use `skimage.morphology.footprint_rectangle` instead.\n",
            "  risk_chunk_cleaned = opening(risk_chunk, square(3))\n"
          ]
        },
        {
          "output_type": "stream",
          "name": "stdout",
          "text": [
            "Memory usage: 3741.80 MB\n",
            "Processing chunk at x=11264, y=12288\n",
            "Processing 9 x 9 = 81 patches in this chunk\n"
          ]
        },
        {
          "output_type": "stream",
          "name": "stderr",
          "text": [
            "<ipython-input-4-4172fa463fc8>:314: FutureWarning: `square` is deprecated since version 0.25 and will be removed in version 0.27. Use `skimage.morphology.footprint_rectangle` instead.\n",
            "  risk_chunk_cleaned = opening(risk_chunk, square(3))\n"
          ]
        },
        {
          "output_type": "stream",
          "name": "stdout",
          "text": [
            "Memory usage: 3758.60 MB\n",
            "Processing chunk at x=0, y=13312\n",
            "Processing 9 x 1 = 9 patches in this chunk\n"
          ]
        },
        {
          "output_type": "stream",
          "name": "stderr",
          "text": [
            "<ipython-input-4-4172fa463fc8>:314: FutureWarning: `square` is deprecated since version 0.25 and will be removed in version 0.27. Use `skimage.morphology.footprint_rectangle` instead.\n",
            "  risk_chunk_cleaned = opening(risk_chunk, square(3))\n"
          ]
        },
        {
          "output_type": "stream",
          "name": "stdout",
          "text": [
            "Memory usage: 3758.70 MB\n",
            "Processing chunk at x=1024, y=13312\n",
            "Processing 9 x 1 = 9 patches in this chunk\n"
          ]
        },
        {
          "output_type": "stream",
          "name": "stderr",
          "text": [
            "<ipython-input-4-4172fa463fc8>:314: FutureWarning: `square` is deprecated since version 0.25 and will be removed in version 0.27. Use `skimage.morphology.footprint_rectangle` instead.\n",
            "  risk_chunk_cleaned = opening(risk_chunk, square(3))\n"
          ]
        },
        {
          "output_type": "stream",
          "name": "stdout",
          "text": [
            "Memory usage: 3733.43 MB\n",
            "Processing chunk at x=2048, y=13312\n",
            "Processing 9 x 1 = 9 patches in this chunk\n"
          ]
        },
        {
          "output_type": "stream",
          "name": "stderr",
          "text": [
            "<ipython-input-4-4172fa463fc8>:314: FutureWarning: `square` is deprecated since version 0.25 and will be removed in version 0.27. Use `skimage.morphology.footprint_rectangle` instead.\n",
            "  risk_chunk_cleaned = opening(risk_chunk, square(3))\n"
          ]
        },
        {
          "output_type": "stream",
          "name": "stdout",
          "text": [
            "Memory usage: 3748.24 MB\n",
            "Processing chunk at x=3072, y=13312\n",
            "Processing 9 x 1 = 9 patches in this chunk\n"
          ]
        },
        {
          "output_type": "stream",
          "name": "stderr",
          "text": [
            "<ipython-input-4-4172fa463fc8>:314: FutureWarning: `square` is deprecated since version 0.25 and will be removed in version 0.27. Use `skimage.morphology.footprint_rectangle` instead.\n",
            "  risk_chunk_cleaned = opening(risk_chunk, square(3))\n"
          ]
        },
        {
          "output_type": "stream",
          "name": "stdout",
          "text": [
            "Memory usage: 3748.27 MB\n",
            "Processing chunk at x=4096, y=13312\n",
            "Processing 9 x 1 = 9 patches in this chunk\n"
          ]
        },
        {
          "output_type": "stream",
          "name": "stderr",
          "text": [
            "<ipython-input-4-4172fa463fc8>:314: FutureWarning: `square` is deprecated since version 0.25 and will be removed in version 0.27. Use `skimage.morphology.footprint_rectangle` instead.\n",
            "  risk_chunk_cleaned = opening(risk_chunk, square(3))\n"
          ]
        },
        {
          "output_type": "stream",
          "name": "stdout",
          "text": [
            "Memory usage: 3752.08 MB\n",
            "Processing chunk at x=5120, y=13312\n",
            "Processing 9 x 1 = 9 patches in this chunk\n"
          ]
        },
        {
          "output_type": "stream",
          "name": "stderr",
          "text": [
            "<ipython-input-4-4172fa463fc8>:314: FutureWarning: `square` is deprecated since version 0.25 and will be removed in version 0.27. Use `skimage.morphology.footprint_rectangle` instead.\n",
            "  risk_chunk_cleaned = opening(risk_chunk, square(3))\n"
          ]
        },
        {
          "output_type": "stream",
          "name": "stdout",
          "text": [
            "Memory usage: 3751.97 MB\n",
            "Processing chunk at x=6144, y=13312\n",
            "Processing 9 x 1 = 9 patches in this chunk\n"
          ]
        },
        {
          "output_type": "stream",
          "name": "stderr",
          "text": [
            "<ipython-input-4-4172fa463fc8>:314: FutureWarning: `square` is deprecated since version 0.25 and will be removed in version 0.27. Use `skimage.morphology.footprint_rectangle` instead.\n",
            "  risk_chunk_cleaned = opening(risk_chunk, square(3))\n"
          ]
        },
        {
          "output_type": "stream",
          "name": "stdout",
          "text": [
            "Memory usage: 3754.59 MB\n",
            "Processing chunk at x=7168, y=13312\n",
            "Processing 9 x 1 = 9 patches in this chunk\n"
          ]
        },
        {
          "output_type": "stream",
          "name": "stderr",
          "text": [
            "<ipython-input-4-4172fa463fc8>:314: FutureWarning: `square` is deprecated since version 0.25 and will be removed in version 0.27. Use `skimage.morphology.footprint_rectangle` instead.\n",
            "  risk_chunk_cleaned = opening(risk_chunk, square(3))\n"
          ]
        },
        {
          "output_type": "stream",
          "name": "stdout",
          "text": [
            "Memory usage: 3754.59 MB\n",
            "Processing chunk at x=8192, y=13312\n",
            "Processing 9 x 1 = 9 patches in this chunk\n"
          ]
        },
        {
          "output_type": "stream",
          "name": "stderr",
          "text": [
            "<ipython-input-4-4172fa463fc8>:314: FutureWarning: `square` is deprecated since version 0.25 and will be removed in version 0.27. Use `skimage.morphology.footprint_rectangle` instead.\n",
            "  risk_chunk_cleaned = opening(risk_chunk, square(3))\n"
          ]
        },
        {
          "output_type": "stream",
          "name": "stdout",
          "text": [
            "Memory usage: 3758.66 MB\n",
            "Processing chunk at x=9216, y=13312\n",
            "Processing 9 x 1 = 9 patches in this chunk\n"
          ]
        },
        {
          "output_type": "stream",
          "name": "stderr",
          "text": [
            "<ipython-input-4-4172fa463fc8>:314: FutureWarning: `square` is deprecated since version 0.25 and will be removed in version 0.27. Use `skimage.morphology.footprint_rectangle` instead.\n",
            "  risk_chunk_cleaned = opening(risk_chunk, square(3))\n"
          ]
        },
        {
          "output_type": "stream",
          "name": "stdout",
          "text": [
            "Memory usage: 3760.67 MB\n",
            "Processing chunk at x=10240, y=13312\n",
            "Processing 9 x 1 = 9 patches in this chunk\n"
          ]
        },
        {
          "output_type": "stream",
          "name": "stderr",
          "text": [
            "<ipython-input-4-4172fa463fc8>:314: FutureWarning: `square` is deprecated since version 0.25 and will be removed in version 0.27. Use `skimage.morphology.footprint_rectangle` instead.\n",
            "  risk_chunk_cleaned = opening(risk_chunk, square(3))\n"
          ]
        },
        {
          "output_type": "stream",
          "name": "stdout",
          "text": [
            "Memory usage: 3762.61 MB\n",
            "Processing chunk at x=11264, y=13312\n",
            "Processing 9 x 1 = 9 patches in this chunk\n"
          ]
        },
        {
          "output_type": "stream",
          "name": "stderr",
          "text": [
            "<ipython-input-4-4172fa463fc8>:314: FutureWarning: `square` is deprecated since version 0.25 and will be removed in version 0.27. Use `skimage.morphology.footprint_rectangle` instead.\n",
            "  risk_chunk_cleaned = opening(risk_chunk, square(3))\n"
          ]
        },
        {
          "output_type": "stream",
          "name": "stdout",
          "text": [
            "Memory usage: 3762.42 MB\n",
            "Finished processing main raster.\n",
            "\n",
            "Risk Distribution:\n",
            "Low Risk: 125145742 pixels (76.42%)\n",
            "Medium Risk: 37315918 pixels (22.79%)\n",
            "High Risk: 1291852 pixels (0.79%)\n",
            "\n",
            "Creating visualizations with memory-efficient approach...\n",
            "Creating downsampled overview...\n",
            "Overview visualization complete\n",
            "Creating geographic context map...\n"
          ]
        },
        {
          "output_type": "stream",
          "name": "stderr",
          "text": [
            "/usr/local/lib/python3.11/dist-packages/cartopy/io/__init__.py:241: DownloadWarning: Downloading: https://naturalearth.s3.amazonaws.com/10m_cultural/ne_10m_admin_0_boundary_lines_land.zip\n",
            "  warnings.warn(f'Downloading: {url}', DownloadWarning)\n",
            "/usr/local/lib/python3.11/dist-packages/cartopy/io/__init__.py:241: DownloadWarning: Downloading: https://naturalearth.s3.amazonaws.com/10m_physical/ne_10m_coastline.zip\n",
            "  warnings.warn(f'Downloading: {url}', DownloadWarning)\n",
            "/usr/local/lib/python3.11/dist-packages/cartopy/io/__init__.py:241: DownloadWarning: Downloading: https://naturalearth.s3.amazonaws.com/10m_cultural/ne_10m_admin_1_states_provinces_lakes.zip\n",
            "  warnings.warn(f'Downloading: {url}', DownloadWarning)\n"
          ]
        },
        {
          "output_type": "stream",
          "name": "stdout",
          "text": [
            "Geographic context map complete\n",
            "Creating sample maps from different areas...\n",
            "Created northwest sample visualization\n",
            "Created northeast sample visualization\n",
            "Created southwest sample visualization\n",
            "Created southeast sample visualization\n",
            "Sample maps complete\n",
            "Would you like to create tiled visualizations for detailed inspection? (y/n)\n",
            "y\n",
            "Creating tiled visualizations (this may take time)...\n",
            "Processed tile x0_y0\n",
            "Memory usage: 3958.32 MB\n",
            "Processed tile x1_y0\n",
            "Processed tile x2_y0\n",
            "Processed tile x3_y0\n",
            "Processed tile x4_y0\n",
            "Processed tile x5_y0\n",
            "Processed tile x6_y0\n",
            "Processed tile x7_y0\n",
            "Processed tile x8_y0\n",
            "Processed tile x9_y0\n",
            "Processed tile x10_y0\n",
            "Memory usage: 3961.41 MB\n",
            "Processed tile x11_y0\n",
            "Processed tile x12_y0\n",
            "Processed tile x13_y0\n",
            "Processed tile x14_y0\n",
            "Processed tile x15_y0\n",
            "Processed tile x16_y0\n",
            "Processed tile x17_y0\n",
            "Processed tile x18_y0\n",
            "Processed tile x19_y0\n",
            "Processed tile x20_y0\n",
            "Memory usage: 3967.60 MB\n",
            "Processed tile x21_y0\n",
            "Processed tile x22_y0\n",
            "Processed tile x23_y0\n",
            "Processed tile x24_y0\n",
            "Processed tile x0_y1\n",
            "Processed tile x1_y1\n",
            "Processed tile x2_y1\n",
            "Processed tile x3_y1\n",
            "Processed tile x4_y1\n",
            "Processed tile x5_y1\n",
            "Memory usage: 3973.10 MB\n",
            "Processed tile x6_y1\n",
            "Processed tile x7_y1\n",
            "Processed tile x8_y1\n",
            "Processed tile x9_y1\n",
            "Processed tile x10_y1\n",
            "Processed tile x11_y1\n",
            "Processed tile x12_y1\n",
            "Processed tile x13_y1\n",
            "Processed tile x14_y1\n",
            "Processed tile x15_y1\n",
            "Memory usage: 4008.22 MB\n",
            "Processed tile x16_y1\n",
            "Processed tile x17_y1\n",
            "Processed tile x18_y1\n",
            "Processed tile x19_y1\n",
            "Processed tile x20_y1\n",
            "Processed tile x21_y1\n",
            "Processed tile x22_y1\n",
            "Processed tile x23_y1\n",
            "Processed tile x24_y1\n",
            "Processed tile x0_y2\n",
            "Memory usage: 4047.94 MB\n",
            "Processed tile x1_y2\n",
            "Processed tile x2_y2\n",
            "Processed tile x3_y2\n",
            "Processed tile x4_y2\n",
            "Processed tile x5_y2\n",
            "Processed tile x6_y2\n",
            "Processed tile x7_y2\n",
            "Processed tile x8_y2\n",
            "Processed tile x9_y2\n",
            "Processed tile x10_y2\n",
            "Memory usage: 4082.21 MB\n",
            "Processed tile x11_y2\n",
            "Processed tile x12_y2\n",
            "Processed tile x13_y2\n",
            "Processed tile x14_y2\n",
            "Processed tile x15_y2\n",
            "Processed tile x16_y2\n",
            "Processed tile x17_y2\n",
            "Processed tile x18_y2\n",
            "Processed tile x19_y2\n",
            "Processed tile x20_y2\n",
            "Memory usage: 4116.76 MB\n",
            "Processed tile x21_y2\n",
            "Processed tile x22_y2\n",
            "Processed tile x23_y2\n",
            "Processed tile x24_y2\n",
            "Processed tile x0_y3\n",
            "Processed tile x1_y3\n",
            "Processed tile x2_y3\n",
            "Processed tile x3_y3\n",
            "Processed tile x4_y3\n",
            "Processed tile x5_y3\n",
            "Memory usage: 4156.42 MB\n",
            "Processed tile x6_y3\n",
            "Processed tile x7_y3\n",
            "Processed tile x8_y3\n",
            "Processed tile x9_y3\n",
            "Processed tile x10_y3\n",
            "Processed tile x11_y3\n",
            "Processed tile x12_y3\n",
            "Processed tile x13_y3\n",
            "Processed tile x14_y3\n",
            "Processed tile x15_y3\n",
            "Memory usage: 4190.90 MB\n",
            "Processed tile x16_y3\n",
            "Processed tile x17_y3\n",
            "Processed tile x18_y3\n",
            "Processed tile x19_y3\n",
            "Processed tile x20_y3\n",
            "Processed tile x21_y3\n",
            "Processed tile x22_y3\n",
            "Processed tile x23_y3\n",
            "Processed tile x24_y3\n",
            "Processed tile x0_y4\n",
            "Memory usage: 4230.73 MB\n",
            "Processed tile x1_y4\n",
            "Processed tile x2_y4\n",
            "Processed tile x3_y4\n",
            "Processed tile x4_y4\n",
            "Processed tile x5_y4\n",
            "Processed tile x6_y4\n",
            "Processed tile x7_y4\n",
            "Processed tile x8_y4\n",
            "Processed tile x9_y4\n",
            "Processed tile x10_y4\n",
            "Memory usage: 4264.98 MB\n",
            "Processed tile x11_y4\n",
            "Processed tile x12_y4\n",
            "Processed tile x13_y4\n",
            "Processed tile x14_y4\n",
            "Processed tile x15_y4\n",
            "Processed tile x16_y4\n",
            "Processed tile x17_y4\n",
            "Processed tile x18_y4\n",
            "Processed tile x19_y4\n",
            "Processed tile x20_y4\n",
            "Memory usage: 4299.52 MB\n",
            "Processed tile x21_y4\n",
            "Processed tile x22_y4\n",
            "Processed tile x23_y4\n",
            "Processed tile x24_y4\n",
            "Processed tile x0_y5\n",
            "Processed tile x1_y5\n",
            "Processed tile x2_y5\n",
            "Processed tile x3_y5\n",
            "Processed tile x4_y5\n",
            "Processed tile x5_y5\n",
            "Memory usage: 4339.64 MB\n",
            "Processed tile x6_y5\n",
            "Processed tile x7_y5\n",
            "Processed tile x8_y5\n",
            "Processed tile x9_y5\n",
            "Processed tile x10_y5\n",
            "Processed tile x11_y5\n",
            "Processed tile x12_y5\n",
            "Processed tile x13_y5\n",
            "Processed tile x14_y5\n",
            "Processed tile x15_y5\n",
            "Memory usage: 4374.03 MB\n",
            "Processed tile x16_y5\n",
            "Processed tile x17_y5\n",
            "Processed tile x18_y5\n",
            "Processed tile x19_y5\n",
            "Processed tile x20_y5\n",
            "Processed tile x21_y5\n",
            "Processed tile x22_y5\n",
            "Processed tile x23_y5\n",
            "Processed tile x24_y5\n",
            "Processed tile x0_y6\n",
            "Memory usage: 4413.86 MB\n",
            "Processed tile x1_y6\n",
            "Processed tile x2_y6\n",
            "Processed tile x3_y6\n",
            "Processed tile x4_y6\n",
            "Processed tile x5_y6\n",
            "Processed tile x6_y6\n",
            "Processed tile x7_y6\n",
            "Processed tile x8_y6\n",
            "Processed tile x9_y6\n",
            "Processed tile x10_y6\n",
            "Memory usage: 4448.10 MB\n",
            "Processed tile x11_y6\n",
            "Processed tile x12_y6\n",
            "Processed tile x13_y6\n",
            "Processed tile x14_y6\n",
            "Processed tile x15_y6\n",
            "Processed tile x16_y6\n",
            "Processed tile x17_y6\n",
            "Processed tile x18_y6\n",
            "Processed tile x19_y6\n",
            "Processed tile x20_y6\n",
            "Memory usage: 4482.07 MB\n",
            "Processed tile x21_y6\n",
            "Processed tile x22_y6\n",
            "Processed tile x23_y6\n",
            "Processed tile x24_y6\n",
            "Processed tile x0_y7\n",
            "Processed tile x1_y7\n",
            "Processed tile x2_y7\n",
            "Processed tile x3_y7\n",
            "Processed tile x4_y7\n",
            "Processed tile x5_y7\n",
            "Memory usage: 4522.58 MB\n",
            "Processed tile x6_y7\n",
            "Processed tile x7_y7\n",
            "Processed tile x8_y7\n",
            "Processed tile x9_y7\n",
            "Processed tile x10_y7\n",
            "Processed tile x11_y7\n",
            "Processed tile x12_y7\n",
            "Processed tile x13_y7\n",
            "Processed tile x14_y7\n",
            "Processed tile x15_y7\n",
            "Memory usage: 4555.91 MB\n",
            "Processed tile x16_y7\n",
            "Processed tile x17_y7\n",
            "Processed tile x18_y7\n",
            "Processed tile x19_y7\n",
            "Processed tile x20_y7\n",
            "Processed tile x21_y7\n",
            "Processed tile x22_y7\n",
            "Processed tile x23_y7\n",
            "Processed tile x24_y7\n",
            "Processed tile x0_y8\n",
            "Memory usage: 4595.87 MB\n",
            "Processed tile x1_y8\n",
            "Processed tile x2_y8\n",
            "Processed tile x3_y8\n",
            "Processed tile x4_y8\n",
            "Processed tile x5_y8\n",
            "Processed tile x6_y8\n",
            "Processed tile x7_y8\n",
            "Processed tile x8_y8\n",
            "Processed tile x9_y8\n",
            "Processed tile x10_y8\n",
            "Memory usage: 4630.01 MB\n",
            "Processed tile x11_y8\n",
            "Processed tile x12_y8\n",
            "Processed tile x13_y8\n",
            "Processed tile x14_y8\n",
            "Processed tile x15_y8\n",
            "Processed tile x16_y8\n",
            "Processed tile x17_y8\n",
            "Processed tile x18_y8\n",
            "Processed tile x19_y8\n",
            "Processed tile x20_y8\n",
            "Memory usage: 4664.36 MB\n",
            "Processed tile x21_y8\n",
            "Processed tile x22_y8\n",
            "Processed tile x23_y8\n",
            "Processed tile x24_y8\n",
            "Processed tile x0_y9\n",
            "Processed tile x1_y9\n",
            "Processed tile x2_y9\n",
            "Processed tile x3_y9\n",
            "Processed tile x4_y9\n",
            "Processed tile x5_y9\n",
            "Memory usage: 4704.51 MB\n",
            "Processed tile x6_y9\n",
            "Processed tile x7_y9\n",
            "Processed tile x8_y9\n",
            "Processed tile x9_y9\n",
            "Processed tile x10_y9\n",
            "Processed tile x11_y9\n",
            "Processed tile x12_y9\n",
            "Processed tile x13_y9\n",
            "Processed tile x14_y9\n",
            "Processed tile x15_y9\n",
            "Memory usage: 4738.60 MB\n",
            "Processed tile x16_y9\n",
            "Processed tile x17_y9\n",
            "Processed tile x18_y9\n",
            "Processed tile x19_y9\n",
            "Processed tile x20_y9\n",
            "Processed tile x21_y9\n",
            "Processed tile x22_y9\n",
            "Processed tile x23_y9\n",
            "Processed tile x24_y9\n",
            "Processed tile x0_y10\n",
            "Memory usage: 4778.32 MB\n",
            "Processed tile x1_y10\n",
            "Processed tile x2_y10\n",
            "Processed tile x3_y10\n",
            "Processed tile x4_y10\n",
            "Processed tile x5_y10\n",
            "Processed tile x6_y10\n",
            "Processed tile x7_y10\n",
            "Processed tile x8_y10\n",
            "Processed tile x9_y10\n",
            "Processed tile x10_y10\n",
            "Memory usage: 4812.29 MB\n",
            "Processed tile x11_y10\n",
            "Processed tile x12_y10\n",
            "Processed tile x13_y10\n",
            "Processed tile x14_y10\n",
            "Processed tile x15_y10\n",
            "Processed tile x16_y10\n",
            "Processed tile x17_y10\n",
            "Processed tile x18_y10\n",
            "Processed tile x19_y10\n",
            "Processed tile x20_y10\n",
            "Memory usage: 4846.52 MB\n",
            "Processed tile x21_y10\n",
            "Processed tile x22_y10\n",
            "Processed tile x23_y10\n",
            "Processed tile x24_y10\n",
            "Processed tile x0_y11\n",
            "Processed tile x1_y11\n",
            "Processed tile x2_y11\n",
            "Processed tile x3_y11\n",
            "Processed tile x4_y11\n",
            "Processed tile x5_y11\n",
            "Memory usage: 4886.32 MB\n",
            "Processed tile x6_y11\n",
            "Processed tile x7_y11\n",
            "Processed tile x8_y11\n",
            "Processed tile x9_y11\n",
            "Processed tile x10_y11\n",
            "Processed tile x11_y11\n",
            "Processed tile x12_y11\n",
            "Processed tile x13_y11\n",
            "Processed tile x14_y11\n",
            "Processed tile x15_y11\n",
            "Memory usage: 4920.38 MB\n",
            "Processed tile x16_y11\n",
            "Processed tile x17_y11\n",
            "Processed tile x18_y11\n",
            "Processed tile x19_y11\n",
            "Processed tile x20_y11\n",
            "Processed tile x21_y11\n",
            "Processed tile x22_y11\n",
            "Processed tile x23_y11\n",
            "Processed tile x24_y11\n",
            "Processed tile x0_y12\n",
            "Memory usage: 4960.34 MB\n",
            "Processed tile x1_y12\n",
            "Processed tile x2_y12\n",
            "Processed tile x3_y12\n",
            "Processed tile x4_y12\n",
            "Processed tile x5_y12\n",
            "Processed tile x6_y12\n",
            "Processed tile x7_y12\n",
            "Processed tile x8_y12\n",
            "Processed tile x9_y12\n",
            "Processed tile x10_y12\n",
            "Memory usage: 4994.31 MB\n",
            "Processed tile x11_y12\n",
            "Processed tile x12_y12\n",
            "Processed tile x13_y12\n",
            "Processed tile x14_y12\n",
            "Processed tile x15_y12\n",
            "Processed tile x16_y12\n",
            "Processed tile x17_y12\n",
            "Processed tile x18_y12\n",
            "Processed tile x19_y12\n",
            "Processed tile x20_y12\n",
            "Memory usage: 5028.59 MB\n",
            "Processed tile x21_y12\n",
            "Processed tile x22_y12\n",
            "Processed tile x23_y12\n",
            "Processed tile x24_y12\n",
            "Processed tile x0_y13\n",
            "Processed tile x1_y13\n",
            "Processed tile x2_y13\n",
            "Processed tile x3_y13\n",
            "Processed tile x4_y13\n",
            "Processed tile x5_y13\n",
            "Memory usage: 5068.60 MB\n",
            "Processed tile x6_y13\n",
            "Processed tile x7_y13\n",
            "Processed tile x8_y13\n",
            "Processed tile x9_y13\n",
            "Processed tile x10_y13\n",
            "Processed tile x11_y13\n",
            "Processed tile x12_y13\n",
            "Processed tile x13_y13\n",
            "Processed tile x14_y13\n",
            "Processed tile x15_y13\n",
            "Memory usage: 5102.82 MB\n",
            "Processed tile x16_y13\n",
            "Processed tile x17_y13\n",
            "Processed tile x18_y13\n",
            "Processed tile x19_y13\n",
            "Processed tile x20_y13\n",
            "Processed tile x21_y13\n",
            "Processed tile x22_y13\n",
            "Processed tile x23_y13\n",
            "Processed tile x24_y13\n",
            "Processed tile x0_y14\n",
            "Memory usage: 5142.79 MB\n",
            "Processed tile x1_y14\n",
            "Processed tile x2_y14\n",
            "Processed tile x3_y14\n",
            "Processed tile x4_y14\n",
            "Processed tile x5_y14\n",
            "Processed tile x6_y14\n",
            "Processed tile x7_y14\n",
            "Processed tile x8_y14\n",
            "Processed tile x9_y14\n",
            "Processed tile x10_y14\n",
            "Memory usage: 5176.88 MB\n",
            "Processed tile x11_y14\n",
            "Processed tile x12_y14\n",
            "Processed tile x13_y14\n",
            "Processed tile x14_y14\n",
            "Processed tile x15_y14\n",
            "Processed tile x16_y14\n",
            "Processed tile x17_y14\n",
            "Processed tile x18_y14\n",
            "Processed tile x19_y14\n",
            "Processed tile x20_y14\n",
            "Memory usage: 5210.88 MB\n",
            "Processed tile x21_y14\n",
            "Processed tile x22_y14\n",
            "Processed tile x23_y14\n",
            "Processed tile x24_y14\n",
            "Processed tile x0_y15\n",
            "Processed tile x1_y15\n",
            "Processed tile x2_y15\n",
            "Processed tile x3_y15\n",
            "Processed tile x4_y15\n",
            "Processed tile x5_y15\n",
            "Memory usage: 5250.92 MB\n",
            "Processed tile x6_y15\n",
            "Processed tile x7_y15\n",
            "Processed tile x8_y15\n",
            "Processed tile x9_y15\n",
            "Processed tile x10_y15\n",
            "Processed tile x11_y15\n",
            "Processed tile x12_y15\n",
            "Processed tile x13_y15\n",
            "Processed tile x14_y15\n",
            "Processed tile x15_y15\n",
            "Memory usage: 5285.21 MB\n",
            "Processed tile x16_y15\n",
            "Processed tile x17_y15\n",
            "Processed tile x18_y15\n",
            "Processed tile x19_y15\n",
            "Processed tile x20_y15\n",
            "Processed tile x21_y15\n",
            "Processed tile x22_y15\n",
            "Processed tile x23_y15\n",
            "Processed tile x24_y15\n",
            "Processed tile x0_y16\n",
            "Memory usage: 5324.88 MB\n",
            "Processed tile x1_y16\n",
            "Processed tile x2_y16\n",
            "Processed tile x3_y16\n",
            "Processed tile x4_y16\n",
            "Processed tile x5_y16\n",
            "Processed tile x6_y16\n",
            "Processed tile x7_y16\n",
            "Processed tile x8_y16\n",
            "Processed tile x9_y16\n",
            "Processed tile x10_y16\n",
            "Memory usage: 5358.80 MB\n",
            "Processed tile x11_y16\n",
            "Processed tile x12_y16\n",
            "Processed tile x13_y16\n",
            "Processed tile x14_y16\n",
            "Processed tile x15_y16\n",
            "Processed tile x16_y16\n",
            "Processed tile x17_y16\n",
            "Processed tile x18_y16\n",
            "Processed tile x19_y16\n",
            "Processed tile x20_y16\n",
            "Memory usage: 5396.32 MB\n",
            "Processed tile x21_y16\n",
            "Processed tile x22_y16\n",
            "Processed tile x23_y16\n",
            "Processed tile x24_y16\n",
            "Processed tile x0_y17\n",
            "Processed tile x1_y17\n",
            "Processed tile x2_y17\n",
            "Processed tile x3_y17\n",
            "Processed tile x4_y17\n",
            "Processed tile x5_y17\n",
            "Memory usage: 5439.34 MB\n",
            "Processed tile x6_y17\n",
            "Processed tile x7_y17\n",
            "Processed tile x8_y17\n",
            "Processed tile x9_y17\n",
            "Processed tile x10_y17\n",
            "Processed tile x11_y17\n",
            "Processed tile x12_y17\n",
            "Processed tile x13_y17\n",
            "Processed tile x14_y17\n",
            "Processed tile x15_y17\n",
            "Memory usage: 5477.02 MB\n",
            "Processed tile x16_y17\n",
            "Processed tile x17_y17\n",
            "Processed tile x18_y17\n",
            "Processed tile x19_y17\n",
            "Processed tile x20_y17\n",
            "Processed tile x21_y17\n",
            "Processed tile x22_y17\n",
            "Processed tile x23_y17\n",
            "Processed tile x24_y17\n",
            "Processed tile x0_y18\n",
            "Memory usage: 5520.30 MB\n",
            "Processed tile x1_y18\n",
            "Processed tile x2_y18\n",
            "Processed tile x3_y18\n",
            "Processed tile x4_y18\n",
            "Processed tile x5_y18\n",
            "Processed tile x6_y18\n",
            "Processed tile x7_y18\n",
            "Processed tile x8_y18\n",
            "Processed tile x9_y18\n",
            "Processed tile x10_y18\n",
            "Memory usage: 5558.21 MB\n",
            "Processed tile x11_y18\n",
            "Processed tile x12_y18\n",
            "Processed tile x13_y18\n",
            "Processed tile x14_y18\n",
            "Processed tile x15_y18\n",
            "Processed tile x16_y18\n",
            "Processed tile x17_y18\n",
            "Processed tile x18_y18\n",
            "Processed tile x19_y18\n",
            "Processed tile x20_y18\n",
            "Memory usage: 5596.16 MB\n",
            "Processed tile x21_y18\n",
            "Processed tile x22_y18\n",
            "Processed tile x23_y18\n",
            "Processed tile x24_y18\n",
            "Processed tile x0_y19\n",
            "Processed tile x1_y19\n",
            "Processed tile x2_y19\n",
            "Processed tile x3_y19\n",
            "Processed tile x4_y19\n",
            "Processed tile x5_y19\n",
            "Memory usage: 5638.55 MB\n",
            "Processed tile x6_y19\n",
            "Processed tile x7_y19\n",
            "Processed tile x8_y19\n",
            "Processed tile x9_y19\n",
            "Processed tile x10_y19\n",
            "Processed tile x11_y19\n",
            "Processed tile x12_y19\n",
            "Processed tile x13_y19\n",
            "Processed tile x14_y19\n",
            "Processed tile x15_y19\n",
            "Memory usage: 5676.18 MB\n",
            "Processed tile x16_y19\n",
            "Processed tile x17_y19\n",
            "Processed tile x18_y19\n",
            "Processed tile x19_y19\n",
            "Processed tile x20_y19\n",
            "Processed tile x21_y19\n",
            "Processed tile x22_y19\n",
            "Processed tile x23_y19\n",
            "Processed tile x24_y19\n",
            "Processed tile x0_y20\n",
            "Memory usage: 5719.46 MB\n",
            "Processed tile x1_y20\n",
            "Processed tile x2_y20\n",
            "Processed tile x3_y20\n",
            "Processed tile x4_y20\n",
            "Processed tile x5_y20\n",
            "Processed tile x6_y20\n",
            "Processed tile x7_y20\n",
            "Processed tile x8_y20\n",
            "Processed tile x9_y20\n",
            "Processed tile x10_y20\n",
            "Memory usage: 5757.17 MB\n",
            "Processed tile x11_y20\n",
            "Processed tile x12_y20\n",
            "Processed tile x13_y20\n",
            "Processed tile x14_y20\n",
            "Processed tile x15_y20\n",
            "Processed tile x16_y20\n",
            "Processed tile x17_y20\n",
            "Processed tile x18_y20\n",
            "Processed tile x19_y20\n",
            "Processed tile x20_y20\n",
            "Memory usage: 5794.48 MB\n",
            "Processed tile x21_y20\n",
            "Processed tile x22_y20\n",
            "Processed tile x23_y20\n",
            "Processed tile x24_y20\n",
            "Processed tile x0_y21\n",
            "Processed tile x1_y21\n",
            "Processed tile x2_y21\n",
            "Processed tile x3_y21\n",
            "Processed tile x4_y21\n",
            "Processed tile x5_y21\n",
            "Memory usage: 5837.82 MB\n",
            "Processed tile x6_y21\n",
            "Processed tile x7_y21\n",
            "Processed tile x8_y21\n",
            "Processed tile x9_y21\n",
            "Processed tile x10_y21\n",
            "Processed tile x11_y21\n",
            "Processed tile x12_y21\n",
            "Processed tile x13_y21\n",
            "Processed tile x14_y21\n",
            "Processed tile x15_y21\n",
            "Memory usage: 5875.41 MB\n",
            "Processed tile x16_y21\n",
            "Processed tile x17_y21\n",
            "Processed tile x18_y21\n",
            "Processed tile x19_y21\n",
            "Processed tile x20_y21\n",
            "Processed tile x21_y21\n",
            "Processed tile x22_y21\n",
            "Processed tile x23_y21\n",
            "Processed tile x24_y21\n",
            "Processed tile x0_y22\n",
            "Memory usage: 5918.75 MB\n",
            "Processed tile x1_y22\n",
            "Processed tile x2_y22\n",
            "Processed tile x3_y22\n",
            "Processed tile x4_y22\n",
            "Processed tile x5_y22\n",
            "Processed tile x6_y22\n",
            "Processed tile x7_y22\n",
            "Processed tile x8_y22\n",
            "Processed tile x9_y22\n",
            "Processed tile x10_y22\n",
            "Memory usage: 5956.24 MB\n",
            "Processed tile x11_y22\n",
            "Processed tile x12_y22\n",
            "Processed tile x13_y22\n",
            "Processed tile x14_y22\n",
            "Processed tile x15_y22\n",
            "Processed tile x16_y22\n",
            "Processed tile x17_y22\n",
            "Processed tile x18_y22\n",
            "Processed tile x19_y22\n",
            "Processed tile x20_y22\n",
            "Memory usage: 5993.59 MB\n",
            "Processed tile x21_y22\n",
            "Processed tile x22_y22\n",
            "Processed tile x23_y22\n",
            "Processed tile x24_y22\n",
            "Processed tile x0_y23\n",
            "Processed tile x1_y23\n",
            "Processed tile x2_y23\n",
            "Processed tile x3_y23\n",
            "Processed tile x4_y23\n",
            "Processed tile x5_y23\n",
            "Memory usage: 6036.78 MB\n",
            "Processed tile x6_y23\n",
            "Processed tile x7_y23\n",
            "Processed tile x8_y23\n",
            "Processed tile x9_y23\n",
            "Processed tile x10_y23\n",
            "Processed tile x11_y23\n",
            "Processed tile x12_y23\n",
            "Processed tile x13_y23\n",
            "Processed tile x14_y23\n",
            "Processed tile x15_y23\n",
            "Memory usage: 6074.39 MB\n",
            "Processed tile x16_y23\n",
            "Processed tile x17_y23\n",
            "Processed tile x18_y23\n",
            "Processed tile x19_y23\n",
            "Processed tile x20_y23\n",
            "Processed tile x21_y23\n",
            "Processed tile x22_y23\n",
            "Processed tile x23_y23\n",
            "Processed tile x24_y23\n",
            "Processed tile x0_y24\n",
            "Memory usage: 6117.75 MB\n",
            "Processed tile x1_y24\n",
            "Processed tile x2_y24\n",
            "Processed tile x3_y24\n",
            "Processed tile x4_y24\n",
            "Processed tile x5_y24\n",
            "Processed tile x6_y24\n",
            "Processed tile x7_y24\n",
            "Processed tile x8_y24\n",
            "Processed tile x9_y24\n",
            "Processed tile x10_y24\n",
            "Memory usage: 6155.61 MB\n",
            "Processed tile x11_y24\n",
            "Processed tile x12_y24\n",
            "Processed tile x13_y24\n",
            "Processed tile x14_y24\n",
            "Processed tile x15_y24\n",
            "Processed tile x16_y24\n",
            "Processed tile x17_y24\n",
            "Processed tile x18_y24\n",
            "Processed tile x19_y24\n",
            "Processed tile x20_y24\n",
            "Memory usage: 6193.33 MB\n",
            "Processed tile x21_y24\n",
            "Processed tile x22_y24\n",
            "Processed tile x23_y24\n",
            "Processed tile x24_y24\n",
            "Processed tile x0_y25\n",
            "Processed tile x1_y25\n",
            "Processed tile x2_y25\n",
            "Processed tile x3_y25\n",
            "Processed tile x4_y25\n",
            "Processed tile x5_y25\n",
            "Memory usage: 6235.75 MB\n",
            "Processed tile x6_y25\n",
            "Processed tile x7_y25\n",
            "Processed tile x8_y25\n",
            "Processed tile x9_y25\n",
            "Processed tile x10_y25\n",
            "Processed tile x11_y25\n",
            "Processed tile x12_y25\n"
          ]
        },
        {
          "output_type": "stream",
          "name": "stderr",
          "text": [
            "Exception ignored in: <function _xla_gc_callback at 0x79549159c040>\n",
            "Traceback (most recent call last):\n",
            "  File \"/usr/local/lib/python3.11/dist-packages/jax/_src/lib/__init__.py\", line 96, in _xla_gc_callback\n",
            "    def _xla_gc_callback(*args):\n",
            "    \n",
            "KeyboardInterrupt: \n"
          ]
        },
        {
          "output_type": "stream",
          "name": "stdout",
          "text": [
            "Processed tile x13_y25\n",
            "Processed tile x14_y25\n",
            "Processed tile x15_y25\n",
            "Memory usage: 6273.29 MB\n",
            "Processed tile x16_y25\n",
            "Processed tile x17_y25\n"
          ]
        },
        {
          "output_type": "stream",
          "name": "stderr",
          "text": [
            "Exception ignored in: <function _xla_gc_callback at 0x79549159c040>\n",
            "Traceback (most recent call last):\n",
            "  File \"/usr/local/lib/python3.11/dist-packages/jax/_src/lib/__init__.py\", line 96, in _xla_gc_callback\n",
            "    def _xla_gc_callback(*args):\n",
            "    \n",
            "KeyboardInterrupt: \n"
          ]
        },
        {
          "output_type": "stream",
          "name": "stdout",
          "text": [
            "Processed tile x18_y25\n",
            "Processed tile x19_y25\n",
            "Processed tile x20_y25\n"
          ]
        },
        {
          "output_type": "error",
          "ename": "KeyboardInterrupt",
          "evalue": "",
          "traceback": [
            "\u001b[0;31m---------------------------------------------------------------------------\u001b[0m",
            "\u001b[0;31mKeyboardInterrupt\u001b[0m                         Traceback (most recent call last)",
            "\u001b[0;32m<ipython-input-4-4172fa463fc8>\u001b[0m in \u001b[0;36m<cell line: 0>\u001b[0;34m()\u001b[0m\n\u001b[1;32m    624\u001b[0m     \u001b[0;32mtry\u001b[0m\u001b[0;34m:\u001b[0m\u001b[0;34m\u001b[0m\u001b[0;34m\u001b[0m\u001b[0m\n\u001b[1;32m    625\u001b[0m         \u001b[0mprint\u001b[0m\u001b[0;34m(\u001b[0m\u001b[0;34m\"Creating tiled visualizations (this may take time)...\"\u001b[0m\u001b[0;34m)\u001b[0m\u001b[0;34m\u001b[0m\u001b[0;34m\u001b[0m\u001b[0m\n\u001b[0;32m--> 626\u001b[0;31m         \u001b[0mcreate_tiled_visualizations\u001b[0m\u001b[0;34m(\u001b[0m\u001b[0mOUTPUT_PATH\u001b[0m\u001b[0;34m,\u001b[0m \u001b[0;34m'risk_map_tile'\u001b[0m\u001b[0;34m)\u001b[0m\u001b[0;34m\u001b[0m\u001b[0;34m\u001b[0m\u001b[0m\n\u001b[0m\u001b[1;32m    627\u001b[0m         \u001b[0mprint\u001b[0m\u001b[0;34m(\u001b[0m\u001b[0;34m\"Tiled visualizations complete\"\u001b[0m\u001b[0;34m)\u001b[0m\u001b[0;34m\u001b[0m\u001b[0;34m\u001b[0m\u001b[0m\n\u001b[1;32m    628\u001b[0m     \u001b[0;32mexcept\u001b[0m \u001b[0mException\u001b[0m \u001b[0;32mas\u001b[0m \u001b[0me\u001b[0m\u001b[0;34m:\u001b[0m\u001b[0;34m\u001b[0m\u001b[0;34m\u001b[0m\u001b[0m\n",
            "\u001b[0;32m<ipython-input-4-4172fa463fc8>\u001b[0m in \u001b[0;36mcreate_tiled_visualizations\u001b[0;34m(raster_path, output_prefix, tile_size)\u001b[0m\n\u001b[1;32m    563\u001b[0m                     \u001b[0mplt\u001b[0m\u001b[0;34m.\u001b[0m\u001b[0mfigure\u001b[0m\u001b[0;34m(\u001b[0m\u001b[0mfigsize\u001b[0m\u001b[0;34m=\u001b[0m\u001b[0;34m(\u001b[0m\u001b[0;36m8\u001b[0m\u001b[0;34m,\u001b[0m \u001b[0;36m8\u001b[0m\u001b[0;34m)\u001b[0m\u001b[0;34m)\u001b[0m\u001b[0;34m\u001b[0m\u001b[0;34m\u001b[0m\u001b[0m\n\u001b[1;32m    564\u001b[0m                     \u001b[0mplt\u001b[0m\u001b[0;34m.\u001b[0m\u001b[0mimshow\u001b[0m\u001b[0;34m(\u001b[0m\u001b[0mtile_data\u001b[0m\u001b[0;34m,\u001b[0m \u001b[0mcmap\u001b[0m\u001b[0;34m=\u001b[0m\u001b[0;34m'RdYlGn_r'\u001b[0m\u001b[0;34m,\u001b[0m \u001b[0mvmin\u001b[0m\u001b[0;34m=\u001b[0m\u001b[0;36m0\u001b[0m\u001b[0;34m,\u001b[0m \u001b[0mvmax\u001b[0m\u001b[0;34m=\u001b[0m\u001b[0;36m2\u001b[0m\u001b[0;34m)\u001b[0m\u001b[0;34m\u001b[0m\u001b[0;34m\u001b[0m\u001b[0m\n\u001b[0;32m--> 565\u001b[0;31m                     \u001b[0mplt\u001b[0m\u001b[0;34m.\u001b[0m\u001b[0mcolorbar\u001b[0m\u001b[0;34m(\u001b[0m\u001b[0mticks\u001b[0m\u001b[0;34m=\u001b[0m\u001b[0;34m[\u001b[0m\u001b[0;36m0\u001b[0m\u001b[0;34m,\u001b[0m \u001b[0;36m1\u001b[0m\u001b[0;34m,\u001b[0m \u001b[0;36m2\u001b[0m\u001b[0;34m]\u001b[0m\u001b[0;34m,\u001b[0m \u001b[0mlabel\u001b[0m\u001b[0;34m=\u001b[0m\u001b[0;34m'Risk Level'\u001b[0m\u001b[0;34m)\u001b[0m\u001b[0;34m.\u001b[0m\u001b[0mset_ticklabels\u001b[0m\u001b[0;34m(\u001b[0m\u001b[0;34m[\u001b[0m\u001b[0;34m'Low'\u001b[0m\u001b[0;34m,\u001b[0m \u001b[0;34m'Medium'\u001b[0m\u001b[0;34m,\u001b[0m \u001b[0;34m'High'\u001b[0m\u001b[0;34m]\u001b[0m\u001b[0;34m)\u001b[0m\u001b[0;34m\u001b[0m\u001b[0;34m\u001b[0m\u001b[0m\n\u001b[0m\u001b[1;32m    566\u001b[0m                     \u001b[0mplt\u001b[0m\u001b[0;34m.\u001b[0m\u001b[0mtitle\u001b[0m\u001b[0;34m(\u001b[0m\u001b[0;34mf'Landslide Risk Map Tile {tile_id}'\u001b[0m\u001b[0;34m)\u001b[0m\u001b[0;34m\u001b[0m\u001b[0;34m\u001b[0m\u001b[0m\n\u001b[1;32m    567\u001b[0m \u001b[0;34m\u001b[0m\u001b[0m\n",
            "\u001b[0;32m/usr/local/lib/python3.11/dist-packages/matplotlib/pyplot.py\u001b[0m in \u001b[0;36mcolorbar\u001b[0;34m(mappable, cax, ax, **kwargs)\u001b[0m\n\u001b[1;32m   2530\u001b[0m                                \u001b[0;34m'an image (with imshow) or a contour set ('\u001b[0m\u001b[0;34m\u001b[0m\u001b[0;34m\u001b[0m\u001b[0m\n\u001b[1;32m   2531\u001b[0m                                'with contourf).')\n\u001b[0;32m-> 2532\u001b[0;31m     \u001b[0mret\u001b[0m \u001b[0;34m=\u001b[0m \u001b[0mgcf\u001b[0m\u001b[0;34m(\u001b[0m\u001b[0;34m)\u001b[0m\u001b[0;34m.\u001b[0m\u001b[0mcolorbar\u001b[0m\u001b[0;34m(\u001b[0m\u001b[0mmappable\u001b[0m\u001b[0;34m,\u001b[0m \u001b[0mcax\u001b[0m\u001b[0;34m=\u001b[0m\u001b[0mcax\u001b[0m\u001b[0;34m,\u001b[0m \u001b[0max\u001b[0m\u001b[0;34m=\u001b[0m\u001b[0max\u001b[0m\u001b[0;34m,\u001b[0m \u001b[0;34m**\u001b[0m\u001b[0mkwargs\u001b[0m\u001b[0;34m)\u001b[0m\u001b[0;34m\u001b[0m\u001b[0;34m\u001b[0m\u001b[0m\n\u001b[0m\u001b[1;32m   2533\u001b[0m     \u001b[0;32mreturn\u001b[0m \u001b[0mret\u001b[0m\u001b[0;34m\u001b[0m\u001b[0;34m\u001b[0m\u001b[0m\n\u001b[1;32m   2534\u001b[0m \u001b[0;34m\u001b[0m\u001b[0m\n",
            "\u001b[0;32m/usr/local/lib/python3.11/dist-packages/matplotlib/figure.py\u001b[0m in \u001b[0;36mcolorbar\u001b[0;34m(self, mappable, cax, ax, use_gridspec, **kwargs)\u001b[0m\n\u001b[1;32m   1287\u001b[0m                     \u001b[0;32mand\u001b[0m \u001b[0misinstance\u001b[0m\u001b[0;34m(\u001b[0m\u001b[0max\u001b[0m\u001b[0;34m,\u001b[0m \u001b[0mmpl\u001b[0m\u001b[0;34m.\u001b[0m\u001b[0maxes\u001b[0m\u001b[0;34m.\u001b[0m\u001b[0m_base\u001b[0m\u001b[0;34m.\u001b[0m\u001b[0m_AxesBase\u001b[0m\u001b[0;34m)\u001b[0m\u001b[0;34m\u001b[0m\u001b[0;34m\u001b[0m\u001b[0m\n\u001b[1;32m   1288\u001b[0m                     and ax.get_subplotspec()):\n\u001b[0;32m-> 1289\u001b[0;31m                 \u001b[0mcax\u001b[0m\u001b[0;34m,\u001b[0m \u001b[0mkwargs\u001b[0m \u001b[0;34m=\u001b[0m \u001b[0mcbar\u001b[0m\u001b[0;34m.\u001b[0m\u001b[0mmake_axes_gridspec\u001b[0m\u001b[0;34m(\u001b[0m\u001b[0max\u001b[0m\u001b[0;34m,\u001b[0m \u001b[0;34m**\u001b[0m\u001b[0mkwargs\u001b[0m\u001b[0;34m)\u001b[0m\u001b[0;34m\u001b[0m\u001b[0;34m\u001b[0m\u001b[0m\n\u001b[0m\u001b[1;32m   1290\u001b[0m             \u001b[0;32melse\u001b[0m\u001b[0;34m:\u001b[0m\u001b[0;34m\u001b[0m\u001b[0;34m\u001b[0m\u001b[0m\n\u001b[1;32m   1291\u001b[0m                 \u001b[0mcax\u001b[0m\u001b[0;34m,\u001b[0m \u001b[0mkwargs\u001b[0m \u001b[0;34m=\u001b[0m \u001b[0mcbar\u001b[0m\u001b[0;34m.\u001b[0m\u001b[0mmake_axes\u001b[0m\u001b[0;34m(\u001b[0m\u001b[0max\u001b[0m\u001b[0;34m,\u001b[0m \u001b[0;34m**\u001b[0m\u001b[0mkwargs\u001b[0m\u001b[0;34m)\u001b[0m\u001b[0;34m\u001b[0m\u001b[0;34m\u001b[0m\u001b[0m\n",
            "\u001b[0;32m/usr/local/lib/python3.11/dist-packages/matplotlib/colorbar.py\u001b[0m in \u001b[0;36mmake_axes_gridspec\u001b[0;34m(parent, location, orientation, fraction, shrink, aspect, **kwargs)\u001b[0m\n\u001b[1;32m   1547\u001b[0m         \u001b[0maspect\u001b[0m \u001b[0;34m=\u001b[0m \u001b[0;36m1\u001b[0m \u001b[0;34m/\u001b[0m \u001b[0maspect\u001b[0m\u001b[0;34m\u001b[0m\u001b[0;34m\u001b[0m\u001b[0m\n\u001b[1;32m   1548\u001b[0m \u001b[0;34m\u001b[0m\u001b[0m\n\u001b[0;32m-> 1549\u001b[0;31m     \u001b[0mparent\u001b[0m\u001b[0;34m.\u001b[0m\u001b[0mset_subplotspec\u001b[0m\u001b[0;34m(\u001b[0m\u001b[0mss_main\u001b[0m\u001b[0;34m)\u001b[0m\u001b[0;34m\u001b[0m\u001b[0;34m\u001b[0m\u001b[0m\n\u001b[0m\u001b[1;32m   1550\u001b[0m     \u001b[0;32mif\u001b[0m \u001b[0mpanchor\u001b[0m \u001b[0;32mis\u001b[0m \u001b[0;32mnot\u001b[0m \u001b[0;32mFalse\u001b[0m\u001b[0;34m:\u001b[0m\u001b[0;34m\u001b[0m\u001b[0;34m\u001b[0m\u001b[0m\n\u001b[1;32m   1551\u001b[0m         \u001b[0mparent\u001b[0m\u001b[0;34m.\u001b[0m\u001b[0mset_anchor\u001b[0m\u001b[0;34m(\u001b[0m\u001b[0mpanchor\u001b[0m\u001b[0;34m)\u001b[0m\u001b[0;34m\u001b[0m\u001b[0;34m\u001b[0m\u001b[0m\n",
            "\u001b[0;32m/usr/local/lib/python3.11/dist-packages/matplotlib/axes/_base.py\u001b[0m in \u001b[0;36mset_subplotspec\u001b[0;34m(self, subplotspec)\u001b[0m\n\u001b[1;32m    804\u001b[0m         \u001b[0;34m\"\"\"Set the `.SubplotSpec`. associated with the subplot.\"\"\"\u001b[0m\u001b[0;34m\u001b[0m\u001b[0;34m\u001b[0m\u001b[0m\n\u001b[1;32m    805\u001b[0m         \u001b[0mself\u001b[0m\u001b[0;34m.\u001b[0m\u001b[0m_subplotspec\u001b[0m \u001b[0;34m=\u001b[0m \u001b[0msubplotspec\u001b[0m\u001b[0;34m\u001b[0m\u001b[0;34m\u001b[0m\u001b[0m\n\u001b[0;32m--> 806\u001b[0;31m         \u001b[0mself\u001b[0m\u001b[0;34m.\u001b[0m\u001b[0m_set_position\u001b[0m\u001b[0;34m(\u001b[0m\u001b[0msubplotspec\u001b[0m\u001b[0;34m.\u001b[0m\u001b[0mget_position\u001b[0m\u001b[0;34m(\u001b[0m\u001b[0mself\u001b[0m\u001b[0;34m.\u001b[0m\u001b[0mget_figure\u001b[0m\u001b[0;34m(\u001b[0m\u001b[0mroot\u001b[0m\u001b[0;34m=\u001b[0m\u001b[0;32mFalse\u001b[0m\u001b[0;34m)\u001b[0m\u001b[0;34m)\u001b[0m\u001b[0;34m)\u001b[0m\u001b[0;34m\u001b[0m\u001b[0;34m\u001b[0m\u001b[0m\n\u001b[0m\u001b[1;32m    807\u001b[0m \u001b[0;34m\u001b[0m\u001b[0m\n\u001b[1;32m    808\u001b[0m     \u001b[0;32mdef\u001b[0m \u001b[0mget_gridspec\u001b[0m\u001b[0;34m(\u001b[0m\u001b[0mself\u001b[0m\u001b[0;34m)\u001b[0m\u001b[0;34m:\u001b[0m\u001b[0;34m\u001b[0m\u001b[0;34m\u001b[0m\u001b[0m\n",
            "\u001b[0;32m/usr/local/lib/python3.11/dist-packages/matplotlib/gridspec.py\u001b[0m in \u001b[0;36mget_position\u001b[0;34m(self, figure)\u001b[0m\n\u001b[1;32m    654\u001b[0m         \u001b[0mrows\u001b[0m\u001b[0;34m,\u001b[0m \u001b[0mcols\u001b[0m \u001b[0;34m=\u001b[0m \u001b[0mnp\u001b[0m\u001b[0;34m.\u001b[0m\u001b[0munravel_index\u001b[0m\u001b[0;34m(\u001b[0m\u001b[0;34m[\u001b[0m\u001b[0mself\u001b[0m\u001b[0;34m.\u001b[0m\u001b[0mnum1\u001b[0m\u001b[0;34m,\u001b[0m \u001b[0mself\u001b[0m\u001b[0;34m.\u001b[0m\u001b[0mnum2\u001b[0m\u001b[0;34m]\u001b[0m\u001b[0;34m,\u001b[0m \u001b[0;34m(\u001b[0m\u001b[0mnrows\u001b[0m\u001b[0;34m,\u001b[0m \u001b[0mncols\u001b[0m\u001b[0;34m)\u001b[0m\u001b[0;34m)\u001b[0m\u001b[0;34m\u001b[0m\u001b[0;34m\u001b[0m\u001b[0m\n\u001b[1;32m    655\u001b[0m         \u001b[0mfig_bottoms\u001b[0m\u001b[0;34m,\u001b[0m \u001b[0mfig_tops\u001b[0m\u001b[0;34m,\u001b[0m \u001b[0mfig_lefts\u001b[0m\u001b[0;34m,\u001b[0m \u001b[0mfig_rights\u001b[0m \u001b[0;34m=\u001b[0m\u001b[0;31m \u001b[0m\u001b[0;31m\\\u001b[0m\u001b[0;34m\u001b[0m\u001b[0;34m\u001b[0m\u001b[0m\n\u001b[0;32m--> 656\u001b[0;31m             \u001b[0mgridspec\u001b[0m\u001b[0;34m.\u001b[0m\u001b[0mget_grid_positions\u001b[0m\u001b[0;34m(\u001b[0m\u001b[0mfigure\u001b[0m\u001b[0;34m)\u001b[0m\u001b[0;34m\u001b[0m\u001b[0;34m\u001b[0m\u001b[0m\n\u001b[0m\u001b[1;32m    657\u001b[0m \u001b[0;34m\u001b[0m\u001b[0m\n\u001b[1;32m    658\u001b[0m         \u001b[0mfig_bottom\u001b[0m \u001b[0;34m=\u001b[0m \u001b[0mfig_bottoms\u001b[0m\u001b[0;34m[\u001b[0m\u001b[0mrows\u001b[0m\u001b[0;34m]\u001b[0m\u001b[0;34m.\u001b[0m\u001b[0mmin\u001b[0m\u001b[0;34m(\u001b[0m\u001b[0;34m)\u001b[0m\u001b[0;34m\u001b[0m\u001b[0;34m\u001b[0m\u001b[0m\n",
            "\u001b[0;32m/usr/local/lib/python3.11/dist-packages/matplotlib/gridspec.py\u001b[0m in \u001b[0;36mget_grid_positions\u001b[0;34m(self, fig)\u001b[0m\n\u001b[1;32m    175\u001b[0m         \u001b[0mcell_heights\u001b[0m \u001b[0;34m=\u001b[0m \u001b[0;34m[\u001b[0m\u001b[0mr\u001b[0m \u001b[0;34m*\u001b[0m \u001b[0mnorm\u001b[0m \u001b[0;32mfor\u001b[0m \u001b[0mr\u001b[0m \u001b[0;32min\u001b[0m \u001b[0mself\u001b[0m\u001b[0;34m.\u001b[0m\u001b[0m_row_height_ratios\u001b[0m\u001b[0;34m]\u001b[0m\u001b[0;34m\u001b[0m\u001b[0;34m\u001b[0m\u001b[0m\n\u001b[1;32m    176\u001b[0m         \u001b[0msep_heights\u001b[0m \u001b[0;34m=\u001b[0m \u001b[0;34m[\u001b[0m\u001b[0;36m0\u001b[0m\u001b[0;34m]\u001b[0m \u001b[0;34m+\u001b[0m \u001b[0;34m(\u001b[0m\u001b[0;34m[\u001b[0m\u001b[0msep_h\u001b[0m\u001b[0;34m]\u001b[0m \u001b[0;34m*\u001b[0m \u001b[0;34m(\u001b[0m\u001b[0mnrows\u001b[0m\u001b[0;34m-\u001b[0m\u001b[0;36m1\u001b[0m\u001b[0;34m)\u001b[0m\u001b[0;34m)\u001b[0m\u001b[0;34m\u001b[0m\u001b[0;34m\u001b[0m\u001b[0m\n\u001b[0;32m--> 177\u001b[0;31m         \u001b[0mcell_hs\u001b[0m \u001b[0;34m=\u001b[0m \u001b[0mnp\u001b[0m\u001b[0;34m.\u001b[0m\u001b[0mcumsum\u001b[0m\u001b[0;34m(\u001b[0m\u001b[0mnp\u001b[0m\u001b[0;34m.\u001b[0m\u001b[0mcolumn_stack\u001b[0m\u001b[0;34m(\u001b[0m\u001b[0;34m[\u001b[0m\u001b[0msep_heights\u001b[0m\u001b[0;34m,\u001b[0m \u001b[0mcell_heights\u001b[0m\u001b[0;34m]\u001b[0m\u001b[0;34m)\u001b[0m\u001b[0;34m.\u001b[0m\u001b[0mflat\u001b[0m\u001b[0;34m)\u001b[0m\u001b[0;34m\u001b[0m\u001b[0;34m\u001b[0m\u001b[0m\n\u001b[0m\u001b[1;32m    178\u001b[0m \u001b[0;34m\u001b[0m\u001b[0m\n\u001b[1;32m    179\u001b[0m         \u001b[0;31m# calculate accumulated widths of rows\u001b[0m\u001b[0;34m\u001b[0m\u001b[0;34m\u001b[0m\u001b[0m\n",
            "\u001b[0;32m/usr/local/lib/python3.11/dist-packages/numpy/core/overrides.py\u001b[0m in \u001b[0;36mcumsum\u001b[0;34m(*args, **kwargs)\u001b[0m\n",
            "\u001b[0;32m/usr/local/lib/python3.11/dist-packages/numpy/core/fromnumeric.py\u001b[0m in \u001b[0;36mcumsum\u001b[0;34m(a, axis, dtype, out)\u001b[0m\n\u001b[1;32m   2569\u001b[0m \u001b[0;34m\u001b[0m\u001b[0m\n\u001b[1;32m   2570\u001b[0m     \"\"\"\n\u001b[0;32m-> 2571\u001b[0;31m     \u001b[0;32mreturn\u001b[0m \u001b[0m_wrapfunc\u001b[0m\u001b[0;34m(\u001b[0m\u001b[0ma\u001b[0m\u001b[0;34m,\u001b[0m \u001b[0;34m'cumsum'\u001b[0m\u001b[0;34m,\u001b[0m \u001b[0maxis\u001b[0m\u001b[0;34m=\u001b[0m\u001b[0maxis\u001b[0m\u001b[0;34m,\u001b[0m \u001b[0mdtype\u001b[0m\u001b[0;34m=\u001b[0m\u001b[0mdtype\u001b[0m\u001b[0;34m,\u001b[0m \u001b[0mout\u001b[0m\u001b[0;34m=\u001b[0m\u001b[0mout\u001b[0m\u001b[0;34m)\u001b[0m\u001b[0;34m\u001b[0m\u001b[0;34m\u001b[0m\u001b[0m\n\u001b[0m\u001b[1;32m   2572\u001b[0m \u001b[0;34m\u001b[0m\u001b[0m\n\u001b[1;32m   2573\u001b[0m \u001b[0;34m\u001b[0m\u001b[0m\n",
            "\u001b[0;32m/usr/local/lib/python3.11/dist-packages/numpy/core/fromnumeric.py\u001b[0m in \u001b[0;36m_wrapfunc\u001b[0;34m(obj, method, *args, **kwds)\u001b[0m\n\u001b[1;32m     52\u001b[0m     \u001b[0mbound\u001b[0m \u001b[0;34m=\u001b[0m \u001b[0mgetattr\u001b[0m\u001b[0;34m(\u001b[0m\u001b[0mobj\u001b[0m\u001b[0;34m,\u001b[0m \u001b[0mmethod\u001b[0m\u001b[0;34m,\u001b[0m \u001b[0;32mNone\u001b[0m\u001b[0;34m)\u001b[0m\u001b[0;34m\u001b[0m\u001b[0;34m\u001b[0m\u001b[0m\n\u001b[1;32m     53\u001b[0m     \u001b[0;32mif\u001b[0m \u001b[0mbound\u001b[0m \u001b[0;32mis\u001b[0m \u001b[0;32mNone\u001b[0m\u001b[0;34m:\u001b[0m\u001b[0;34m\u001b[0m\u001b[0;34m\u001b[0m\u001b[0m\n\u001b[0;32m---> 54\u001b[0;31m         \u001b[0;32mreturn\u001b[0m \u001b[0m_wrapit\u001b[0m\u001b[0;34m(\u001b[0m\u001b[0mobj\u001b[0m\u001b[0;34m,\u001b[0m \u001b[0mmethod\u001b[0m\u001b[0;34m,\u001b[0m \u001b[0;34m*\u001b[0m\u001b[0margs\u001b[0m\u001b[0;34m,\u001b[0m \u001b[0;34m**\u001b[0m\u001b[0mkwds\u001b[0m\u001b[0;34m)\u001b[0m\u001b[0;34m\u001b[0m\u001b[0;34m\u001b[0m\u001b[0m\n\u001b[0m\u001b[1;32m     55\u001b[0m \u001b[0;34m\u001b[0m\u001b[0m\n\u001b[1;32m     56\u001b[0m     \u001b[0;32mtry\u001b[0m\u001b[0;34m:\u001b[0m\u001b[0;34m\u001b[0m\u001b[0;34m\u001b[0m\u001b[0m\n",
            "\u001b[0;32m/usr/local/lib/python3.11/dist-packages/numpy/core/fromnumeric.py\u001b[0m in \u001b[0;36m_wrapit\u001b[0;34m(obj, method, *args, **kwds)\u001b[0m\n\u001b[1;32m     41\u001b[0m     \u001b[0;32mexcept\u001b[0m \u001b[0mAttributeError\u001b[0m\u001b[0;34m:\u001b[0m\u001b[0;34m\u001b[0m\u001b[0;34m\u001b[0m\u001b[0m\n\u001b[1;32m     42\u001b[0m         \u001b[0mwrap\u001b[0m \u001b[0;34m=\u001b[0m \u001b[0;32mNone\u001b[0m\u001b[0;34m\u001b[0m\u001b[0;34m\u001b[0m\u001b[0m\n\u001b[0;32m---> 43\u001b[0;31m     \u001b[0mresult\u001b[0m \u001b[0;34m=\u001b[0m \u001b[0mgetattr\u001b[0m\u001b[0;34m(\u001b[0m\u001b[0masarray\u001b[0m\u001b[0;34m(\u001b[0m\u001b[0mobj\u001b[0m\u001b[0;34m)\u001b[0m\u001b[0;34m,\u001b[0m \u001b[0mmethod\u001b[0m\u001b[0;34m)\u001b[0m\u001b[0;34m(\u001b[0m\u001b[0;34m*\u001b[0m\u001b[0margs\u001b[0m\u001b[0;34m,\u001b[0m \u001b[0;34m**\u001b[0m\u001b[0mkwds\u001b[0m\u001b[0;34m)\u001b[0m\u001b[0;34m\u001b[0m\u001b[0;34m\u001b[0m\u001b[0m\n\u001b[0m\u001b[1;32m     44\u001b[0m     \u001b[0;32mif\u001b[0m \u001b[0mwrap\u001b[0m\u001b[0;34m:\u001b[0m\u001b[0;34m\u001b[0m\u001b[0;34m\u001b[0m\u001b[0m\n\u001b[1;32m     45\u001b[0m         \u001b[0;32mif\u001b[0m \u001b[0;32mnot\u001b[0m \u001b[0misinstance\u001b[0m\u001b[0;34m(\u001b[0m\u001b[0mresult\u001b[0m\u001b[0;34m,\u001b[0m \u001b[0mmu\u001b[0m\u001b[0;34m.\u001b[0m\u001b[0mndarray\u001b[0m\u001b[0;34m)\u001b[0m\u001b[0;34m:\u001b[0m\u001b[0;34m\u001b[0m\u001b[0;34m\u001b[0m\u001b[0m\n",
            "\u001b[0;31mKeyboardInterrupt\u001b[0m: "
          ]
        },
        {
          "output_type": "display_data",
          "data": {
            "text/plain": [
              "<Figure size 800x800 with 1 Axes>"
            ],
            "image/png": "[encoded data removed]"
          },
          "metadata": {}
        }
      ],
      "source": [
        "#!/usr/bin/env python3\n",
        "# Memory-Efficient Landslide Risk Assessment Pipeline\n",
        "# Author: Your Name\n",
        "# Date: Current Date\n",
        "\n",
        "import numpy as np\n",
        "import matplotlib.pyplot as plt\n",
        "import os\n",
        "import rasterio\n",
        "from rasterio.warp import reproject, Resampling\n",
        "from rasterio.windows import Window\n",
        "from rasterio.plot import show\n",
        "import tensorflow as tf\n",
        "from tensorflow.keras import backend as K\n",
        "from tensorflow.keras.models import load_model\n",
        "from google.colab import drive\n",
        "from skimage.morphology import opening, square\n",
        "import math\n",
        "import gc  # Garbage collection\n",
        "import psutil  # For memory monitoring\n",
        "import cartopy.crs as ccrs\n",
        "import cartopy.feature as cfeature\n",
        "import matplotlib.patches as mpatches\n",
        "import tempfile\n",
        "\n",
        "# Memory usage reporting function\n",
        "def print_memory_usage():\n",
        "    process = psutil.Process(os.getpid())\n",
        "    mem_info = process.memory_info()\n",
        "    print(f\"Memory usage: {mem_info.rss / (1024 * 1024):.2f} MB\")\n",
        "\n",
        "# Mount Google Drive\n",
        "drive.mount('/content/drive')\n",
        "os.chdir(r'/content/drive/MyDrive/Landslide Detection System')\n",
        "print_memory_usage()\n",
        "\n",
        "# Custom Metrics and Loss (must match your training)\n",
        "def recall_m(y_true, y_pred):\n",
        "    true_positives = K.sum(K.round(K.clip(y_true * y_pred, 0, 1)))\n",
        "    possible_positives = K.sum(K.round(K.clip(y_true, 0, 1)))\n",
        "    recall = true_positives / (possible_positives + K.epsilon())\n",
        "    return recall\n",
        "\n",
        "def precision_m(y_true, y_pred):\n",
        "    true_positives = K.sum(K.round(K.clip(y_true * y_pred, 0, 1)))\n",
        "    predicted_positives = K.sum(K.round(K.clip(y_pred, 0, 1)))\n",
        "    precision = true_positives / (predicted_positives + K.epsilon())\n",
        "    return precision\n",
        "\n",
        "def f1_m(y_true, y_pred):\n",
        "    precision = precision_m(y_true, y_pred)\n",
        "    recall = recall_m(y_true, y_pred)\n",
        "    return 2*((precision*recall)/(precision+recall+K.epsilon()))\n",
        "\n",
        "def dice_loss(y_true, y_pred):\n",
        "    y_true = tf.cast(y_true, tf.float32)\n",
        "    y_pred = tf.math.sigmoid(y_pred)\n",
        "    numerator = 2 * tf.reduce_sum(y_true * y_pred)\n",
        "    denominator = tf.reduce_sum(y_true + y_pred)\n",
        "    return 1 - numerator / denominator\n",
        "\n",
        "# File Paths (Update these to match your Drive)\n",
        "NDVI_PATH = 'NDVI_Sikkim_2022.tif'  # From GEE\n",
        "SLOPE_PATH = 'Slope_Sikkim.tif'  # From GEE\n",
        "OUTPUT_PATH = 'risk_map.tif'\n",
        "\n",
        "# TEMP DIRECTORY for intermediary files\n",
        "TEMP_DIR = os.path.join(os.getcwd(), 'temp_landslide_processing')\n",
        "os.makedirs(TEMP_DIR, exist_ok=True)\n",
        "\n",
        "# First, get the metadata without loading the full rasters\n",
        "with rasterio.open(NDVI_PATH) as src:\n",
        "    height, width = src.height, src.width\n",
        "    ndvi_meta = src.meta.copy()\n",
        "    transform = src.transform\n",
        "    crs = src.crs\n",
        "    bounds = src.bounds\n",
        "\n",
        "print(f\"Image dimensions: {width} x {height}\")\n",
        "print(f\"Coordinate bounds: {bounds}\")\n",
        "print(f\"CRS: {crs}\")\n",
        "print_memory_usage()\n",
        "\n",
        "# Configuration\n",
        "PATCH_SIZE = 128  # Size expected by the model\n",
        "PROCESSING_CHUNK = 1024  # Size of chunks to process (adjust based on available RAM)\n",
        "overlap = 16  # Overlap between patches\n",
        "\n",
        "# Load the model (this needs to be in memory throughout)\n",
        "print(\"Loading model...\")\n",
        "model = load_model('best_model.h5', custom_objects={\n",
        "    'dice_loss': dice_loss,\n",
        "    'f1_m': f1_m,\n",
        "    'precision_m': precision_m,\n",
        "    'recall_m': recall_m\n",
        "})\n",
        "print_memory_usage()\n",
        "\n",
        "# Get summary of input shapes to ensure right data is being fed\n",
        "model.summary()\n",
        "\n",
        "# Risk thresholds - adjust these for better distribution of risk levels\n",
        "NDVI_LOW_THRESHOLD = 0.3    # Vegetation threshold for risk\n",
        "NDVI_VERY_LOW_THRESHOLD = 0.1  # Very low vegetation\n",
        "SLOPE_THRESHOLD = 30        # Degrees - moderate risk\n",
        "SLOPE_HIGH_THRESHOLD = 45   # Degrees - high risk\n",
        "MODEL_CONFIDENCE_THRESHOLD = 0.5  # Model prediction threshold\n",
        "\n",
        "# Prepare the output file - create it with the same metadata as input\n",
        "# But ensure we preserve the geospatial information\n",
        "output_meta = ndvi_meta.copy()\n",
        "output_meta.update(\n",
        "    dtype=rasterio.uint8,\n",
        "    count=1,\n",
        "    compress='lzw',\n",
        "    nodata=255  # Set a nodata value\n",
        ")\n",
        "\n",
        "# Initialize tracking variables for risk distribution\n",
        "risk_distribution = {0: 0, 1: 0, 2: 0}\n",
        "\n",
        "# Function to save risk distribution incrementally\n",
        "def update_risk_distribution_file(risk_counts):\n",
        "    dist_file = os.path.join(TEMP_DIR, 'risk_distribution.npz')\n",
        "\n",
        "    if os.path.exists(dist_file):\n",
        "        # Load existing data\n",
        "        existing_data = np.load(dist_file)\n",
        "        total_dist = {int(k): int(v) for k, v in dict(existing_data).items()}\n",
        "\n",
        "        # Update with new counts\n",
        "        for k, v in risk_counts.items():\n",
        "            total_dist[k] = total_dist.get(k, 0) + v\n",
        "    else:\n",
        "        # Create new file\n",
        "        total_dist = risk_counts\n",
        "    total_dist_str_keys = {str(k): v for k, v in total_dist.items()}\n",
        "    # Save updated distribution\n",
        "    np.savez(dist_file, **total_dist_str_keys)\n",
        "    return total_dist\n",
        "\n",
        "# Process raster in chunks\n",
        "with rasterio.open(OUTPUT_PATH, 'w', **output_meta) as dst:\n",
        "    # Process in larger chunks to reduce disk I/O, but not so large to exceed memory\n",
        "    for y_chunk in range(0, height, PROCESSING_CHUNK):\n",
        "        for x_chunk in range(0, width, PROCESSING_CHUNK):\n",
        "            print(f\"Processing chunk at x={x_chunk}, y={y_chunk}\")\n",
        "\n",
        "            # Calculate chunk dimensions, handling edge cases\n",
        "            chunk_width = min(PROCESSING_CHUNK, width - x_chunk)\n",
        "            chunk_height = min(PROCESSING_CHUNK, height - y_chunk)\n",
        "\n",
        "            # Read just this chunk of data from both rasters\n",
        "            with rasterio.open(NDVI_PATH) as ndvi_src:\n",
        "                ndvi_chunk = ndvi_src.read(1, window=Window(x_chunk, y_chunk, chunk_width, chunk_height))\n",
        "\n",
        "            with rasterio.open(SLOPE_PATH) as slope_src:\n",
        "                # Create empty array for the reprojected slope data\n",
        "                slope_chunk = np.empty_like(ndvi_chunk)\n",
        "\n",
        "                # Reproject just for this chunk\n",
        "                reproject(\n",
        "                    source=rasterio.band(slope_src, 1),\n",
        "                    destination=slope_chunk,\n",
        "                    src_transform=slope_src.transform,\n",
        "                    dst_transform=transform,\n",
        "                    src_crs=slope_src.crs,\n",
        "                    dst_crs=crs,\n",
        "                    resampling=Resampling.bilinear,\n",
        "                    dst_shape=ndvi_chunk.shape,\n",
        "                    src_window=Window(\n",
        "                        x_chunk * slope_src.width // width,\n",
        "                        y_chunk * slope_src.height // height,\n",
        "                        chunk_width * slope_src.width // width,\n",
        "                        chunk_height * slope_src.height // height\n",
        "                    )\n",
        "                )\n",
        "\n",
        "            # Create empty prediction array for this chunk\n",
        "            landslide_chunk = np.zeros_like(ndvi_chunk, dtype=np.float32)\n",
        "\n",
        "            # Calculate the number of patches needed for this chunk\n",
        "            stride = PATCH_SIZE - overlap\n",
        "            patches_x = math.ceil((chunk_width - overlap) / stride) if chunk_width > PATCH_SIZE else 1\n",
        "            patches_y = math.ceil((chunk_height - overlap) / stride) if chunk_height > PATCH_SIZE else 1\n",
        "\n",
        "            print(f\"Processing {patches_x} x {patches_y} = {patches_x * patches_y} patches in this chunk\")\n",
        "\n",
        "            # Process each patch in this chunk\n",
        "            for y in range(patches_y):\n",
        "                for x in range(patches_x):\n",
        "                    # Calculate patch coordinates relative to chunk\n",
        "                    x_start = x * stride\n",
        "                    y_start = y * stride\n",
        "\n",
        "                    # Make sure we don't go out of chunk bounds\n",
        "                    x_end = min(x_start + PATCH_SIZE, chunk_width)\n",
        "                    y_end = min(y_start + PATCH_SIZE, chunk_height)\n",
        "\n",
        "                    # Adjust start coordinates for last patches\n",
        "                    x_start = max(0, x_end - PATCH_SIZE)\n",
        "                    y_start = max(0, y_end - PATCH_SIZE)\n",
        "\n",
        "                    # Extract patches\n",
        "                    ndvi_patch = ndvi_chunk[y_start:y_end, x_start:x_end]\n",
        "                    slope_patch = slope_chunk[y_start:y_end, x_start:x_end]\n",
        "\n",
        "                    # Normalize inputs\n",
        "                    ndvi_norm = (ndvi_patch + 1) / 2  # [-1,1] to [0,1]\n",
        "                    slope_norm = slope_patch / 90.0   # [0°,90°] to [0,1]\n",
        "\n",
        "                    # Handle edge cases where patch might be smaller than PATCH_SIZE\n",
        "                    if ndvi_patch.shape[0] < PATCH_SIZE or ndvi_patch.shape[1] < PATCH_SIZE:\n",
        "                        # Create arrays of the right size\n",
        "                        temp_ndvi = np.zeros((PATCH_SIZE, PATCH_SIZE))\n",
        "                        temp_slope = np.zeros((PATCH_SIZE, PATCH_SIZE))\n",
        "\n",
        "                        # Copy the actual data\n",
        "                        temp_ndvi[:ndvi_patch.shape[0], :ndvi_patch.shape[1]] = ndvi_norm\n",
        "                        temp_slope[:slope_patch.shape[0], :slope_patch.shape[1]] = slope_norm\n",
        "\n",
        "                        ndvi_norm = temp_ndvi\n",
        "                        slope_norm = temp_slope\n",
        "\n",
        "                    # Create dummy bands\n",
        "                    dummy_bands = np.zeros((PATCH_SIZE, PATCH_SIZE, 4))  # R, G, B, Elevation\n",
        "\n",
        "                    # Stack bands [R,G,B,NDVI,Slope,Elevation]\n",
        "                    input_stack = np.dstack((\n",
        "                        dummy_bands[:,:,0], dummy_bands[:,:,1], dummy_bands[:,:,2],\n",
        "                        ndvi_norm,\n",
        "                        slope_norm,\n",
        "                        dummy_bands[:,:,3]\n",
        "                    ))\n",
        "\n",
        "                    # Add batch dimension\n",
        "                    input_data = np.expand_dims(input_stack, axis=0)\n",
        "\n",
        "                    # Make prediction\n",
        "                    prediction = model.predict(input_data, verbose=0)[0, :, :, 0]\n",
        "\n",
        "                    # Get valid part of the prediction\n",
        "                    valid_height = min(PATCH_SIZE, y_end - y_start)\n",
        "                    valid_width = min(PATCH_SIZE, x_end - x_start)\n",
        "                    valid_prediction = prediction[:valid_height, :valid_width]\n",
        "\n",
        "                    # Apply weighted averaging for overlapping regions\n",
        "                    if overlap > 0:\n",
        "                        # Create weight map (higher in center, lower at edges)\n",
        "                        weight_map = np.ones_like(valid_prediction)\n",
        "\n",
        "                        # Weight the left/top edges if not first patch\n",
        "                        if x > 0:\n",
        "                            for i in range(overlap):\n",
        "                                weight_map[:, i] = i / overlap\n",
        "                        if y > 0:\n",
        "                            for i in range(overlap):\n",
        "                                weight_map[i, :] *= i / overlap\n",
        "\n",
        "                        # Weight right/bottom edges if not last patch\n",
        "                        if x < patches_x - 1 and x_start + valid_width < chunk_width:\n",
        "                            for i in range(overlap):\n",
        "                                weight_map[:, valid_width - i - 1] = i / overlap\n",
        "                        if y < patches_y - 1 and y_start + valid_height < chunk_height:\n",
        "                            for i in range(overlap):\n",
        "                                weight_map[valid_height - i - 1, :] *= i / overlap\n",
        "\n",
        "                        # Apply weights\n",
        "                        weighted_prediction = valid_prediction * weight_map\n",
        "                        landslide_chunk[y_start:y_end, x_start:x_end] += weighted_prediction\n",
        "                    else:\n",
        "                        landslide_chunk[y_start:y_end, x_start:x_end] = valid_prediction\n",
        "\n",
        "                    # Clean up intermediary variables after each patch\n",
        "                    del ndvi_norm, slope_norm, input_stack, input_data, prediction\n",
        "                    gc.collect()\n",
        "\n",
        "            # Normalize overlapped values\n",
        "            if overlap > 0:\n",
        "                max_val = np.max(landslide_chunk)\n",
        "                if max_val > 1.0:\n",
        "                    landslide_chunk = landslide_chunk / max_val\n",
        "\n",
        "            # Apply threshold for binary mask\n",
        "            binary_chunk = (landslide_chunk > MODEL_CONFIDENCE_THRESHOLD).astype(np.uint8)\n",
        "\n",
        "            # Create risk map for this chunk - IMPROVED RISK CLASSIFICATION\n",
        "            risk_chunk = np.zeros_like(ndvi_chunk, dtype=np.uint8)\n",
        "\n",
        "            # The NDVI values were normalized, but the risk classification uses raw values\n",
        "            # Convert normalized values back to original range for NDVI for consistency\n",
        "            ndvi_original = ndvi_chunk  # This is the unnormalized NDVI\n",
        "\n",
        "            # Low Risk (0): Stable areas with good vegetation coverage and gentle slopes\n",
        "            # Medium Risk (1): Areas with either less vegetation OR steeper slopes\n",
        "            # High Risk (2): Areas with less vegetation AND steeper slopes, or model predicts landslide\n",
        "\n",
        "            # Medium risk conditions\n",
        "            medium_risk = (\n",
        "                ((ndvi_original < NDVI_LOW_THRESHOLD) & (ndvi_original >= NDVI_VERY_LOW_THRESHOLD)) |\n",
        "                ((slope_chunk > SLOPE_THRESHOLD) & (slope_chunk <= SLOPE_HIGH_THRESHOLD))\n",
        "            )\n",
        "            risk_chunk[medium_risk] = 1\n",
        "\n",
        "            # High risk conditions\n",
        "            high_risk = (\n",
        "                ((ndvi_original < NDVI_VERY_LOW_THRESHOLD) & (slope_chunk > SLOPE_THRESHOLD)) |\n",
        "                ((binary_chunk == 1) & (ndvi_original < NDVI_LOW_THRESHOLD)) |\n",
        "                (slope_chunk > SLOPE_HIGH_THRESHOLD)\n",
        "            )\n",
        "            risk_chunk[high_risk] = 2\n",
        "\n",
        "            # Apply opening to remove noise\n",
        "            risk_chunk_cleaned = opening(risk_chunk, square(3))\n",
        "\n",
        "            # Update risk distribution counts\n",
        "            unique, counts = np.unique(risk_chunk_cleaned, return_counts=True)\n",
        "            risk_counts = dict(zip(unique, counts))\n",
        "\n",
        "            # Save risk distribution incrementally\n",
        "            risk_distribution = update_risk_distribution_file(risk_counts)\n",
        "\n",
        "            # Write this chunk to the output file\n",
        "            dst.write(risk_chunk_cleaned, 1, window=Window(x_chunk, y_chunk, chunk_width, chunk_height))\n",
        "\n",
        "            # Free memory\n",
        "            del ndvi_chunk, slope_chunk, landslide_chunk, binary_chunk, risk_chunk, risk_chunk_cleaned\n",
        "            gc.collect()\n",
        "            print_memory_usage()\n",
        "\n",
        "print(\"Finished processing main raster.\")\n",
        "\n",
        "# Load final risk distribution from file\n",
        "dist_file = os.path.join(TEMP_DIR, 'risk_distribution.npz')\n",
        "if os.path.exists(dist_file):\n",
        "    loaded_dist = np.load(dist_file)\n",
        "    risk_distribution = {int(k): int(v) for k, v in dict(loaded_dist).items()}\n",
        "\n",
        "# Calculate risk distribution percentages\n",
        "total_pixels = sum(risk_distribution.values())\n",
        "print(\"\\nRisk Distribution:\")\n",
        "for risk_level, count in risk_distribution.items():\n",
        "    percentage = (count / total_pixels) * 100\n",
        "    risk_name = {0: \"Low\", 1: \"Medium\", 2: \"High\"}.get(risk_level, \"Unknown\")\n",
        "    print(f\"{risk_name} Risk: {count} pixels ({percentage:.2f}%)\")\n",
        "\n",
        "# Create visualization of risk distribution - small and memory-efficient\n",
        "plt.figure(figsize=(10, 6))\n",
        "risk_names = ['Low', 'Medium', 'High']\n",
        "risk_values = [risk_distribution.get(i, 0) for i in range(3)]\n",
        "risk_percentages = [(count / total_pixels) * 100 for count in risk_values]\n",
        "\n",
        "plt.bar(risk_names, risk_percentages, color=['green', 'yellow', 'red'])\n",
        "plt.title('Landslide Risk Distribution in Sikkim (2022)')\n",
        "plt.ylabel('Percentage of Area (%)')\n",
        "plt.ylim(0, 100)\n",
        "for i, v in enumerate(risk_percentages):\n",
        "    plt.text(i, v + 1, f\"{v:.1f}%\", ha='center')\n",
        "plt.tight_layout()\n",
        "plt.savefig('risk_distribution.png', dpi=200)\n",
        "plt.close()\n",
        "\n",
        "# Function to create efficient downsampled visualizations\n",
        "def create_downsampled_visualization(raster_path, output_file, max_size=2000):\n",
        "    \"\"\"Create a memory-efficient visualization of large rasters\"\"\"\n",
        "    with rasterio.open(raster_path) as src:\n",
        "        # Get dimensions\n",
        "        height, width = src.height, src.width\n",
        "\n",
        "        # Calculate downsample factor to fit within max_size\n",
        "        downsample_factor = max(1, max(height, width) // max_size)\n",
        "\n",
        "        # Calculate output dimensions\n",
        "        out_height = height // downsample_factor\n",
        "        out_width = width // downsample_factor\n",
        "\n",
        "        # Create output array\n",
        "        output = np.zeros((out_height, out_width), dtype=np.uint8)\n",
        "\n",
        "        # Process in chunks\n",
        "        chunk_size = 1000  # Adjust based on memory constraints\n",
        "\n",
        "        for y in range(0, height, chunk_size * downsample_factor):\n",
        "            for x in range(0, width, chunk_size * downsample_factor):\n",
        "                # Calculate actual chunk size (handling edges)\n",
        "                actual_height = min(chunk_size * downsample_factor, height - y)\n",
        "                actual_width = min(chunk_size * downsample_factor, width - x)\n",
        "\n",
        "                # Read chunk\n",
        "                chunk = src.read(1, window=Window(x, y, actual_width, actual_height))\n",
        "\n",
        "                # Calculate output indices\n",
        "                out_y = y // downsample_factor\n",
        "                out_x = x // downsample_factor\n",
        "                out_height_chunk = actual_height // downsample_factor\n",
        "                out_width_chunk = actual_width // downsample_factor\n",
        "\n",
        "                # Downsample by taking every nth pixel (fast but less accurate)\n",
        "                # For better quality but slower performance, use proper resampling\n",
        "                downsampled = chunk[::downsample_factor, ::downsample_factor]\n",
        "\n",
        "                # Handle edge cases where downsampled might be smaller\n",
        "                valid_h = min(out_height_chunk, downsampled.shape[0])\n",
        "                valid_w = min(out_width_chunk, downsampled.shape[1])\n",
        "\n",
        "                # Place in output array\n",
        "                output[out_y:out_y+valid_h, out_x:out_x+valid_w] = downsampled[:valid_h, :valid_w]\n",
        "\n",
        "                # Clean up\n",
        "                del chunk, downsampled\n",
        "                gc.collect()\n",
        "\n",
        "        # Create visualization\n",
        "        plt.figure(figsize=(12, 10))\n",
        "        plt.imshow(output, cmap='RdYlGn_r', vmin=0, vmax=2)\n",
        "        cbar = plt.colorbar(ticks=[0, 1, 2])\n",
        "        cbar.set_label('Risk Level')\n",
        "        cbar.set_ticklabels(['Low', 'Medium', 'High'])\n",
        "        plt.title('Landslide Risk Map (Downsampled)')\n",
        "        plt.savefig(output_file, dpi=200)\n",
        "        plt.close()\n",
        "\n",
        "        return output\n",
        "\n",
        "# Create a simplified georeferenced map\n",
        "def create_simple_geo_map(raster_path, output_file):\n",
        "    \"\"\"Create a simplified georeferenced map with geographic context\"\"\"\n",
        "    # Get geographic bounds from metadata\n",
        "    with rasterio.open(raster_path) as src:\n",
        "        bounds = src.bounds\n",
        "        west, south, east, north = bounds\n",
        "\n",
        "    # Create only the context map to reduce memory usage\n",
        "    fig = plt.figure(figsize=(12, 8))\n",
        "    ax = plt.axes(projection=ccrs.PlateCarree())\n",
        "\n",
        "    # Add context\n",
        "    ax.set_extent([87.0, 89.5, 26.5, 28.5], crs=ccrs.PlateCarree())\n",
        "    ax.add_feature(cfeature.BORDERS, linestyle='-', alpha=0.7)\n",
        "    ax.add_feature(cfeature.COASTLINE)\n",
        "    ax.add_feature(cfeature.STATES, linestyle=':', alpha=0.7)\n",
        "\n",
        "    # Add the ROI rectangle\n",
        "    roi_rect = plt.Rectangle((west, south), east-west, north-south,\n",
        "                            edgecolor='red', facecolor='none', linewidth=2,\n",
        "                            transform=ccrs.PlateCarree())\n",
        "    ax.add_patch(roi_rect)\n",
        "\n",
        "    # Add Sikkim ROI\n",
        "    sikkim_roi = plt.Rectangle((87.9, 27.0), 89.0-87.9, 28.2-27.0,\n",
        "                              edgecolor='blue', facecolor='none', linewidth=2,\n",
        "                              transform=ccrs.PlateCarree())\n",
        "    ax.add_patch(sikkim_roi)\n",
        "\n",
        "    # Add labels\n",
        "    ax.text(88.5, 27.33, 'SIKKIM', transform=ccrs.PlateCarree(),\n",
        "            fontsize=10, fontweight='bold')\n",
        "    ax.text(88.0, 26.7, 'WEST BENGAL', transform=ccrs.PlateCarree(), fontsize=8)\n",
        "    ax.text(89.2, 27.5, 'BHUTAN', transform=ccrs.PlateCarree(), fontsize=8)\n",
        "    ax.text(88.0, 28.3, 'TIBET (CHINA)', transform=ccrs.PlateCarree(), fontsize=8)\n",
        "    ax.text(87.5, 27.3, 'NEPAL', transform=ccrs.PlateCarree(), fontsize=8)\n",
        "\n",
        "    # Add legend\n",
        "    red_patch = mpatches.Patch(color='red', label='Risk Map Area')\n",
        "    blue_patch = mpatches.Patch(color='blue', label='Sikkim ROI')\n",
        "    ax.legend(handles=[red_patch, blue_patch], loc='lower right')\n",
        "\n",
        "    ax.set_title('Sikkim Landslide Risk Assessment: Geographic Context')\n",
        "    ax.gridlines(draw_labels=True, alpha=0.5)\n",
        "\n",
        "    plt.tight_layout()\n",
        "    plt.savefig(output_file, dpi=200)\n",
        "    plt.close()\n",
        "\n",
        "    return True\n",
        "\n",
        "# Create localized sample maps from different parts of the risk map\n",
        "def create_sample_maps(raster_path, num_samples=4):\n",
        "    \"\"\"Create sample visualizations from different parts of the risk map\"\"\"\n",
        "    with rasterio.open(raster_path) as src:\n",
        "        height, width = src.height, src.width\n",
        "\n",
        "        # Define sample locations (corners and center)\n",
        "        sample_size = min(1000, min(width, height) // 2)\n",
        "\n",
        "        locations = [\n",
        "            (0, 0, \"northwest\"),  # NW corner\n",
        "            (width - sample_size, 0, \"northeast\"),  # NE corner\n",
        "            (0, height - sample_size, \"southwest\"),  # SW corner\n",
        "            (width - sample_size, height - sample_size, \"southeast\"),  # SE corner\n",
        "            (width//2 - sample_size//2, height//2 - sample_size//2, \"center\")  # Center\n",
        "        ]\n",
        "\n",
        "        for i, (x, y, position) in enumerate(locations):\n",
        "            if i >= num_samples:\n",
        "                break\n",
        "\n",
        "            try:\n",
        "                # Read sample\n",
        "                sample = src.read(1, window=Window(x, y, sample_size, sample_size))\n",
        "\n",
        "                # Calculate the bounds of this sample\n",
        "                sample_transform = src.window_transform(Window(x, y, sample_size, sample_size))\n",
        "                sample_bounds = rasterio.transform.array_bounds(sample.shape[0], sample.shape[1], sample_transform)\n",
        "\n",
        "                # Create visualization\n",
        "                plt.figure(figsize=(8, 8))\n",
        "                plt.imshow(sample, cmap='RdYlGn_r', vmin=0, vmax=2)\n",
        "                plt.colorbar(ticks=[0, 1, 2], label='Risk Level').set_ticklabels(['Low', 'Medium', 'High'])\n",
        "                plt.title(f'Landslide Risk Sample - {position.upper()}')\n",
        "\n",
        "                # Save\n",
        "                plt.savefig(f'risk_map_sample_{position}.png', dpi=150)\n",
        "                plt.close()\n",
        "\n",
        "                # Clean up\n",
        "                del sample\n",
        "                gc.collect()\n",
        "\n",
        "                print(f\"Created {position} sample visualization\")\n",
        "\n",
        "            except Exception as e:\n",
        "                print(f\"Error creating {position} sample: {e}\")\n",
        "\n",
        "        return True\n",
        "\n",
        "# Create tiled visualizations to avoid memory issues\n",
        "def create_tiled_visualizations(raster_path, output_prefix, tile_size=500):\n",
        "    \"\"\"Create visualizations in tiles to avoid memory issues\"\"\"\n",
        "    with rasterio.open(raster_path) as src:\n",
        "        height, width = src.height, src.width\n",
        "\n",
        "        # Calculate number of tiles\n",
        "        tiles_x = math.ceil(width / tile_size)\n",
        "        tiles_y = math.ceil(height / tile_size)\n",
        "\n",
        "        # Create a log file to track processed tiles\n",
        "        log_file = os.path.join(TEMP_DIR, 'tile_processing_log.txt')\n",
        "\n",
        "        # Process tiles with checkpoint system\n",
        "        for y_tile in range(tiles_y):\n",
        "            for x_tile in range(tiles_x):\n",
        "                # Check if this tile has already been processed\n",
        "                tile_id = f\"x{x_tile}_y{y_tile}\"\n",
        "                tile_output = f\"{output_prefix}_{tile_id}.png\"\n",
        "\n",
        "                # Skip if already processed\n",
        "                if os.path.exists(tile_output):\n",
        "                    print(f\"Tile {tile_id} already processed, skipping.\")\n",
        "                    continue\n",
        "\n",
        "                # Calculate tile bounds\n",
        "                x_start = x_tile * tile_size\n",
        "                y_start = y_tile * tile_size\n",
        "                x_size = min(tile_size, width - x_start)\n",
        "                y_size = min(tile_size, height - y_start)\n",
        "\n",
        "                try:\n",
        "                    # Read tile data\n",
        "                    tile_data = src.read(1, window=Window(x_start, y_start, x_size, y_size))\n",
        "\n",
        "                    # Create visualization\n",
        "                    plt.figure(figsize=(8, 8))\n",
        "                    plt.imshow(tile_data, cmap='RdYlGn_r', vmin=0, vmax=2)\n",
        "                    plt.colorbar(ticks=[0, 1, 2], label='Risk Level').set_ticklabels(['Low', 'Medium', 'High'])\n",
        "                    plt.title(f'Landslide Risk Map Tile {tile_id}')\n",
        "\n",
        "                    # Save\n",
        "                    plt.savefig(tile_output, dpi=150)\n",
        "                    plt.close()\n",
        "\n",
        "                    # Log completion\n",
        "                    with open(log_file, 'a') as log:\n",
        "                        log.write(f\"Processed tile {tile_id}\\n\")\n",
        "\n",
        "                    print(f\"Processed tile {tile_id}\")\n",
        "\n",
        "                    # Clean up\n",
        "                    del tile_data\n",
        "                    gc.collect()\n",
        "\n",
        "                except Exception as e:\n",
        "                    print(f\"Error processing tile {tile_id}: {e}\")\n",
        "\n",
        "                # Periodically clear matplotlib cache\n",
        "                if (y_tile * tiles_x + x_tile) % 10 == 0:\n",
        "                    plt.close('all')\n",
        "                    gc.collect()\n",
        "                    print_memory_usage()\n",
        "\n",
        "        return True\n",
        "\n",
        "# Create visualization of the risk map with progressive approach\n",
        "print(\"\\nCreating visualizations with memory-efficient approach...\")\n",
        "\n",
        "# 1. Create downsampled overview first\n",
        "try:\n",
        "    print(\"Creating downsampled overview...\")\n",
        "    create_downsampled_visualization(OUTPUT_PATH, 'risk_map_overview.png')\n",
        "    print(\"Overview visualization complete\")\n",
        "except Exception as e:\n",
        "    print(f\"Error creating overview: {e}\")\n",
        "\n",
        "# 2. Create geographic context map\n",
        "try:\n",
        "    print(\"Creating geographic context map...\")\n",
        "    create_simple_geo_map(OUTPUT_PATH, 'risk_map_geo_context.png')\n",
        "    print(\"Geographic context map complete\")\n",
        "except Exception as e:\n",
        "    print(f\"Error creating geographic context: {e}\")\n",
        "\n",
        "# 3. Create sample maps from different areas\n",
        "try:\n",
        "    print(\"Creating sample maps from different areas...\")\n",
        "    create_sample_maps(OUTPUT_PATH)\n",
        "    print(\"Sample maps complete\")\n",
        "except Exception as e:\n",
        "    print(f\"Error creating sample maps: {e}\")\n",
        "\n",
        "# 4. Create tiled visualizations if needed for detailed inspection\n",
        "print(\"Would you like to create tiled visualizations for detailed inspection? (y/n)\")\n",
        "response = input().lower()\n",
        "if response.startswith('y'):\n",
        "    try:\n",
        "        print(\"Creating tiled visualizations (this may take time)...\")\n",
        "        create_tiled_visualizations(OUTPUT_PATH, 'risk_map_tile')\n",
        "        print(\"Tiled visualizations complete\")\n",
        "    except Exception as e:\n",
        "        print(f\"Error creating tiled visualizations: {e}\")\n",
        "\n",
        "# Clean up temporary files if needed\n",
        "try:\n",
        "    # Keep distribution data but remove other temporary files\n",
        "    temp_files = [f for f in os.listdir(TEMP_DIR) if not f.endswith('risk_distribution.npz')]\n",
        "    for f in temp_files:\n",
        "        os.remove(os.path.join(TEMP_DIR, f))\n",
        "    print(f\"Cleaned up {len(temp_files)} temporary files\")\n",
        "except Exception as e:\n",
        "    print(f\"Error cleaning up temporary files: {e}\")\n",
        "\n",
        "print(\"\\nPipeline completed successfully!\")\n",
        "print(f\"Full risk map saved to: {OUTPUT_PATH}\")\n",
        "print(f\"Risk distribution visualization saved to: risk_distribution.png\")\n",
        "print(f\"Overview visualization saved to: risk_map_overview.png\")\n",
        "print(f\"Geographic context map saved to: risk_map_geo_context.png\")\n",
        "print(f\"Sample visualizations saved with prefix: risk_map_sample_*.png\")\n",
        "\n",
        "# Final memory usage report\n",
        "print_memory_usage()"
      ]
    }
  ]
}